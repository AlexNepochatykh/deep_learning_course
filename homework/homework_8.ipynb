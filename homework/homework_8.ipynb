{
 "cells": [
  {
   "cell_type": "markdown",
   "metadata": {
    "colab": {
     "base_uri": "https://localhost:8080/",
     "height": 134
    },
    "colab_type": "code",
    "id": "-YlRH3mQM9tf",
    "outputId": "7dab71c7-06c5-40ad-ae40-5f42e50e596c"
   },
   "source": [
    "### Задание \n",
    "\n",
    "Возьмите англо-русскую пару фраз (https://www.manythings.org/anki/).   \n",
    "Обучите на них seq2seq по аналогии с занятием. Оцените полученное качество.   \n",
    "Попробуйте добавить +1 рекуррентный в encoder и decoder.   \n",
    "Попробуйте заменить GRU ячейки на lstm-ячейки.   \n",
    "Оцените качество во всех случаях.   \n",
    "\n",
    "Задание со звездочкой: Оптимизировать лекционный ноутбук. (добавить батчи и избавиться от прохода по Input тензору по одному за раз)"
   ]
  },
  {
   "cell_type": "code",
   "execution_count": null,
   "metadata": {},
   "outputs": [],
   "source": [
    "# подгружаем данные в colab\n",
    "from google.colab import files\n",
    "\n",
    "uploaded = files.upload()\n",
    "\n",
    "for fn in uploaded.keys():\n",
    "    print('User uploaded file \"{name}\" with length {length} bytes'.format(\n",
    "      name=fn, length=len(uploaded[fn])))    "
   ]
  },
  {
   "cell_type": "code",
   "execution_count": null,
   "metadata": {
    "colab": {},
    "colab_type": "code",
    "id": "mYUIYuMI_33V"
   },
   "outputs": [],
   "source": [
    "%matplotlib inline"
   ]
  },
  {
   "cell_type": "code",
   "execution_count": null,
   "metadata": {
    "colab": {},
    "colab_type": "code",
    "id": "MIEGXF8oM9tt"
   },
   "outputs": [],
   "source": [
    "from io import open\n",
    "import unicodedata\n",
    "import string\n",
    "import re\n",
    "import random\n",
    "\n",
    "import torch\n",
    "import torch.nn as nn\n",
    "from torch import optim\n",
    "import torch.nn.functional as F\n",
    "\n",
    "device = torch.device(\"cuda\" if torch.cuda.is_available() else \"cpu\")"
   ]
  },
  {
   "cell_type": "code",
   "execution_count": 3,
   "metadata": {
    "colab": {
     "base_uri": "https://localhost:8080/",
     "height": 35
    },
    "colab_type": "code",
    "id": "n4181bguOpoL",
    "outputId": "fab7f816-e129-4882-f8f3-18cf861fffef"
   },
   "outputs": [
    {
     "data": {
      "text/plain": [
       "device(type='cuda')"
      ]
     },
     "execution_count": 3,
     "metadata": {
      "tags": []
     },
     "output_type": "execute_result"
    }
   ],
   "source": [
    "device"
   ]
  },
  {
   "cell_type": "code",
   "execution_count": null,
   "metadata": {
    "colab": {},
    "colab_type": "code",
    "id": "kyNnJyruM9t1"
   },
   "outputs": [],
   "source": [
    "SOS_token = 0\n",
    "EOS_token = 1\n",
    "\n",
    "class Lang:\n",
    "    def __init__(self, name):\n",
    "        self.name = name\n",
    "        self.word2index = {}\n",
    "        self.word2count = {}\n",
    "        self.index2word = {0: \"SOS\", 1: \"EOS\"}\n",
    "        self.n_words = 2  # Count SOS and EOS\n",
    "\n",
    "    def addSentence(self, sentence):\n",
    "        for word in sentence.split(' '):\n",
    "            self.addWord(word)\n",
    "\n",
    "    def addWord(self, word):\n",
    "        if word not in self.word2index:\n",
    "            self.word2index[word] = self.n_words\n",
    "            self.word2count[word] = 1\n",
    "            self.index2word[self.n_words] = word\n",
    "            self.n_words += 1\n",
    "        else:\n",
    "            self.word2count[word] += 1"
   ]
  },
  {
   "cell_type": "code",
   "execution_count": null,
   "metadata": {
    "colab": {},
    "colab_type": "code",
    "id": "FXKs8j4bM9t6"
   },
   "outputs": [],
   "source": [
    "# Turn a Unicode string to plain ASCII, thanks to\n",
    "# http://stackoverflow.com/a/518232/2809427\n",
    "def unicodeToAscii(s):\n",
    "    return ''.join(\n",
    "        c for c in unicodedata.normalize('NFD', s)\n",
    "        if unicodedata.category(c) != 'Mn'\n",
    "    )\n",
    "\n",
    "# Lowercase, trim, and remove non-letter characters\n",
    "def normalizeString(s):\n",
    "    s = unicodeToAscii(s.lower().strip())\n",
    "    s = re.sub(r\"([.!?])\", r\" \\1\", s)\n",
    "    s = re.sub(r\"[^a-zA-Zа-яА-Я.!?]+\", r\" \", s)\n",
    "    return s"
   ]
  },
  {
   "cell_type": "code",
   "execution_count": null,
   "metadata": {
    "colab": {},
    "colab_type": "code",
    "id": "D8T4VxZeM9t-"
   },
   "outputs": [],
   "source": [
    "def readLangs(lang1, lang2, reverse=False):\n",
    "    print(\"Reading lines...\")\n",
    "\n",
    "    # Read the file and split into lines\n",
    "    lines = open('%s-%s.txt' % (lang1, lang2), encoding='utf-8').\\\n",
    "        read().strip().split('\\n')\n",
    "\n",
    "    # Split every line into pairs and normalize\n",
    "    pairs = [[normalizeString(s) for s in l.split('\\t')] for l in lines]\n",
    "\n",
    "    # Reverse pairs, make Lang instances\n",
    "    if reverse:\n",
    "        pairs = [list(reversed(p)) for p in pairs]\n",
    "        input_lang = Lang(lang2)\n",
    "        output_lang = Lang(lang1)\n",
    "    else:\n",
    "        input_lang = Lang(lang1)\n",
    "        output_lang = Lang(lang2)\n",
    "\n",
    "    return input_lang, output_lang, pairs"
   ]
  },
  {
   "cell_type": "code",
   "execution_count": null,
   "metadata": {
    "colab": {},
    "colab_type": "code",
    "id": "eBOwgEBdM9uB"
   },
   "outputs": [],
   "source": [
    "MAX_LENGTH = 10\n",
    "\n",
    "eng_prefixes = (\n",
    "    \"i am \", \"i m \",\n",
    "    \"he is\", \"he s \",\n",
    "    \"she is\", \"she s\",\n",
    "    \"you are\", \"you re \",\n",
    "    \"we are\", \"we re \",\n",
    "    \"they are\", \"they re \"\n",
    ")\n",
    "\n",
    "def filterPair(p):\n",
    "    return len(p[0].split(' ')) < MAX_LENGTH and \\\n",
    "        len(p[1].split(' ')) < MAX_LENGTH and \\\n",
    "        p[1].startswith(eng_prefixes)\n",
    "\n",
    "def filterPairs(pairs):\n",
    "    return [pair for pair in pairs if filterPair(pair)]"
   ]
  },
  {
   "cell_type": "code",
   "execution_count": 9,
   "metadata": {
    "colab": {
     "base_uri": "https://localhost:8080/",
     "height": 162
    },
    "colab_type": "code",
    "id": "6dZOGjd5M9uE",
    "outputId": "7251edf8-c4e2-401d-b70d-f2c2ecca37cc"
   },
   "outputs": [
    {
     "name": "stdout",
     "output_type": "stream",
     "text": [
      "Reading lines...\n",
      "Read 380911 sentence pairs\n",
      "Trimmed to 22942 sentence pairs\n",
      "Counting words...\n",
      "Counted words:\n",
      "rus 9108\n",
      "eng 3945\n",
      "['ты ужасна .', 'you re horrible .']\n"
     ]
    }
   ],
   "source": [
    "def prepareData(lang1, lang2, reverse=False):\n",
    "    input_lang, output_lang, pairs = readLangs(lang1, lang2, reverse)\n",
    "    print(\"Read %s sentence pairs\" % len(pairs))\n",
    "    pairs = filterPairs(pairs)\n",
    "    print(\"Trimmed to %s sentence pairs\" % len(pairs))\n",
    "    print(\"Counting words...\")\n",
    "    for pair in pairs:\n",
    "        input_lang.addSentence(pair[0])\n",
    "        output_lang.addSentence(pair[1])\n",
    "    print(\"Counted words:\")\n",
    "    print(input_lang.name, input_lang.n_words)\n",
    "    print(output_lang.name, output_lang.n_words)\n",
    "    return input_lang, output_lang, pairs\n",
    "\n",
    "input_lang, output_lang, pairs = prepareData('eng', 'rus', True)\n",
    "print(random.choice(pairs))"
   ]
  },
  {
   "cell_type": "code",
   "execution_count": 46,
   "metadata": {
    "colab": {
     "base_uri": "https://localhost:8080/",
     "height": 35
    },
    "colab_type": "code",
    "id": "E0HSz_ceet2a",
    "outputId": "a8a57e67-d170-4a28-8b56-e62a8e7906ca"
   },
   "outputs": [
    {
     "name": "stdout",
     "output_type": "stream",
     "text": [
      "rus eng ['мы не уверены что сможем приити вечером .', 'we re not sure we can come tonight .']\n"
     ]
    }
   ],
   "source": [
    "print(input_lang.name, output_lang.name, random.choice(pairs))"
   ]
  },
  {
   "cell_type": "markdown",
   "metadata": {
    "colab_type": "text",
    "id": "vgtWqznCM9uH"
   },
   "source": [
    "The Encoder and The Decoder\n",
    "-----------\n",
    "\n",
    "\n",
    "\n",
    "\n"
   ]
  },
  {
   "cell_type": "code",
   "execution_count": null,
   "metadata": {
    "colab": {},
    "colab_type": "code",
    "id": "m9vm9QBWM9uI"
   },
   "outputs": [],
   "source": [
    "class EncoderRNN(nn.Module):\n",
    "    def __init__(self, input_size, hidden_size):\n",
    "        super(EncoderRNN, self).__init__()\n",
    "        self.hidden_size = hidden_size\n",
    "\n",
    "        self.embedding = nn.Embedding(input_size, hidden_size)\n",
    "        self.gru = nn.GRU(hidden_size, hidden_size)\n",
    "\n",
    "    def forward(self, input, hidden):\n",
    "        embedded = self.embedding(input).view(1, 1, -1)\n",
    "        output = embedded\n",
    "        output, hidden = self.gru(output, hidden)\n",
    "        return output, hidden\n",
    "\n",
    "    def initHidden(self):\n",
    "        return torch.zeros(1, 1, self.hidden_size, device=device)"
   ]
  },
  {
   "cell_type": "code",
   "execution_count": null,
   "metadata": {
    "colab": {},
    "colab_type": "code",
    "id": "PFbuUL1LM9uL"
   },
   "outputs": [],
   "source": [
    "class DecoderRNN(nn.Module):\n",
    "    def __init__(self, hidden_size, output_size):\n",
    "        super(DecoderRNN, self).__init__()\n",
    "        self.hidden_size = hidden_size\n",
    "\n",
    "        self.embedding = nn.Embedding(output_size, hidden_size)\n",
    "        self.gru = nn.GRU(hidden_size, hidden_size)\n",
    "        self.out = nn.Linear(hidden_size, output_size)\n",
    "        self.softmax = nn.LogSoftmax(dim=1)\n",
    "\n",
    "    def forward(self, input, hidden):\n",
    "        output = self.embedding(input).view(1, 1, -1)\n",
    "        output = F.relu(output)\n",
    "        output, hidden = self.gru(output, hidden)\n",
    "        output = self.softmax(self.out(output[0]))\n",
    "        return output, hidden\n",
    "\n",
    "    def initHidden(self):\n",
    "        return torch.zeros(1, 1, self.hidden_size, device=device)"
   ]
  },
  {
   "cell_type": "code",
   "execution_count": null,
   "metadata": {
    "colab": {},
    "colab_type": "code",
    "id": "sln6YYQgOYaX"
   },
   "outputs": [],
   "source": [
    "### Попробуйте добавить +1 рекуррентный в encoder и decoder.   \n",
    "\n",
    "class ExtendedEncoderRNN(nn.Module):\n",
    "    def __init__(self, input_size, hidden_size):\n",
    "        super(ExtendedEncoderRNN, self).__init__()\n",
    "        self.hidden_size = hidden_size\n",
    "\n",
    "        self.embedding = nn.Embedding(input_size, hidden_size)\n",
    "        self.gru_1 = nn.GRU(hidden_size, hidden_size)\n",
    "        self.gru_2 = nn.GRU(hidden_size, hidden_size)\n",
    "\n",
    "    def forward(self, input, hidden_1, hidden_2):\n",
    "        embedded = self.embedding(input).view(1, 1, -1)\n",
    "        output = embedded\n",
    "        output, hidden_1 = self.gru_1(output, hidden_1)\n",
    "        output, hidden_2 = self.gru_2(output, hidden_2)\n",
    "        return output, hidden_1, hidden_2\n",
    "\n",
    "    def initHidden(self):\n",
    "        return torch.zeros(1, 1, self.hidden_size, device=device)\n",
    "\n",
    "class ExtendedDecoderRNN(nn.Module):\n",
    "    def __init__(self, hidden_size, output_size):\n",
    "        super(ExtendedDecoderRNN, self).__init__()\n",
    "        self.hidden_size = hidden_size\n",
    "\n",
    "        self.embedding = nn.Embedding(output_size, hidden_size)\n",
    "        self.gru_1 = nn.GRU(hidden_size, hidden_size)\n",
    "        self.gru_2 = nn.GRU(hidden_size, hidden_size)\n",
    "        self.out = nn.Linear(hidden_size, output_size)\n",
    "        self.softmax = nn.LogSoftmax(dim=1)\n",
    "\n",
    "    def forward(self, input, hidden_1, hidden_2):\n",
    "        output = self.embedding(input).view(1, 1, -1)\n",
    "        output = F.relu(output)\n",
    "        output, hidden_1 = self.gru_1(output, hidden_1)\n",
    "        output, hidden_2 = self.gru_2(output, hidden_2)\n",
    "        output = self.softmax(self.out(output[0]))\n",
    "        return output, hidden_1, hidden_2\n",
    "\n",
    "    def initHidden(self):\n",
    "        return torch.zeros(1, 1, self.hidden_size, device=device)        "
   ]
  },
  {
   "cell_type": "code",
   "execution_count": null,
   "metadata": {
    "colab": {},
    "colab_type": "code",
    "id": "8PSFgd9LX7hy"
   },
   "outputs": [],
   "source": [
    "### Попробуйте заменить GRU ячейки на lstm-ячейки.   \n",
    "\n",
    "class EncoderLSTM(nn.Module):\n",
    "    def __init__(self, input_size, hidden_size):\n",
    "        super(EncoderLSTM, self).__init__()\n",
    "        self.hidden_size = hidden_size\n",
    "        self.embedding = nn.Embedding(input_size, hidden_size)\n",
    "        self.lstm = nn.LSTM(hidden_size, hidden_size)\n",
    "\n",
    "    def forward(self, input, hidden):\n",
    "        embedded = self.embedding(input).view(1, 1, -1)\n",
    "        output = embedded\n",
    "        output, hidden = self.lstm(output, hidden)\n",
    "        return output, hidden\n",
    "\n",
    "    def initHidden(self):\n",
    "        return torch.zeros(1, 1, self.hidden_size, device=device)\n",
    "\n",
    "\n",
    "class DecoderLSTM(nn.Module):\n",
    "    def __init__(self, hidden_size, output_size):\n",
    "        super(DecoderLSTM, self).__init__()\n",
    "        self.hidden_size = hidden_size\n",
    "\n",
    "        self.embedding = nn.Embedding(output_size, hidden_size)\n",
    "        self.lstm = nn.LSTM(hidden_size, hidden_size)\n",
    "        self.out = nn.Linear(hidden_size, output_size)\n",
    "        self.softmax = nn.LogSoftmax(dim=1)\n",
    "\n",
    "    def forward(self, input, hidden):\n",
    "        #lstm(input.view(len(input), self.batch_size, -1))\n",
    "        output = self.embedding(input).view(1, 1, -1)\n",
    "        output = F.relu(output)\n",
    "        output, hidden = self.lstm(output, hidden)\n",
    "        output = self.softmax(self.out(output[0]))\n",
    "        return output, hidden\n",
    "\n",
    "    def initHidden(self):\n",
    "        return torch.zeros(1, 1, self.hidden_size, device=device)        "
   ]
  },
  {
   "cell_type": "code",
   "execution_count": null,
   "metadata": {
    "colab": {},
    "colab_type": "code",
    "id": "z6gGPtXFM9uQ"
   },
   "outputs": [],
   "source": [
    "def indexesFromSentence(lang, sentence):\n",
    "    return [lang.word2index[word] for word in sentence.split(' ')]\n",
    "\n",
    "\n",
    "def tensorFromSentence(lang, sentence):\n",
    "    indexes = indexesFromSentence(lang, sentence)\n",
    "    indexes.append(EOS_token)\n",
    "    return torch.tensor(indexes, dtype=torch.long, device=device).view(-1, 1)\n",
    "\n",
    "\n",
    "def tensorsFromPair(pair):\n",
    "    input_tensor = tensorFromSentence(input_lang, pair[0])\n",
    "    target_tensor = tensorFromSentence(output_lang, pair[1])\n",
    "    return (input_tensor, target_tensor)"
   ]
  },
  {
   "cell_type": "code",
   "execution_count": null,
   "metadata": {
    "colab": {},
    "colab_type": "code",
    "id": "8Fn8VDv8M9uS"
   },
   "outputs": [],
   "source": [
    "teacher_forcing_ratio = 0.5\n",
    "\n",
    "def train(input_tensor, target_tensor, encoder, decoder, encoder_optimizer, decoder_optimizer, criterion, max_length=MAX_LENGTH):\n",
    "    if type(encoder) == ExtendedEncoderRNN:\n",
    "        encoder_hidden_1, encoder_hidden_2 = encoder.initHidden(), encoder.initHidden()\n",
    "    elif type(encoder) == EncoderLSTM:\n",
    "        encoder_hidden = ( encoder.initHidden(), encoder.initHidden() )\n",
    "    else:\n",
    "        encoder_hidden = encoder.initHidden()\n",
    "\n",
    "    encoder_optimizer.zero_grad()\n",
    "    decoder_optimizer.zero_grad()\n",
    "\n",
    "    input_length = input_tensor.size(0)\n",
    "    target_length = target_tensor.size(0)\n",
    "\n",
    "    encoder_outputs = torch.zeros(max_length, encoder.hidden_size, device=device)\n",
    "\n",
    "    loss = 0\n",
    "\n",
    "    for ei in range(input_length):\n",
    "        if type(encoder) == ExtendedEncoderRNN:\n",
    "            encoder_output, encoder_hidden_1, encoder_hidden_2 = \\\n",
    "              encoder(input_tensor[ei], encoder_hidden_1, encoder_hidden_2)\n",
    "        else:\n",
    "            encoder_output, encoder_hidden = encoder(input_tensor[ei], encoder_hidden)\n",
    "\n",
    "        encoder_outputs[ei] = encoder_output[0, 0]\n",
    "\n",
    "    decoder_input = torch.tensor([[SOS_token]], device=device)\n",
    "\n",
    "    if type(encoder) == ExtendedEncoderRNN:\n",
    "        decoder_hidden_1, decoder_hidden_2 = encoder_hidden_1, encoder_hidden_2\n",
    "    else:\n",
    "        decoder_hidden = encoder_hidden\n",
    "\n",
    "    use_teacher_forcing = True if random.random() < teacher_forcing_ratio else False\n",
    "\n",
    "    if use_teacher_forcing:\n",
    "        # Teacher forcing: Feed the target as the next input\n",
    "        for di in range(target_length):\n",
    "            if type(encoder) == ExtendedEncoderRNN:\n",
    "                decoder_output, decoder_hidden_1, decoder_hidden_2 = \\\n",
    "                  decoder(decoder_input, decoder_hidden_1, decoder_hidden_2)\n",
    "            else:\n",
    "                decoder_output, decoder_hidden = decoder(decoder_input, decoder_hidden)\n",
    "\n",
    "            loss += criterion(decoder_output, target_tensor[di])\n",
    "            decoder_input = target_tensor[di]  # Teacher forcing\n",
    "\n",
    "    else:\n",
    "        # Without teacher forcing: use its own predictions as the next input\n",
    "        for di in range(target_length):\n",
    "\n",
    "            if type(encoder) == ExtendedEncoderRNN:\n",
    "                decoder_output, decoder_hidden_1, decoder_hidden_2 = \\\n",
    "                  decoder(decoder_input, decoder_hidden_1, decoder_hidden_2)\n",
    "            else:\n",
    "                decoder_output, decoder_hidden = decoder(decoder_input, decoder_hidden)\n",
    "\n",
    "            topv, topi = decoder_output.topk(1)\n",
    "            decoder_input = topi.squeeze().detach()  # detach from history as input\n",
    "\n",
    "            loss += criterion(decoder_output, target_tensor[di])\n",
    "            if decoder_input.item() == EOS_token:\n",
    "                break\n",
    "\n",
    "    loss.backward()\n",
    "\n",
    "    encoder_optimizer.step()\n",
    "    decoder_optimizer.step()\n",
    "\n",
    "    return loss.item() / target_length"
   ]
  },
  {
   "cell_type": "code",
   "execution_count": null,
   "metadata": {
    "colab": {},
    "colab_type": "code",
    "id": "EKsdwPmSM9uU"
   },
   "outputs": [],
   "source": [
    "import time\n",
    "import math\n",
    "\n",
    "def asMinutes(s):\n",
    "    m = math.floor(s / 60)\n",
    "    s -= m * 60\n",
    "    return '%dm %ds' % (m, s)\n",
    "\n",
    "def timeSince(since, percent):\n",
    "    now = time.time()\n",
    "    s = now - since\n",
    "    es = s / (percent)\n",
    "    rs = es - s\n",
    "    return '%s (- %s)' % (asMinutes(s), asMinutes(rs))"
   ]
  },
  {
   "cell_type": "code",
   "execution_count": null,
   "metadata": {
    "colab": {},
    "colab_type": "code",
    "id": "C_z_k5IiM9uX"
   },
   "outputs": [],
   "source": [
    "def trainIters(encoder, decoder, n_iters, print_every=1000, plot_every=100, learning_rate=0.01):\n",
    "    start = time.time()\n",
    "    plot_losses = []\n",
    "    print_loss_total = 0  # Reset every print_every\n",
    "    plot_loss_total = 0  # Reset every plot_every\n",
    "\n",
    "    encoder_optimizer = optim.SGD(encoder.parameters(), lr=learning_rate)\n",
    "    decoder_optimizer = optim.SGD(decoder.parameters(), lr=learning_rate)\n",
    "    training_pairs = [tensorsFromPair(random.choice(pairs))\n",
    "                      for i in range(n_iters)]\n",
    "    criterion = nn.NLLLoss()\n",
    "\n",
    "    for iter in range(1, n_iters + 1):\n",
    "        training_pair = training_pairs[iter - 1]\n",
    "        input_tensor = training_pair[0]\n",
    "        target_tensor = training_pair[1]\n",
    "\n",
    "        loss = train(input_tensor, target_tensor, encoder,\n",
    "                     decoder, encoder_optimizer, decoder_optimizer, criterion)\n",
    "        print_loss_total += loss\n",
    "        plot_loss_total += loss\n",
    "\n",
    "        if iter % print_every == 0:\n",
    "            print_loss_avg = print_loss_total / print_every\n",
    "            print_loss_total = 0\n",
    "            print('%s (%d %d%%) %.4f' % (timeSince(start, iter / n_iters),\n",
    "                                         iter, iter / n_iters * 100, print_loss_avg))\n",
    "\n",
    "        if iter % plot_every == 0:\n",
    "            plot_loss_avg = plot_loss_total / plot_every\n",
    "            plot_losses.append(plot_loss_avg)\n",
    "            plot_loss_total = 0\n",
    "\n",
    "    showPlot(plot_losses)"
   ]
  },
  {
   "cell_type": "code",
   "execution_count": null,
   "metadata": {
    "colab": {},
    "colab_type": "code",
    "id": "0JXG-RzCM9uZ"
   },
   "outputs": [],
   "source": [
    "import matplotlib.pyplot as plt\n",
    "plt.switch_backend('agg')\n",
    "import matplotlib.ticker as ticker\n",
    "import numpy as np\n",
    "\n",
    "def showPlot(points):\n",
    "    plt.figure()\n",
    "    fig, ax = plt.subplots()\n",
    "    # this locator puts ticks at regular intervals\n",
    "    loc = ticker.MultipleLocator(base=0.2)\n",
    "    ax.yaxis.set_major_locator(loc)\n",
    "    plt.plot(points)"
   ]
  },
  {
   "cell_type": "code",
   "execution_count": null,
   "metadata": {
    "colab": {},
    "colab_type": "code",
    "id": "3Bxf45h6M9ud"
   },
   "outputs": [],
   "source": [
    "def evaluate(encoder, decoder, sentence, max_length=MAX_LENGTH):\n",
    "    with torch.no_grad():\n",
    "        input_tensor = tensorFromSentence(input_lang, sentence)\n",
    "        input_length = input_tensor.size()[0]\n",
    "        \n",
    "        if type(encoder) == ExtendedEncoderRNN:\n",
    "            encoder_hidden_1, encoder_hidden_2 = encoder.initHidden(), encoder.initHidden()  \n",
    "        elif type(encoder) == EncoderLSTM:\n",
    "            encoder_hidden = ( encoder.initHidden(), encoder.initHidden() )\n",
    "        else:\n",
    "            encoder_hidden = encoder.initHidden()\n",
    "\n",
    "        encoder_outputs = torch.zeros(max_length, encoder.hidden_size, device=device)\n",
    "\n",
    "        for ei in range(input_length):\n",
    "            if type(encoder) == ExtendedEncoderRNN:\n",
    "                encoder_output, encoder_hidden_1, encoder_hidden_2 = \\\n",
    "                  encoder(input_tensor[ei], encoder_hidden_1, encoder_hidden_2)\n",
    "            else:\n",
    "                encoder_output, encoder_hidden = encoder(input_tensor[ei], encoder_hidden)\n",
    "\n",
    "            encoder_outputs[ei] += encoder_output[0, 0]\n",
    "\n",
    "        decoder_input = torch.tensor([[SOS_token]], device=device)  # SOS\n",
    "\n",
    "        if type(encoder) == ExtendedEncoderRNN:\n",
    "            decoder_hidden_1 = encoder_hidden_1\n",
    "            decoder_hidden_2 = encoder_hidden_2\n",
    "        else:\n",
    "            decoder_hidden = encoder_hidden\n",
    "\n",
    "        decoded_words = []\n",
    "\n",
    "        for di in range(max_length):\n",
    "            if type(decoder) == ExtendedDecoderRNN:\n",
    "                decoder_output, decoder_hidden_1, decoder_hidden_1 = \\\n",
    "                    decoder(decoder_input, decoder_hidden_1, decoder_hidden_2)\n",
    "            else:\n",
    "                decoder_output, decoder_hidden = decoder(decoder_input, decoder_hidden)\n",
    "            \n",
    "            topv, topi = decoder_output.data.topk(1)\n",
    "            if topi.item() == EOS_token:\n",
    "                decoded_words.append('<EOS>')\n",
    "                break\n",
    "            else:\n",
    "                decoded_words.append(output_lang.index2word[topi.item()])\n",
    "\n",
    "            decoder_input = topi.squeeze().detach()\n",
    "\n",
    "        return decoded_words"
   ]
  },
  {
   "cell_type": "code",
   "execution_count": null,
   "metadata": {
    "colab": {},
    "colab_type": "code",
    "id": "1qUmQIGwM9uf"
   },
   "outputs": [],
   "source": [
    "def evaluateRandomly(encoder, decoder, n=10):\n",
    "    for i in range(n):\n",
    "        pair = random.choice(pairs)\n",
    "        print('>', pair[0])\n",
    "        print('=', pair[1])\n",
    "        output_words = evaluate(encoder, decoder, pair[0])\n",
    "        output_sentence = ' '.join(output_words)\n",
    "        print('<', output_sentence)\n",
    "        print('')"
   ]
  },
  {
   "cell_type": "code",
   "execution_count": 63,
   "metadata": {
    "colab": {
     "base_uri": "https://localhost:8080/",
     "height": 199
    },
    "colab_type": "code",
    "id": "s_56t10oM9uh",
    "outputId": "3539c0e6-1a41-4846-b3fa-4821dbbd63f7"
   },
   "outputs": [
    {
     "name": "stdout",
     "output_type": "stream",
     "text": [
      "0m 58s (- 8m 48s) (5000 10%) 3.1059\n",
      "1m 55s (- 7m 43s) (10000 20%) 2.5746\n",
      "2m 53s (- 6m 44s) (15000 30%) 2.3318\n",
      "3m 51s (- 5m 47s) (20000 40%) 2.1149\n",
      "4m 49s (- 4m 49s) (25000 50%) 1.9609\n",
      "5m 47s (- 3m 51s) (30000 60%) 1.8141\n",
      "6m 45s (- 2m 53s) (35000 70%) 1.7206\n",
      "7m 43s (- 1m 55s) (40000 80%) 1.6125\n",
      "8m 41s (- 0m 57s) (45000 90%) 1.5258\n",
      "9m 40s (- 0m 0s) (50000 100%) 1.4442\n"
     ]
    }
   ],
   "source": [
    "hidden_size = 256\n",
    "encoder_gru = EncoderRNN(input_lang.n_words, hidden_size).to(device)\n",
    "decoder_gru = DecoderRNN(hidden_size, output_lang.n_words).to(device)\n",
    "\n",
    "trainIters(encoder_gru, decoder_gru, 50000, print_every=5000)"
   ]
  },
  {
   "cell_type": "code",
   "execution_count": 64,
   "metadata": {
    "colab": {
     "base_uri": "https://localhost:8080/",
     "height": 744
    },
    "colab_type": "code",
    "id": "xEoEylSyM9uj",
    "outputId": "7fef7e94-69ec-4d00-d089-744dbf2dae1c"
   },
   "outputs": [
    {
     "name": "stdout",
     "output_type": "stream",
     "text": [
      "> я о своем друге .\n",
      "= i m talking about my friend .\n",
      "< i m talking about the . . <EOS>\n",
      "\n",
      "> ты гораздо моложе меня .\n",
      "= you re way younger than i am .\n",
      "< you re way younger than me am . <EOS>\n",
      "\n",
      "> я готова сделать это для тебя .\n",
      "= i m ready to do that for you .\n",
      "< i m ready to do that for you . <EOS>\n",
      "\n",
      "> он уезжает в нью иорк на следующеи неделе .\n",
      "= he is leaving for new york next week .\n",
      "< he is able to next week next week . <EOS>\n",
      "\n",
      "> я нелегко схожусь с людьми .\n",
      "= i m not good at meeting people .\n",
      "< i m playing with the . . <EOS>\n",
      "\n",
      "> я стараюсь остаться незамеченным .\n",
      "= i m trying not to be seen .\n",
      "< i m trying to be the . . <EOS>\n",
      "\n",
      "> я слишком ленива для этого .\n",
      "= i m too lazy to do that .\n",
      "< i m too old for that . <EOS>\n",
      "\n",
      "> я один .\n",
      "= i m alone .\n",
      "< i m alone . <EOS>\n",
      "\n",
      "> я здесь только временно замещаю другого работника .\n",
      "= i m just filling in here temporarily .\n",
      "< i m just the only here . <EOS>\n",
      "\n",
      "> я уверен что ты будешь доволен .\n",
      "= i m sure that you ll be satisfied .\n",
      "< i m sure you ll find with us . <EOS>\n",
      "\n"
     ]
    }
   ],
   "source": [
    "evaluateRandomly(encoder_gru, decoder_gru)"
   ]
  },
  {
   "cell_type": "code",
   "execution_count": 59,
   "metadata": {
    "colab": {
     "base_uri": "https://localhost:8080/",
     "height": 199
    },
    "colab_type": "code",
    "id": "VfOmFxpwRzzc",
    "outputId": "6743d395-5d33-4079-fdcd-b1ac7800f8fb"
   },
   "outputs": [
    {
     "name": "stdout",
     "output_type": "stream",
     "text": [
      "1m 28s (- 13m 16s) (5000 10%) 3.1033\n",
      "2m 57s (- 11m 50s) (10000 20%) 2.6527\n",
      "4m 27s (- 10m 23s) (15000 30%) 2.3871\n",
      "5m 56s (- 8m 55s) (20000 40%) 2.2077\n",
      "7m 27s (- 7m 27s) (25000 50%) 2.0519\n",
      "8m 57s (- 5m 58s) (30000 60%) 1.8801\n",
      "10m 29s (- 4m 29s) (35000 70%) 1.7577\n",
      "11m 59s (- 2m 59s) (40000 80%) 1.6346\n",
      "13m 30s (- 1m 30s) (45000 90%) 1.5373\n",
      "15m 1s (- 0m 0s) (50000 100%) 1.4735\n"
     ]
    }
   ],
   "source": [
    "hidden_size = 256\n",
    "encoder2 = ExtendedEncoderRNN(input_lang.n_words, hidden_size).to(device)\n",
    "decoder2 = ExtendedDecoderRNN(hidden_size, output_lang.n_words).to(device)\n",
    "\n",
    "trainIters(encoder2, decoder2, 50000, print_every=5000)"
   ]
  },
  {
   "cell_type": "code",
   "execution_count": 60,
   "metadata": {
    "colab": {
     "base_uri": "https://localhost:8080/",
     "height": 744
    },
    "colab_type": "code",
    "id": "2yMGzZu7R1_O",
    "outputId": "d527e979-1d4c-4a4d-8d7c-2eb673dbe8d3"
   },
   "outputs": [
    {
     "name": "stdout",
     "output_type": "stream",
     "text": [
      "> я рад что ты сегодня пришла .\n",
      "= i m glad you came today .\n",
      "< i i i i i i i i i i\n",
      "\n",
      "> мне не хочется спать .\n",
      "= i m not sleepy .\n",
      "< i m not i m not i m not i\n",
      "\n",
      "> мы точно не знаем где том .\n",
      "= we re not sure where tom is .\n",
      "< we re we re we re we re we re\n",
      "\n",
      "> она купает ребенка .\n",
      "= she is giving the baby a bath .\n",
      "< she is she is she is she is she is\n",
      "\n",
      "> я рад что дождь перестал .\n",
      "= i m glad that the rain has stopped .\n",
      "< i i i i i i i i i i\n",
      "\n",
      "> вы взрослая .\n",
      "= you re an adult .\n",
      "< you re . you re . you re . you\n",
      "\n",
      "> всю вторую половину дня она готовила .\n",
      "= she spent all afternoon cooking .\n",
      "< she is a we are she is a we are\n",
      "\n",
      "> мне жаль что заставил вас ждать .\n",
      "= i m sorry to have kept you waiting .\n",
      "< i i m sorry i m sorry i m sorry\n",
      "\n",
      "> я готов сделать заказ .\n",
      "= i m ready to order .\n",
      "< i m ready i am ready i am ready i\n",
      "\n",
      "> они ее ищут .\n",
      "= they re looking for it .\n",
      "< they re looking they re looking they re looking they\n",
      "\n"
     ]
    }
   ],
   "source": [
    "evaluateRandomly(encoder2, decoder2)"
   ]
  },
  {
   "cell_type": "code",
   "execution_count": 61,
   "metadata": {
    "colab": {
     "base_uri": "https://localhost:8080/",
     "height": 199
    },
    "colab_type": "code",
    "id": "Ri2sieOnPX2e",
    "outputId": "b75317ed-faec-4380-b2cd-bc575d1bc6d5"
   },
   "outputs": [
    {
     "name": "stdout",
     "output_type": "stream",
     "text": [
      "1m 1s (- 9m 9s) (5000 10%) 3.1818\n",
      "2m 2s (- 8m 8s) (10000 20%) 2.7207\n",
      "3m 3s (- 7m 8s) (15000 30%) 2.5153\n",
      "4m 5s (- 6m 8s) (20000 40%) 2.3099\n",
      "5m 8s (- 5m 8s) (25000 50%) 2.1601\n",
      "6m 11s (- 4m 7s) (30000 60%) 2.0185\n",
      "7m 12s (- 3m 5s) (35000 70%) 1.9154\n",
      "8m 12s (- 2m 3s) (40000 80%) 1.8012\n",
      "9m 13s (- 1m 1s) (45000 90%) 1.7221\n",
      "10m 13s (- 0m 0s) (50000 100%) 1.6324\n"
     ]
    }
   ],
   "source": [
    "hidden_size = 256\n",
    "encoder_lstm = EncoderLSTM(input_lang.n_words, hidden_size).to(device)\n",
    "decoder_lstm = DecoderLSTM(hidden_size, output_lang.n_words).to(device)\n",
    "\n",
    "trainIters(encoder_lstm, decoder_lstm, 50000, print_every=5000)"
   ]
  },
  {
   "cell_type": "code",
   "execution_count": 62,
   "metadata": {
    "colab": {
     "base_uri": "https://localhost:8080/",
     "height": 744
    },
    "colab_type": "code",
    "id": "lnKaWs9pmyU_",
    "outputId": "e68536bd-60d5-4c3d-a18d-033257c01041"
   },
   "outputs": [
    {
     "name": "stdout",
     "output_type": "stream",
     "text": [
      "> я очень богат .\n",
      "= i m very rich .\n",
      "< i m very rich . <EOS>\n",
      "\n",
      "> ты бледныи как полотно .\n",
      "= you are as white as a sheet .\n",
      "< you re like as a as . <EOS>\n",
      "\n",
      "> вы очень грязная .\n",
      "= you re really dirty .\n",
      "< you re very generous . <EOS>\n",
      "\n",
      "> он не друг а просто знакомыи .\n",
      "= he is not a friend but an acquaintance .\n",
      "< he is not but his his . . <EOS>\n",
      "\n",
      "> я не интересуюсь футболом .\n",
      "= i m not interested in football .\n",
      "< i m not going to eat . <EOS>\n",
      "\n",
      "> я добавляю последнии штрих .\n",
      "= i m adding the last touch .\n",
      "< i m the only one . . . <EOS>\n",
      "\n",
      "> я уверена что том был бы в восторге .\n",
      "= i m sure tom would be delighted .\n",
      "< i m sure tom will be . . <EOS>\n",
      "\n",
      "> я в восторге .\n",
      "= i m fascinated .\n",
      "< i m in the . . <EOS>\n",
      "\n",
      "> ты не святая .\n",
      "= you re no saint .\n",
      "< you re not a . <EOS>\n",
      "\n",
      "> я не буду тебе показывать .\n",
      "= i m not going to show you .\n",
      "< i m not going to tell you . <EOS>\n",
      "\n"
     ]
    }
   ],
   "source": [
    "evaluateRandomly(encoder_lstm, decoder_lstm)"
   ]
  },
  {
   "cell_type": "markdown",
   "metadata": {
    "colab_type": "text",
    "id": "dPV2yZ-4reH6"
   },
   "source": [
    "Самым лучшим вариантом получился gru - и быстрее, и качество перевода тестовых примеров получилось интересным.  \n",
    "Lstm не сильно отстает от gru и по качеству, по скорости, а визуально на тестовых примерах они ведут себя похоже.  \n",
    "Схема из 2х GRU-модулей получилась наилучшей по формальным значениям loss функции, но визуально результат перевода получился довольно скудным - сетка часто повторяет первые 2-3 слова перевода."
   ]
  },
  {
   "cell_type": "code",
   "execution_count": null,
   "metadata": {
    "colab": {},
    "colab_type": "code",
    "id": "T7lSXdyU1AgT"
   },
   "outputs": [],
   "source": []
  }
 ],
 "metadata": {
  "accelerator": "GPU",
  "colab": {
   "collapsed_sections": [],
   "name": "homework_8.ipynb",
   "provenance": []
  },
  "kernelspec": {
   "display_name": "Python 3",
   "language": "python",
   "name": "python3"
  },
  "language_info": {
   "codemirror_mode": {
    "name": "ipython",
    "version": 3
   },
   "file_extension": ".py",
   "mimetype": "text/x-python",
   "name": "python",
   "nbconvert_exporter": "python",
   "pygments_lexer": "ipython3",
   "version": "3.7.3"
  }
 },
 "nbformat": 4,
 "nbformat_minor": 2
}
