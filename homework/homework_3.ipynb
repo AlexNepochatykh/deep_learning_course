{
 "cells": [
  {
   "cell_type": "markdown",
   "metadata": {},
   "source": [
    "## Задание\n",
    "\n",
    "Постройте модель для классификации FashionMNIST. Попробуйте получить качество на тестовой выборке не ниже 88%"
   ]
  },
  {
   "cell_type": "code",
   "execution_count": 1,
   "metadata": {},
   "outputs": [],
   "source": [
    "import matplotlib.pyplot as plt\n",
    "%matplotlib inline\n",
    "\n",
    "import torch\n",
    "import numpy as np\n",
    "import torchvision as tv\n",
    "import time"
   ]
  },
  {
   "cell_type": "code",
   "execution_count": 2,
   "metadata": {},
   "outputs": [],
   "source": [
    "BATCH_SIZE=256"
   ]
  },
  {
   "cell_type": "code",
   "execution_count": 3,
   "metadata": {},
   "outputs": [
    {
     "name": "stdout",
     "output_type": "stream",
     "text": [
      "Downloading http://fashion-mnist.s3-website.eu-central-1.amazonaws.com/train-images-idx3-ubyte.gz to ../data/FashionMNIST\\raw\\train-images-idx3-ubyte.gz\n"
     ]
    },
    {
     "data": {
      "application/vnd.jupyter.widget-view+json": {
       "model_id": "0a108f4c753c4be7b207f4c5e3261a4d",
       "version_major": 2,
       "version_minor": 0
      },
      "text/plain": [
       "HBox(children=(IntProgress(value=1, bar_style='info', max=1), HTML(value='')))"
      ]
     },
     "metadata": {},
     "output_type": "display_data"
    },
    {
     "name": "stdout",
     "output_type": "stream",
     "text": [
      "\n",
      "Extracting ../data/FashionMNIST\\raw\\train-images-idx3-ubyte.gz to ../data/FashionMNIST\\raw\n",
      "Downloading http://fashion-mnist.s3-website.eu-central-1.amazonaws.com/train-labels-idx1-ubyte.gz to ../data/FashionMNIST\\raw\\train-labels-idx1-ubyte.gz\n"
     ]
    },
    {
     "data": {
      "application/vnd.jupyter.widget-view+json": {
       "model_id": "109c062c51ae493b9501bfdb31a961bc",
       "version_major": 2,
       "version_minor": 0
      },
      "text/plain": [
       "HBox(children=(IntProgress(value=1, bar_style='info', max=1), HTML(value='')))"
      ]
     },
     "metadata": {},
     "output_type": "display_data"
    },
    {
     "name": "stdout",
     "output_type": "stream",
     "text": [
      "\n",
      "Extracting ../data/FashionMNIST\\raw\\train-labels-idx1-ubyte.gz to ../data/FashionMNIST\\raw\n",
      "Downloading http://fashion-mnist.s3-website.eu-central-1.amazonaws.com/t10k-images-idx3-ubyte.gz to ../data/FashionMNIST\\raw\\t10k-images-idx3-ubyte.gz\n"
     ]
    },
    {
     "data": {
      "application/vnd.jupyter.widget-view+json": {
       "model_id": "9d23ee3cd3a9443ea48ddd2b3dd4dfec",
       "version_major": 2,
       "version_minor": 0
      },
      "text/plain": [
       "HBox(children=(IntProgress(value=1, bar_style='info', max=1), HTML(value='')))"
      ]
     },
     "metadata": {},
     "output_type": "display_data"
    },
    {
     "name": "stdout",
     "output_type": "stream",
     "text": [
      "\n",
      "Extracting ../data/FashionMNIST\\raw\\t10k-images-idx3-ubyte.gz to ../data/FashionMNIST\\raw\n",
      "Downloading http://fashion-mnist.s3-website.eu-central-1.amazonaws.com/t10k-labels-idx1-ubyte.gz to ../data/FashionMNIST\\raw\\t10k-labels-idx1-ubyte.gz\n"
     ]
    },
    {
     "data": {
      "application/vnd.jupyter.widget-view+json": {
       "model_id": "01de9c95e76a430d99ae1955576a8b11",
       "version_major": 2,
       "version_minor": 0
      },
      "text/plain": [
       "HBox(children=(IntProgress(value=1, bar_style='info', max=1), HTML(value='')))"
      ]
     },
     "metadata": {},
     "output_type": "display_data"
    },
    {
     "name": "stdout",
     "output_type": "stream",
     "text": [
      "\n",
      "Extracting ../data/FashionMNIST\\raw\\t10k-labels-idx1-ubyte.gz to ../data/FashionMNIST\\raw\n",
      "Processing...\n",
      "Done!\n"
     ]
    }
   ],
   "source": [
    "train_dataset = tv.datasets.FashionMNIST('../data/', train=True, transform=tv.transforms.ToTensor(), download=True)\n",
    "test_dataset = tv.datasets.FashionMNIST('../data/', train=False, transform=tv.transforms.ToTensor(), download=True)\n",
    "train = torch.utils.data.DataLoader(train_dataset, batch_size=BATCH_SIZE)\n",
    "test = torch.utils.data.DataLoader(test_dataset, batch_size=BATCH_SIZE)"
   ]
  },
  {
   "cell_type": "code",
   "execution_count": 19,
   "metadata": {},
   "outputs": [
    {
     "data": {
      "text/plain": [
       "<matplotlib.image.AxesImage at 0x2c19a20f3c8>"
      ]
     },
     "execution_count": 19,
     "metadata": {},
     "output_type": "execute_result"
    },
    {
     "data": {
      "image/png": "[encoded data removed]",
      "text/plain": [
       "<Figure size 432x288 with 1 Axes>"
      ]
     },
     "metadata": {
      "needs_background": "light"
     },
     "output_type": "display_data"
    }
   ],
   "source": [
    "plt.imshow(train_dataset[19][0].numpy().reshape(28,28), cmap='gray')"
   ]
  },
  {
   "cell_type": "code",
   "execution_count": 21,
   "metadata": {},
   "outputs": [
    {
     "data": {
      "text/plain": [
       "9"
      ]
     },
     "execution_count": 21,
     "metadata": {},
     "output_type": "execute_result"
    }
   ],
   "source": [
    "train_dataset[0][1]"
   ]
  },
  {
   "cell_type": "code",
   "execution_count": 182,
   "metadata": {},
   "outputs": [],
   "source": [
    "def test_model(model):\n",
    "    # model testing\n",
    "    X = train_dataset[0][0]\n",
    "    #X = X.flatten()\n",
    "    #X = X.reshape(1, 1, 28, 28)\n",
    "    print(X.shape)\n",
    "    for l in model:\n",
    "        X = l(X)\n",
    "        print(\"Layer {}. X shape: {}\".format(l, X.shape))"
   ]
  },
  {
   "cell_type": "code",
   "execution_count": 176,
   "metadata": {},
   "outputs": [],
   "source": [
    "def fit_model(num_epochs, model):\n",
    "    for ep in range(num_epochs):\n",
    "        train_iters, train_passed  = 0, 0\n",
    "        train_loss, train_acc = 0., 0.\n",
    "\n",
    "        model.train()\n",
    "        for X, y in train:\n",
    "            trainer.zero_grad()\n",
    "            y_pred = model(X)\n",
    "            l = loss(y_pred, y)\n",
    "            l.backward()\n",
    "            trainer.step()\n",
    "            train_loss += l.item()\n",
    "            train_acc += (y_pred.argmax(dim=1) == y).sum().item()\n",
    "            train_iters += 1\n",
    "            train_passed += len(X)\n",
    "\n",
    "        model.eval()\n",
    "        test_iters, test_passed  = 0, 0\n",
    "        test_loss, test_acc = 0., 0.\n",
    "        for X, y in test:\n",
    "            y_pred = model(X)\n",
    "            l = loss(y_pred, y)\n",
    "            test_loss += l.item()\n",
    "            test_acc += (y_pred.argmax(dim=1) == y).sum().item()\n",
    "            test_iters += 1\n",
    "            test_passed += len(X)\n",
    "\n",
    "        print(\"ep: {}, train_loss: {}, train_acc: {}, test_loss: {}, test_acc: {}\".format(\n",
    "            ep, train_loss / train_iters, train_acc / train_passed,\n",
    "            test_loss / test_iters, test_acc / test_passed)\n",
    "        )"
   ]
  },
  {
   "cell_type": "code",
   "execution_count": 189,
   "metadata": {},
   "outputs": [],
   "source": [
    "# финальная версия с несколькими полносвязанными и dropout слоями\n",
    "# и с оптимизатором Adam\n",
    "\n",
    "dropout_probaility = 0.4\n",
    " \n",
    "model = torch.nn.Sequential(\n",
    "    torch.nn.Flatten(),\n",
    "    torch.nn.Linear(784, 512), \n",
    "    #torch.nn.BatchNorm1d(512),\n",
    "    #torch.nn.Flatten(),\n",
    "    #torch.nn.BatchNorm1d(512),\n",
    "    torch.nn.ReLU(),\n",
    "    \n",
    "    #torch.nn.Dropout2d(p=dropout_probaility),\n",
    "    torch.nn.Linear(512, 256),\n",
    "    torch.nn.ReLU(),\n",
    "    torch.nn.Dropout2d(p=dropout_probaility),\n",
    "    \n",
    "    torch.nn.Linear(256, 10),\n",
    ")\n",
    "loss = torch.nn.CrossEntropyLoss()\n",
    "trainer = torch.optim.Adam(model.parameters(), lr=0.0002)\n",
    "num_epochs = 30"
   ]
  },
  {
   "cell_type": "code",
   "execution_count": 190,
   "metadata": {},
   "outputs": [
    {
     "name": "stdout",
     "output_type": "stream",
     "text": [
      "torch.Size([1, 28, 28])\n",
      "Layer Flatten(). X shape: torch.Size([1, 784])\n",
      "Layer Linear(in_features=784, out_features=512, bias=True). X shape: torch.Size([1, 512])\n",
      "Layer ReLU(). X shape: torch.Size([1, 512])\n",
      "Layer Linear(in_features=512, out_features=256, bias=True). X shape: torch.Size([1, 256])\n",
      "Layer ReLU(). X shape: torch.Size([1, 256])\n",
      "Layer Dropout2d(p=0.4, inplace=False). X shape: torch.Size([1, 256])\n",
      "Layer Linear(in_features=256, out_features=10, bias=True). X shape: torch.Size([1, 10])\n"
     ]
    }
   ],
   "source": [
    "test_model(model)"
   ]
  },
  {
   "cell_type": "code",
   "execution_count": 133,
   "metadata": {},
   "outputs": [
    {
     "name": "stdout",
     "output_type": "stream",
     "text": [
      "ep: 0, train_loss: 0.9491200462300726, train_acc: 0.6773, test_loss: 0.5631307624280453, test_acc: 0.8025\n",
      "ep: 1, train_loss: 0.546916217499591, train_acc: 0.8112833333333334, test_loss: 0.4772798165678978, test_acc: 0.831\n",
      "ep: 2, train_loss: 0.47472974772148946, train_acc: 0.8350166666666666, test_loss: 0.43585155382752416, test_acc: 0.8442\n",
      "ep: 3, train_loss: 0.4343224730897457, train_acc: 0.8477, test_loss: 0.4148285359144211, test_acc: 0.8504\n",
      "ep: 4, train_loss: 0.40819196942004754, train_acc: 0.8549166666666667, test_loss: 0.40074727311730385, test_acc: 0.8546\n",
      "ep: 5, train_loss: 0.3881975104200079, train_acc: 0.86035, test_loss: 0.38604316040873526, test_acc: 0.8595\n",
      "ep: 6, train_loss: 0.37372823116627146, train_acc: 0.8667166666666667, test_loss: 0.37764753624796865, test_acc: 0.862\n",
      "ep: 7, train_loss: 0.3592840888398759, train_acc: 0.8727, test_loss: 0.3671405863016844, test_acc: 0.8665\n",
      "ep: 8, train_loss: 0.3481939888380943, train_acc: 0.8741, test_loss: 0.35880582109093667, test_acc: 0.8677\n",
      "ep: 9, train_loss: 0.3375601590947902, train_acc: 0.8772333333333333, test_loss: 0.3525435600429773, test_acc: 0.8709\n",
      "ep: 10, train_loss: 0.3300979562262271, train_acc: 0.8812833333333333, test_loss: 0.3455926112830639, test_acc: 0.8737\n",
      "ep: 11, train_loss: 0.32337759003994315, train_acc: 0.8838166666666667, test_loss: 0.3433011990040541, test_acc: 0.874\n",
      "ep: 12, train_loss: 0.3138607267369615, train_acc: 0.8858166666666667, test_loss: 0.33982165679335596, test_acc: 0.8765\n",
      "ep: 13, train_loss: 0.3093441668977129, train_acc: 0.8881833333333333, test_loss: 0.33369933553040027, test_acc: 0.8783\n",
      "ep: 14, train_loss: 0.30444321194861795, train_acc: 0.88955, test_loss: 0.3309564761817455, test_acc: 0.8785\n",
      "ep: 15, train_loss: 0.2983917326369184, train_acc: 0.8905333333333333, test_loss: 0.3285114008933306, test_acc: 0.8802\n",
      "ep: 16, train_loss: 0.2904685176433401, train_acc: 0.8937666666666667, test_loss: 0.32635141983628274, test_acc: 0.8807\n",
      "ep: 17, train_loss: 0.2854260742030245, train_acc: 0.8954333333333333, test_loss: 0.3232797414064407, test_acc: 0.882\n",
      "ep: 18, train_loss: 0.2824953989145604, train_acc: 0.8977166666666667, test_loss: 0.32283993177115916, test_acc: 0.882\n",
      "ep: 19, train_loss: 0.2772534057180932, train_acc: 0.8988666666666667, test_loss: 0.31813879422843455, test_acc: 0.8848\n",
      "ep: 20, train_loss: 0.2712402788248468, train_acc: 0.90065, test_loss: 0.31621739696711304, test_acc: 0.8857\n",
      "ep: 21, train_loss: 0.2677712138028855, train_acc: 0.9021666666666667, test_loss: 0.31408152021467683, test_acc: 0.8845\n",
      "ep: 22, train_loss: 0.2644922764377391, train_acc: 0.9036666666666666, test_loss: 0.31511723101139066, test_acc: 0.8839\n",
      "ep: 23, train_loss: 0.25921381807073635, train_acc: 0.9058833333333334, test_loss: 0.3128480888903141, test_acc: 0.8882\n",
      "ep: 24, train_loss: 0.2574864533987451, train_acc: 0.9053333333333333, test_loss: 0.3098938239738345, test_acc: 0.8869\n",
      "ep: 25, train_loss: 0.2527380887498247, train_acc: 0.9071833333333333, test_loss: 0.3116048190742731, test_acc: 0.8892\n",
      "ep: 26, train_loss: 0.2491638609703551, train_acc: 0.90885, test_loss: 0.30876988675445316, test_acc: 0.8879\n",
      "ep: 27, train_loss: 0.24550979853944577, train_acc: 0.9104, test_loss: 0.30818938054144385, test_acc: 0.8899\n",
      "ep: 28, train_loss: 0.23915141472157012, train_acc: 0.9124333333333333, test_loss: 0.3055670799687505, test_acc: 0.89\n",
      "ep: 29, train_loss: 0.23921013652010167, train_acc: 0.91125, test_loss: 0.30562191642820835, test_acc: 0.8894\n"
     ]
    }
   ],
   "source": [
    "fit_model(num_epochs, model)"
   ]
  },
  {
   "cell_type": "code",
   "execution_count": null,
   "metadata": {},
   "outputs": [],
   "source": []
  }
 ],
 "metadata": {
  "kernelspec": {
   "display_name": "Python 3",
   "language": "python",
   "name": "python3"
  },
  "language_info": {
   "codemirror_mode": {
    "name": "ipython",
    "version": 3
   },
   "file_extension": ".py",
   "mimetype": "text/x-python",
   "name": "python",
   "nbconvert_exporter": "python",
   "pygments_lexer": "ipython3",
   "version": "3.7.3"
  }
 },
 "nbformat": 4,
 "nbformat_minor": 2
}
