{
 "cells": [
  {
   "cell_type": "markdown",
   "metadata": {
    "colab_type": "text",
    "id": "ze7p4BgdoKwL"
   },
   "source": [
    "### Задание\n",
    "\n",
    "1. Сгенерировать последовательности, которые бы состояли из цифр (от 0 до 9) и задавались следующим образом:\n",
    "x - последовательность цифр   \n",
    "y1 = x1, y(i) = x(i) + x(1). Если y(i) >= 10, то y(i) = y(i) - 10   \n",
    "2. научить модель предсказывать y(i) по x(i)\n",
    "3. попробовать RNN, LSTM, GRU"
   ]
  },
  {
   "cell_type": "code",
   "execution_count": 1,
   "metadata": {
    "colab": {},
    "colab_type": "code",
    "id": "qsMS6jyUoKwN"
   },
   "outputs": [],
   "source": [
    "import torch\n",
    "from torch import nn\n",
    "import numpy as np\n",
    "import re\n",
    "import random\n",
    "import tqdm\n",
    "import time"
   ]
  },
  {
   "cell_type": "code",
   "execution_count": 2,
   "metadata": {},
   "outputs": [],
   "source": [
    "device = torch.device(\"cuda\" if torch.cuda.is_available() else \"cpu\")"
   ]
  },
  {
   "cell_type": "code",
   "execution_count": 3,
   "metadata": {
    "colab": {},
    "colab_type": "code",
    "id": "m8NCJBjkoKwZ"
   },
   "outputs": [],
   "source": [
    "def generate_xy(sequence_len=100, batch_size=1, torch_type = torch.long):\n",
    "    ''' \n",
    "    Создание датасета по алгоритму: \n",
    "    y1 = x1, y(i) = x(i) + x(1). Если y(i) >= 10, то y(i) = y(i) - 10   \n",
    "    '''\n",
    "    # torch_type = torch.long\n",
    "    assert batch_size >= 1, 'Wrong batch size'\n",
    "    if sequence_len is None:\n",
    "        sequence_len = np.random.randint(10, 100)\n",
    "        \n",
    "    X = torch.zeros((batch_size, sequence_len), dtype=torch_type, device=device)\n",
    "    y = torch.zeros((batch_size, sequence_len), dtype=torch_type, device=device)\n",
    "\n",
    "    for i in range(batch_size):\n",
    "        X_line = np.random.randint(0, 9, size=[sequence_len])\n",
    "        y_line = X_line + X_line[0]\n",
    "        y_line = np.vectorize(lambda x: x if x < 10 else x - 10)(y_line)\n",
    "        y_line[0] = X_line[0]\n",
    "        X[i] = torch.tensor(X_line, dtype=torch_type, device=device)\n",
    "        y[i] = torch.tensor(y_line, dtype=torch_type, device=device)\n",
    "    return X, y"
   ]
  },
  {
   "cell_type": "code",
   "execution_count": 4,
   "metadata": {
    "colab": {},
    "colab_type": "code",
    "id": "qqP-IhwvoKwj"
   },
   "outputs": [],
   "source": [
    "X, y = generate_xy(sequence_len=10, batch_size=10, torch_type=torch.long)"
   ]
  },
  {
   "cell_type": "code",
   "execution_count": 5,
   "metadata": {
    "colab": {},
    "colab_type": "code",
    "id": "fbdaCemVoKwx"
   },
   "outputs": [],
   "source": [
    "class NeuralNetwork(nn.Module):\n",
    "    def _print(self, *text):\n",
    "        if self.debug:\n",
    "            print(*text)\n",
    "    \n",
    "    def __init__(self, rnnClass, input_size, embedding_size, num_hiddens, num_classes, debug=False):\n",
    "        super().__init__()\n",
    "        self.num_hiddens = num_hiddens\n",
    "        self.embedding = nn.Embedding(input_size, embedding_size)\n",
    "        self.hidden = rnnClass(embedding_size, num_hiddens, batch_first=True)\n",
    "        self.output = nn.Linear(num_hiddens, num_classes)\n",
    "        self.debug = debug\n",
    "        \n",
    "    def forward(self, X):\n",
    "        out = self.embedding(X)\n",
    "        if type(self.hidden) == nn.LSTM:\n",
    "            _, (state, _) = self.hidden(out)\n",
    "        else:\n",
    "            _, state = self.hidden(out)\n",
    "        self._print(f'model.forward| state : {state.shape}, state[0] : {state[0].shape}')\n",
    "        predictions = self.output(state[0])\n",
    "        self._print(f'model.forward| predictions : {predictions.shape}' )\n",
    "        return predictions    "
   ]
  },
  {
   "cell_type": "code",
   "execution_count": 6,
   "metadata": {
    "colab": {},
    "colab_type": "code",
    "id": "LRCzQX4UoKw_"
   },
   "outputs": [],
   "source": [
    "model = NeuralNetwork(rnnClass=nn.LSTM, input_size=10, embedding_size=64, \n",
    "                      num_hiddens=64, num_classes=10, debug=True\n",
    "                     )\n",
    "\n",
    "model = model.cuda() if torch.cuda.is_available() else model.cpu()"
   ]
  },
  {
   "cell_type": "code",
   "execution_count": 7,
   "metadata": {},
   "outputs": [
    {
     "data": {
      "text/plain": [
       "tensor(3)"
      ]
     },
     "execution_count": 7,
     "metadata": {},
     "output_type": "execute_result"
    }
   ],
   "source": [
    "torch.tensor([1,2,3,4,3,2,1]).argmax()"
   ]
  },
  {
   "cell_type": "code",
   "execution_count": 8,
   "metadata": {
    "colab": {
     "base_uri": "https://localhost:8080/",
     "height": 72
    },
    "colab_type": "code",
    "id": "mFVf5zdnoKxE",
    "outputId": "b7b718a0-45c9-43ad-b03a-6cb5725d3b86"
   },
   "outputs": [
    {
     "name": "stdout",
     "output_type": "stream",
     "text": [
      "torch.Size([1, 10]) tensor([[6, 4, 8, 8, 8, 0, 6, 2, 5, 6]])\n",
      "torch.Size([1, 10]) tensor([[6, 0, 4, 4, 4, 6, 2, 8, 1, 2]])\n",
      "model.forward| state : torch.Size([1, 1, 64]), state[0] : torch.Size([1, 64])\n",
      "model.forward| predictions : torch.Size([1, 10])\n",
      "answers :  torch.Size([1, 10]) 6\n"
     ]
    }
   ],
   "source": [
    "X, y = generate_xy(sequence_len=10, batch_size=1)\n",
    "print(X.shape, X)\n",
    "print(y.shape, y)\n",
    "answers = model.forward(X)\n",
    "print('answers : ', answers.shape, np.argmax(answers.detach().numpy()))"
   ]
  },
  {
   "cell_type": "code",
   "execution_count": 9,
   "metadata": {
    "colab": {},
    "colab_type": "code",
    "id": "BWngVSEVIFzj"
   },
   "outputs": [],
   "source": [
    "def generate_sequence(model, sequence_len=10, debug=False):\n",
    "    X, y = generate_xy(sequence_len=sequence_len, batch_size=1)    \n",
    "    if debug:\n",
    "        print('X: ', X)\n",
    "        print('y: ', y)\n",
    "    \n",
    "    preds = torch.zeros( (1, sequence_len), dtype=int, device=device)\n",
    "    for i in range(sequence_len):\n",
    "        next_digit = model(X[:, :(i + 1)])\n",
    "        preds[0, i] = next_digit.argmax()\n",
    "        if debug:\n",
    "            print(f'======= i = {i}')\n",
    "            print('X[:, :(i + 1)] : ', X[:, :(i + 1)])\n",
    "            print('next_digit : ', next_digit, next_digit.argmax())\n",
    "            print('next_digit softmax: ', torch.softmax(next_digit, 1), torch.softmax(next_digit, 1).argmax())\n",
    "            print('pred : ', preds)\n",
    "\n",
    "    print(y, preds)"
   ]
  },
  {
   "cell_type": "code",
   "execution_count": 10,
   "metadata": {},
   "outputs": [
    {
     "name": "stdout",
     "output_type": "stream",
     "text": [
      "model.forward| state : torch.Size([1, 1, 64]), state[0] : torch.Size([1, 64])\n",
      "model.forward| predictions : torch.Size([1, 10])\n",
      "model.forward| state : torch.Size([1, 1, 64]), state[0] : torch.Size([1, 64])\n",
      "model.forward| predictions : torch.Size([1, 10])\n",
      "model.forward| state : torch.Size([1, 1, 64]), state[0] : torch.Size([1, 64])\n",
      "model.forward| predictions : torch.Size([1, 10])\n",
      "model.forward| state : torch.Size([1, 1, 64]), state[0] : torch.Size([1, 64])\n",
      "model.forward| predictions : torch.Size([1, 10])\n",
      "model.forward| state : torch.Size([1, 1, 64]), state[0] : torch.Size([1, 64])\n",
      "model.forward| predictions : torch.Size([1, 10])\n",
      "model.forward| state : torch.Size([1, 1, 64]), state[0] : torch.Size([1, 64])\n",
      "model.forward| predictions : torch.Size([1, 10])\n",
      "model.forward| state : torch.Size([1, 1, 64]), state[0] : torch.Size([1, 64])\n",
      "model.forward| predictions : torch.Size([1, 10])\n",
      "model.forward| state : torch.Size([1, 1, 64]), state[0] : torch.Size([1, 64])\n",
      "model.forward| predictions : torch.Size([1, 10])\n",
      "model.forward| state : torch.Size([1, 1, 64]), state[0] : torch.Size([1, 64])\n",
      "model.forward| predictions : torch.Size([1, 10])\n",
      "model.forward| state : torch.Size([1, 1, 64]), state[0] : torch.Size([1, 64])\n",
      "model.forward| predictions : torch.Size([1, 10])\n",
      "tensor([[8, 5, 1, 3, 4, 6, 6, 4, 6, 6]]) tensor([[2, 2, 4, 4, 6, 2, 2, 6, 2, 2]])\n"
     ]
    }
   ],
   "source": [
    "generate_sequence(model, debug=False)"
   ]
  },
  {
   "cell_type": "code",
   "execution_count": 11,
   "metadata": {},
   "outputs": [
    {
     "name": "stdout",
     "output_type": "stream",
     "text": [
      "tensor([[5, 7, 7, 7, 4]]) tensor([[5, 2, 2, 2, 9]])\n",
      "tensor([[5]]) tensor([5])\n",
      "tensor([[5, 7]]) tensor([2])\n",
      "tensor([[5, 7, 7]]) tensor([2])\n",
      "tensor([[5, 7, 7, 7]]) tensor([2])\n",
      "tensor([[5, 7, 7, 7, 4]]) tensor([9])\n"
     ]
    }
   ],
   "source": [
    "# test learning\n",
    "X, y = generate_xy(sequence_len=5, batch_size=1) \n",
    "print(X, y)\n",
    "for i in range( 5 ):\n",
    "    print(X[:, :(i+1)], y[:, i])"
   ]
  },
  {
   "cell_type": "code",
   "execution_count": 13,
   "metadata": {
    "colab": {},
    "colab_type": "code",
    "id": "rl1hUzqWoKxj"
   },
   "outputs": [],
   "source": [
    "def train(model, criterion, optimizer, epochs=300, sequence_len=100, batch_size=100):\n",
    "    for ep in range(epochs + 1):\n",
    "        start = time.time()\n",
    "        train_loss = 0.\n",
    "        train_passed = 0\n",
    "\n",
    "        model.train()\n",
    "        X, y = generate_xy(sequence_len=sequence_len, batch_size=batch_size)\n",
    "        for i in range( sequence_len ):\n",
    "            optimizer.zero_grad()\n",
    "            model.zero_grad()\n",
    "            answers = model.forward(X[:, :(i + 1)])\n",
    "            loss = criterion(answers, y[:, i])        \n",
    "            train_loss += loss.item()\n",
    "\n",
    "            loss.backward()\n",
    "            optimizer.step()\n",
    "            train_passed += 1\n",
    "\n",
    "        if ep % 50 == 0 and ep != 0:\n",
    "            print(\"Epoch {}. Time: {:.3f}, Train loss: {:.3f}\".format(ep, time.time() - start, train_loss / train_passed))\n",
    "            model.eval()\n",
    "            generate_sequence(model)     "
   ]
  },
  {
   "cell_type": "code",
   "execution_count": 17,
   "metadata": {
    "colab": {
     "base_uri": "https://localhost:8080/",
     "height": 235
    },
    "colab_type": "code",
    "id": "7swfeG5HCT_9",
    "outputId": "5760df08-f815-44b0-8b2f-22d9b045cea1"
   },
   "outputs": [
    {
     "name": "stdout",
     "output_type": "stream",
     "text": [
      "Epoch 50. Time: 0.043, Train loss: 2.257\n",
      "tensor([[3, 1, 0, 8, 6, 0, 6, 8, 3, 9]]) tensor([[3, 8, 8, 5, 3, 8, 3, 5, 0, 6]])\n",
      "Epoch 100. Time: 0.047, Train loss: 2.065\n",
      "tensor([[2, 4, 2, 8, 3, 2, 6, 6, 2, 7]]) tensor([[2, 2, 2, 6, 9, 8, 5, 5, 8, 9]])\n",
      "Epoch 150. Time: 0.032, Train loss: 1.885\n",
      "tensor([[7, 5, 5, 8, 8, 1, 0, 2, 5, 8]]) tensor([[7, 8, 6, 9, 9, 6, 1, 9, 6, 9]])\n",
      "Epoch 200. Time: 0.052, Train loss: 1.894\n",
      "tensor([[0, 4, 1, 1, 3, 0, 2, 4, 4, 2]]) tensor([[0, 4, 1, 1, 3, 0, 2, 4, 4, 2]])\n",
      "Epoch 250. Time: 0.042, Train loss: 1.884\n",
      "tensor([[6, 1, 1, 0, 8, 0, 6, 6, 2, 1]]) tensor([[6, 1, 1, 1, 3, 1, 6, 1, 8, 1]])\n",
      "Epoch 300. Time: 0.040, Train loss: 1.780\n",
      "tensor([[0, 2, 5, 3, 1, 8, 4, 2, 7, 4]]) tensor([[0, 2, 5, 3, 1, 8, 4, 2, 7, 4]])\n",
      "Epoch 350. Time: 0.047, Train loss: 1.743\n",
      "tensor([[5, 0, 0, 3, 6, 2, 0, 2, 9, 6]]) tensor([[5, 0, 5, 3, 6, 2, 0, 2, 5, 6]])\n",
      "Epoch 400. Time: 0.043, Train loss: 1.335\n",
      "tensor([[3, 4, 0, 4, 7, 9, 6, 6, 6, 4]]) tensor([[3, 4, 4, 4, 1, 3, 0, 0, 0, 4]])\n",
      "Epoch 450. Time: 0.032, Train loss: 0.789\n",
      "tensor([[1, 9, 5, 9, 2, 8, 5, 1, 3, 4]]) tensor([[1, 9, 5, 9, 2, 8, 5, 1, 3, 9]])\n",
      "Epoch 500. Time: 0.042, Train loss: 0.446\n",
      "tensor([[6, 2, 1, 0, 0, 4, 1, 4, 2, 1]]) tensor([[6, 2, 1, 0, 0, 4, 1, 4, 2, 1]])\n",
      "Epoch 550. Time: 0.032, Train loss: 0.238\n",
      "tensor([[1, 8, 4, 3, 3, 2, 7, 9, 9, 2]]) tensor([[1, 8, 4, 3, 3, 2, 7, 9, 9, 2]])\n",
      "Epoch 600. Time: 0.032, Train loss: 0.146\n",
      "tensor([[5, 5, 3, 7, 5, 9, 6, 8, 5, 5]]) tensor([[5, 5, 3, 7, 5, 9, 6, 8, 5, 5]])\n",
      "Epoch 650. Time: 0.034, Train loss: 0.083\n",
      "tensor([[8, 4, 1, 1, 8, 0, 9, 9, 0, 2]]) tensor([[8, 4, 1, 1, 8, 0, 9, 9, 0, 2]])\n",
      "Epoch 700. Time: 0.049, Train loss: 0.056\n",
      "tensor([[1, 5, 5, 8, 5, 5, 4, 5, 2, 9]]) tensor([[1, 5, 5, 8, 5, 5, 4, 5, 2, 9]])\n",
      "Epoch 750. Time: 0.054, Train loss: 0.040\n",
      "tensor([[5, 7, 0, 5, 8, 0, 9, 5, 1, 3]]) tensor([[5, 7, 0, 5, 8, 0, 9, 5, 1, 3]])\n",
      "Epoch 800. Time: 0.036, Train loss: 0.022\n",
      "tensor([[8, 9, 2, 5, 8, 3, 0, 4, 4, 0]]) tensor([[8, 9, 2, 5, 8, 3, 0, 4, 4, 0]])\n",
      "Epoch 850. Time: 0.050, Train loss: 0.017\n",
      "tensor([[5, 0, 0, 3, 3, 6, 6, 8, 7, 5]]) tensor([[5, 0, 0, 3, 3, 6, 6, 8, 7, 5]])\n",
      "Epoch 900. Time: 0.047, Train loss: 0.012\n",
      "tensor([[5, 0, 3, 1, 3, 3, 9, 5, 2, 3]]) tensor([[5, 0, 3, 1, 3, 3, 9, 5, 2, 3]])\n",
      "Epoch 950. Time: 0.045, Train loss: 0.012\n",
      "tensor([[2, 5, 4, 0, 4, 9, 0, 8, 9, 9]]) tensor([[2, 5, 4, 0, 4, 9, 0, 8, 9, 9]])\n",
      "Epoch 1000. Time: 0.039, Train loss: 0.009\n",
      "tensor([[8, 8, 8, 0, 1, 8, 0, 1, 2, 4]]) tensor([[8, 8, 8, 0, 1, 8, 0, 1, 2, 4]])\n"
     ]
    }
   ],
   "source": [
    "model = NeuralNetwork(rnnClass=nn.RNN, input_size=10, embedding_size=64, \n",
    "                      num_hiddens=64, num_classes=10, debug=False)\n",
    "\n",
    "model = model.cuda() if torch.cuda.is_available() else model.cpu()\n",
    "criterion = torch.nn.CrossEntropyLoss()\n",
    "optimizer = torch.optim.Adam(model.parameters(), lr=0.001)\n",
    "\n",
    "train(model, criterion, optimizer, epochs=1000, sequence_len=10, batch_size=10)"
   ]
  },
  {
   "cell_type": "code",
   "execution_count": 15,
   "metadata": {
    "colab": {
     "base_uri": "https://localhost:8080/",
     "height": 235
    },
    "colab_type": "code",
    "id": "Q9K2X1bFoKx1",
    "outputId": "dfab2e6c-a6aa-4572-a444-dd7ba1454a97"
   },
   "outputs": [
    {
     "name": "stdout",
     "output_type": "stream",
     "text": [
      "Epoch 50. Time: 0.074, Train loss: 2.283\n",
      "tensor([[4, 1, 1, 2, 4, 5, 1, 5, 0, 1]]) tensor([[4, 7, 7, 8, 4, 5, 7, 5, 9, 7]])\n",
      "Epoch 100. Time: 0.063, Train loss: 1.993\n",
      "tensor([[5, 5, 5, 6, 9, 3, 5, 3, 3, 7]]) tensor([[5, 5, 5, 1, 4, 5, 5, 0, 0, 0]])\n",
      "Epoch 150. Time: 0.072, Train loss: 0.968\n",
      "tensor([[7, 2, 5, 7, 7, 1, 0, 0, 8, 2]]) tensor([[7, 2, 5, 7, 7, 1, 0, 0, 8, 2]])\n",
      "Epoch 200. Time: 0.069, Train loss: 0.251\n",
      "tensor([[6, 4, 3, 2, 9, 9, 7, 4, 1, 2]]) tensor([[6, 4, 3, 2, 9, 9, 7, 4, 1, 2]])\n",
      "Epoch 250. Time: 0.054, Train loss: 0.091\n",
      "tensor([[6, 6, 1, 1, 4, 2, 2, 1, 0, 2]]) tensor([[6, 6, 1, 1, 4, 2, 2, 1, 0, 2]])\n",
      "Epoch 300. Time: 0.054, Train loss: 0.047\n",
      "tensor([[1, 4, 3, 2, 5, 8, 5, 8, 9, 4]]) tensor([[1, 4, 3, 2, 5, 8, 5, 8, 9, 4]])\n",
      "Epoch 350. Time: 0.050, Train loss: 0.033\n",
      "tensor([[8, 6, 2, 2, 4, 9, 4, 4, 5, 2]]) tensor([[8, 6, 2, 2, 4, 9, 4, 4, 5, 2]])\n",
      "Epoch 400. Time: 0.063, Train loss: 0.015\n",
      "tensor([[3, 4, 4, 8, 6, 9, 3, 8, 8, 9]]) tensor([[3, 4, 4, 8, 6, 9, 3, 8, 8, 9]])\n",
      "Epoch 450. Time: 0.086, Train loss: 0.014\n",
      "tensor([[8, 4, 8, 0, 2, 4, 5, 2, 5, 4]]) tensor([[8, 4, 8, 0, 2, 4, 5, 2, 5, 4]])\n",
      "Epoch 500. Time: 0.072, Train loss: 0.008\n",
      "tensor([[4, 2, 9, 4, 8, 7, 0, 8, 5, 6]]) tensor([[4, 2, 9, 4, 8, 7, 0, 8, 5, 6]])\n",
      "Epoch 550. Time: 0.066, Train loss: 0.006\n",
      "tensor([[2, 5, 8, 3, 4, 0, 6, 0, 9, 3]]) tensor([[2, 5, 8, 3, 4, 0, 6, 0, 9, 3]])\n",
      "Epoch 600. Time: 0.075, Train loss: 0.006\n",
      "tensor([[0, 7, 7, 6, 3, 5, 4, 4, 5, 4]]) tensor([[0, 7, 7, 6, 3, 5, 4, 4, 5, 4]])\n",
      "Epoch 650. Time: 0.074, Train loss: 0.004\n",
      "tensor([[0, 8, 7, 6, 5, 1, 4, 0, 6, 5]]) tensor([[0, 8, 7, 6, 5, 1, 4, 0, 6, 5]])\n",
      "Epoch 700. Time: 0.070, Train loss: 0.003\n",
      "tensor([[2, 8, 2, 0, 6, 8, 8, 3, 8, 6]]) tensor([[2, 8, 2, 0, 6, 8, 8, 3, 8, 6]])\n",
      "Epoch 750. Time: 0.067, Train loss: 0.002\n",
      "tensor([[4, 9, 6, 8, 7, 7, 5, 0, 1, 8]]) tensor([[4, 9, 6, 8, 7, 7, 5, 0, 1, 8]])\n",
      "Epoch 800. Time: 0.081, Train loss: 0.001\n",
      "tensor([[8, 3, 5, 8, 9, 3, 1, 5, 3, 6]]) tensor([[8, 3, 5, 8, 9, 3, 1, 5, 3, 6]])\n",
      "Epoch 850. Time: 0.068, Train loss: 0.001\n",
      "tensor([[8, 6, 9, 6, 8, 5, 9, 1, 0, 0]]) tensor([[8, 6, 9, 6, 8, 5, 9, 1, 0, 0]])\n",
      "Epoch 900. Time: 0.075, Train loss: 0.001\n",
      "tensor([[6, 7, 4, 9, 3, 4, 6, 8, 2, 0]]) tensor([[6, 7, 4, 9, 3, 4, 6, 8, 2, 0]])\n",
      "Epoch 950. Time: 0.071, Train loss: 0.001\n",
      "tensor([[0, 0, 0, 1, 2, 5, 8, 3, 4, 3]]) tensor([[0, 0, 0, 1, 2, 5, 8, 3, 4, 3]])\n",
      "Epoch 1000. Time: 0.090, Train loss: 0.001\n",
      "tensor([[7, 8, 0, 8, 9, 1, 2, 7, 3, 4]]) tensor([[7, 8, 0, 8, 9, 1, 2, 7, 3, 4]])\n"
     ]
    }
   ],
   "source": [
    "model = NeuralNetwork(rnnClass=nn.GRU, input_size=10, embedding_size=64, \n",
    "                      num_hiddens=64, num_classes=10)\n",
    "\n",
    "model = model.cuda() if torch.cuda.is_available() else model.cpu()\n",
    "criterion = torch.nn.CrossEntropyLoss()\n",
    "optimizer = torch.optim.Adam(model.parameters(), lr=0.001)\n",
    "\n",
    "train(model, criterion, optimizer, epochs=1000, sequence_len=10, batch_size=10)"
   ]
  },
  {
   "cell_type": "code",
   "execution_count": 16,
   "metadata": {
    "colab": {
     "base_uri": "https://localhost:8080/",
     "height": 235
    },
    "colab_type": "code",
    "id": "yEjI8vXGCZxD",
    "outputId": "dd72a199-536c-4e8b-f814-7b0944ce8d6c"
   },
   "outputs": [
    {
     "name": "stdout",
     "output_type": "stream",
     "text": [
      "Epoch 50. Time: 0.062, Train loss: 2.006\n",
      "tensor([[3, 8, 7, 6, 7, 9, 5, 4, 5, 4]]) tensor([[3, 5, 4, 3, 4, 6, 6, 5, 9, 5]])\n",
      "Epoch 100. Time: 0.072, Train loss: 1.126\n",
      "tensor([[1, 8, 9, 5, 8, 4, 1, 2, 6, 9]]) tensor([[1, 4, 5, 5, 4, 4, 1, 4, 8, 9]])\n",
      "Epoch 150. Time: 0.077, Train loss: 0.378\n",
      "tensor([[4, 1, 5, 7, 6, 5, 6, 4, 2, 6]]) tensor([[4, 1, 5, 7, 6, 5, 6, 4, 2, 6]])\n",
      "Epoch 200. Time: 0.071, Train loss: 0.141\n",
      "tensor([[1, 8, 2, 6, 6, 9, 3, 7, 5, 3]]) tensor([[1, 8, 2, 6, 6, 9, 3, 7, 5, 3]])\n",
      "Epoch 250. Time: 0.070, Train loss: 0.059\n",
      "tensor([[3, 7, 3, 0, 8, 5, 9, 3, 9, 0]]) tensor([[3, 7, 3, 0, 8, 5, 9, 3, 9, 0]])\n",
      "Epoch 300. Time: 0.063, Train loss: 0.045\n",
      "tensor([[5, 6, 9, 8, 8, 6, 6, 7, 8, 5]]) tensor([[5, 6, 9, 8, 8, 6, 6, 7, 8, 5]])\n",
      "Epoch 350. Time: 0.076, Train loss: 0.020\n",
      "tensor([[1, 5, 9, 7, 7, 8, 4, 8, 2, 3]]) tensor([[1, 5, 9, 7, 7, 8, 4, 8, 2, 3]])\n",
      "Epoch 400. Time: 0.070, Train loss: 0.015\n",
      "tensor([[3, 9, 1, 1, 8, 7, 4, 0, 4, 6]]) tensor([[3, 9, 1, 1, 8, 7, 4, 0, 4, 6]])\n",
      "Epoch 450. Time: 0.062, Train loss: 0.015\n",
      "tensor([[8, 8, 6, 8, 0, 5, 8, 8, 8, 4]]) tensor([[8, 8, 6, 8, 0, 5, 8, 8, 8, 4]])\n",
      "Epoch 500. Time: 0.062, Train loss: 0.009\n",
      "tensor([[1, 3, 2, 6, 3, 1, 6, 6, 3, 2]]) tensor([[1, 3, 2, 6, 3, 1, 6, 6, 3, 2]])\n",
      "Epoch 550. Time: 0.065, Train loss: 0.005\n",
      "tensor([[4, 5, 4, 0, 4, 6, 0, 8, 5, 0]]) tensor([[4, 5, 4, 0, 4, 6, 0, 8, 5, 0]])\n",
      "Epoch 600. Time: 0.078, Train loss: 0.004\n",
      "tensor([[4, 4, 2, 9, 5, 5, 0, 7, 4, 6]]) tensor([[4, 4, 2, 9, 5, 5, 0, 7, 4, 6]])\n",
      "Epoch 650. Time: 0.070, Train loss: 0.003\n",
      "tensor([[4, 1, 8, 1, 1, 6, 7, 8, 0, 2]]) tensor([[4, 1, 8, 1, 1, 6, 7, 8, 0, 2]])\n",
      "Epoch 700. Time: 0.065, Train loss: 0.002\n",
      "tensor([[1, 9, 3, 7, 4, 2, 3, 4, 3, 4]]) tensor([[1, 9, 3, 7, 4, 2, 3, 4, 3, 4]])\n",
      "Epoch 750. Time: 0.075, Train loss: 0.002\n",
      "tensor([[4, 9, 1, 5, 8, 0, 5, 5, 1, 8]]) tensor([[4, 9, 1, 5, 8, 0, 5, 5, 1, 8]])\n",
      "Epoch 800. Time: 0.069, Train loss: 0.002\n",
      "tensor([[2, 6, 2, 0, 8, 4, 2, 0, 0, 0]]) tensor([[2, 6, 2, 0, 8, 4, 2, 0, 0, 0]])\n",
      "Epoch 850. Time: 0.070, Train loss: 0.001\n",
      "tensor([[7, 0, 3, 1, 1, 2, 9, 5, 2, 0]]) tensor([[7, 0, 3, 1, 1, 2, 9, 5, 2, 0]])\n",
      "Epoch 900. Time: 0.073, Train loss: 0.001\n",
      "tensor([[2, 6, 8, 7, 6, 7, 4, 0, 7, 2]]) tensor([[2, 6, 8, 7, 6, 7, 4, 0, 7, 2]])\n",
      "Epoch 950. Time: 0.072, Train loss: 0.001\n",
      "tensor([[8, 8, 5, 8, 4, 3, 9, 4, 6, 0]]) tensor([[8, 8, 5, 8, 4, 3, 9, 4, 6, 0]])\n",
      "Epoch 1000. Time: 0.079, Train loss: 0.000\n",
      "tensor([[4, 2, 4, 2, 7, 5, 8, 1, 4, 0]]) tensor([[4, 2, 4, 2, 7, 5, 8, 1, 4, 0]])\n"
     ]
    }
   ],
   "source": [
    "model = NeuralNetwork(rnnClass=nn.LSTM, input_size=10, embedding_size=64, \n",
    "                      num_hiddens=64, num_classes=10)\n",
    "\n",
    "model = model.cuda() if torch.cuda.is_available() else model.cpu()\n",
    "criterion = torch.nn.CrossEntropyLoss()\n",
    "optimizer = torch.optim.Adam(model.parameters(), lr=0.001)\n",
    "\n",
    "train(model, criterion, optimizer, epochs=1000, sequence_len=10, batch_size=10)"
   ]
  },
  {
   "cell_type": "markdown",
   "metadata": {
    "colab": {},
    "colab_type": "code",
    "id": "XofTK8QxEYbb"
   },
   "source": [
    "По результату - GRU и LSTM оказываются на одном уровне качества по сходимости, в то время как ванильная RNN существенно проигрывает в качестве, выигрывая в скорости обучения"
   ]
  },
  {
   "cell_type": "code",
   "execution_count": null,
   "metadata": {},
   "outputs": [],
   "source": []
  }
 ],
 "metadata": {
  "accelerator": "GPU",
  "colab": {
   "collapsed_sections": [],
   "name": "homework_7.ipynb",
   "provenance": []
  },
  "kernelspec": {
   "display_name": "Python 3",
   "language": "python",
   "name": "python3"
  },
  "language_info": {
   "codemirror_mode": {
    "name": "ipython",
    "version": 3
   },
   "file_extension": ".py",
   "mimetype": "text/x-python",
   "name": "python",
   "nbconvert_exporter": "python",
   "pygments_lexer": "ipython3",
   "version": "3.7.3"
  }
 },
 "nbformat": 4,
 "nbformat_minor": 2
}
