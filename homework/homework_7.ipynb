{
  "nbformat": 4,
  "nbformat_minor": 0,
  "metadata": {
    "kernelspec": {
      "display_name": "Python 3",
      "language": "python",
      "name": "python3"
    },
    "language_info": {
      "codemirror_mode": {
        "name": "ipython",
        "version": 3
      },
      "file_extension": ".py",
      "mimetype": "text/x-python",
      "name": "python",
      "nbconvert_exporter": "python",
      "pygments_lexer": "ipython3",
      "version": "3.7.3"
    },
    "colab": {
      "name": "homework_7.ipynb",
      "provenance": [],
      "collapsed_sections": []
    },
    "accelerator": "GPU"
  },
  "cells": [
    {
      "cell_type": "markdown",
      "metadata": {
        "id": "ze7p4BgdoKwL",
        "colab_type": "text"
      },
      "source": [
        "### Задание\n",
        "\n",
        "1. Сгенерировать последовательности, которые бы состояли из цифр (от 0 до 9) и задавались следующим образом:\n",
        "x - последовательность цифр   \n",
        "y1 = x1, y(i) = x(i) + x(1). Если y(i) >= 10, то y(i) = y(i) - 10   \n",
        "2. научить модель предсказывать y(i) по x(i)\n",
        "3. попробовать RNN, LSTM, GRU"
      ]
    },
    {
      "cell_type": "code",
      "metadata": {
        "id": "qsMS6jyUoKwN",
        "colab_type": "code",
        "colab": {}
      },
      "source": [
        "import torch\n",
        "from torch import nn\n",
        "import numpy as np\n",
        "import re\n",
        "import random\n",
        "import tqdm\n",
        "import time"
      ],
      "execution_count": 0,
      "outputs": []
    },
    {
      "cell_type": "code",
      "metadata": {
        "id": "m8NCJBjkoKwZ",
        "colab_type": "code",
        "colab": {}
      },
      "source": [
        "def generate_xy(sequence_len=100, batch_size=1, torch_type = torch.long):\n",
        "    ''' \n",
        "    Создание датасета по алгоритму: \n",
        "    y1 = x1, y(i) = x(i) + x(1). Если y(i) >= 10, то y(i) = y(i) - 10   \n",
        "    '''\n",
        "    # torch_type = torch.long\n",
        "    assert batch_size >= 1, 'Wrong batch size'\n",
        "    if sequence_len is None:\n",
        "        sequence_len = np.random.randint(10, 100)\n",
        "        \n",
        "    X = torch.zeros((batch_size, sequence_len), dtype=torch_type)\n",
        "    y = torch.zeros((batch_size, sequence_len), dtype=torch_type)\n",
        "\n",
        "    for i in range(batch_size):\n",
        "        X_line = np.random.randint(0, 9, size=[sequence_len])\n",
        "        y_line = X_line + X_line[0]\n",
        "        y_line = np.vectorize(lambda x: x if x < 10 else x - 10)(y_line)\n",
        "        y_line[0] = X_line[0]\n",
        "        X[i] = torch.tensor(X_line, dtype=torch_type)\n",
        "        y[i] = torch.tensor(y_line, dtype=torch_type)\n",
        "    return X, y"
      ],
      "execution_count": 0,
      "outputs": []
    },
    {
      "cell_type": "code",
      "metadata": {
        "id": "qqP-IhwvoKwj",
        "colab_type": "code",
        "colab": {}
      },
      "source": [
        "X, y = generate_xy(sequence_len=10, batch_size=10, torch_type=torch.long)"
      ],
      "execution_count": 0,
      "outputs": []
    },
    {
      "cell_type": "code",
      "metadata": {
        "id": "fbdaCemVoKwx",
        "colab_type": "code",
        "colab": {}
      },
      "source": [
        "class NeuralNetwork(nn.Module):\n",
        "    def __init__(self, rnnClass, input_size, embedding_size, num_hiddens, num_classes):\n",
        "        super().__init__()\n",
        "        self.num_hiddens = num_hiddens\n",
        "        self.embedding = nn.Embedding(input_size, embedding_size)\n",
        "        self.hidden = rnnClass(embedding_size, num_hiddens, batch_first=True)\n",
        "        self.output = nn.Linear(num_hiddens, num_classes)\n",
        "        \n",
        "    def forward(self, X):\n",
        "        out = self.embedding(X)\n",
        "        if type(self.hidden) == nn.LSTM:\n",
        "            _, (state, _) = self.hidden(out)\n",
        "        else:\n",
        "            _, state = self.hidden(out)\n",
        "\n",
        "        predictions = self.output(state[0])\n",
        "        return predictions    "
      ],
      "execution_count": 0,
      "outputs": []
    },
    {
      "cell_type": "code",
      "metadata": {
        "id": "7rpR70GioKw4",
        "colab_type": "code",
        "colab": {}
      },
      "source": [
        "def sample(preds):\n",
        "    softmaxed = torch.softmax(preds, 0)\n",
        "    probas = torch.distributions.multinomial.Multinomial(1, softmaxed).sample()\n",
        "    return probas.argmax()"
      ],
      "execution_count": 0,
      "outputs": []
    },
    {
      "cell_type": "code",
      "metadata": {
        "id": "LRCzQX4UoKw_",
        "colab_type": "code",
        "colab": {}
      },
      "source": [
        "model = NeuralNetwork(rnnClass=nn.LSTM, input_size=10, embedding_size=64, \n",
        "                      num_hiddens=64, num_classes=10)\n",
        "\n",
        "model = model.cuda()"
      ],
      "execution_count": 0,
      "outputs": []
    },
    {
      "cell_type": "code",
      "metadata": {
        "id": "mFVf5zdnoKxE",
        "colab_type": "code",
        "colab": {
          "base_uri": "https://localhost:8080/",
          "height": 72
        },
        "outputId": "b7b718a0-45c9-43ad-b03a-6cb5725d3b86"
      },
      "source": [
        "X, y = generate_xy(sequence_len=10, batch_size=1)\n",
        "print(X.shape, X)\n",
        "print(y.shape, y)\n",
        "X = X.cuda()\n",
        "answers = model.forward(X)\n",
        "print(answers.shape)"
      ],
      "execution_count": 52,
      "outputs": [
        {
          "output_type": "stream",
          "text": [
            "torch.Size([1, 10]) tensor([[1, 8, 2, 0, 1, 4, 6, 1, 5, 8]])\n",
            "torch.Size([1, 10]) tensor([[1, 9, 3, 1, 2, 5, 7, 2, 6, 9]])\n",
            "torch.Size([1, 10])\n"
          ],
          "name": "stdout"
        }
      ]
    },
    {
      "cell_type": "code",
      "metadata": {
        "id": "BWngVSEVIFzj",
        "colab_type": "code",
        "colab": {}
      },
      "source": [
        "def generate_sequence(sequence_len=10):\n",
        "    X, y = generate_xy(sequence_len=sequence_len, batch_size=1)    \n",
        "\n",
        "    x_pred = torch.zeros( (1, sequence_len) , dtype=int)\n",
        "    preds = torch.zeros( (1, sequence_len), dtype=int)\n",
        "    for i in range(sequence_len):\n",
        "        x_pred[0, i] = X.flatten()[i]\n",
        "\n",
        "        next_digit = model(x_pred.cuda())\n",
        "        preds[0, i] = sample(next_digit)\n",
        "\n",
        "    print(y, preds)"
      ],
      "execution_count": 0,
      "outputs": []
    },
    {
      "cell_type": "code",
      "metadata": {
        "id": "rl1hUzqWoKxj",
        "colab_type": "code",
        "colab": {}
      },
      "source": [
        "def train(model, criterion, optimizer, epochs=300, sequence_len=100, batch_size=100):\n",
        "    for ep in range(epochs + 1):\n",
        "        start = time.time()\n",
        "        train_loss = 0.\n",
        "        train_passed = 0\n",
        "\n",
        "        model.train()\n",
        "        X, y = generate_xy(sequence_len=sequence_len, batch_size=batch_size)\n",
        "        X = X.cuda()\n",
        "        y = y.cuda()\n",
        "        for i in range( sequence_len ):\n",
        "            optimizer.zero_grad()\n",
        "            answers = model.forward(X[:, :(i+1)])\n",
        "            \n",
        "            loss = criterion(answers.view(-1, 10), y[:, i].flatten())\n",
        "            train_loss += loss.item()\n",
        "\n",
        "            loss.backward()\n",
        "            optimizer.step()\n",
        "            train_passed += 1\n",
        "\n",
        "        if ep % 50 == 0 and ep != 0:\n",
        "            print(\"Epoch {}. Time: {:.3f}, Train loss: {:.3f}\".format(ep, time.time() - start, train_loss / train_passed))\n",
        "            model.eval()\n",
        "            generate_sequence()     "
      ],
      "execution_count": 0,
      "outputs": []
    },
    {
      "cell_type": "code",
      "metadata": {
        "id": "7swfeG5HCT_9",
        "colab_type": "code",
        "colab": {
          "base_uri": "https://localhost:8080/",
          "height": 235
        },
        "outputId": "5760df08-f815-44b0-8b2f-22d9b045cea1"
      },
      "source": [
        "model = NeuralNetwork(rnnClass=nn.RNN, input_size=10, embedding_size=64, \n",
        "                      num_hiddens=64, num_classes=10)\n",
        "\n",
        "model = model.cuda()\n",
        "criterion = torch.nn.CrossEntropyLoss()\n",
        "optimizer = torch.optim.Adam(model.parameters(), lr=0.001)\n",
        "\n",
        "train(model, criterion, optimizer, epochs=300, sequence_len=10, batch_size=1000)"
      ],
      "execution_count": 56,
      "outputs": [
        {
          "output_type": "stream",
          "text": [
            "Epoch 50. Time: 0.107, Train loss: 1.017\n",
            "tensor([[8, 6, 1, 2, 5, 6, 3, 0, 4, 3]]) tensor([[3, 6, 4, 0, 4, 6, 8, 6, 9, 4]])\n",
            "Epoch 100. Time: 0.100, Train loss: 0.206\n",
            "tensor([[1, 5, 9, 2, 9, 9, 6, 7, 5, 5]]) tensor([[7, 9, 4, 9, 9, 3, 4, 1, 3, 2]])\n",
            "Epoch 150. Time: 0.099, Train loss: 0.063\n",
            "tensor([[4, 2, 6, 5, 4, 0, 5, 9, 6, 8]]) tensor([[0, 6, 9, 0, 8, 9, 4, 9, 2, 3]])\n",
            "Epoch 200. Time: 0.093, Train loss: 0.032\n",
            "tensor([[3, 7, 7, 5, 6, 3, 8, 8, 1, 8]]) tensor([[3, 9, 0, 0, 3, 4, 9, 5, 6, 5]])\n",
            "Epoch 250. Time: 0.101, Train loss: 0.016\n",
            "tensor([[7, 5, 7, 5, 9, 5, 9, 1, 3, 4]]) tensor([[1, 9, 5, 8, 6, 3, 0, 4, 9, 6]])\n",
            "Epoch 300. Time: 0.092, Train loss: 0.010\n",
            "tensor([[8, 3, 0, 0, 9, 3, 2, 1, 5, 0]]) tensor([[1, 2, 4, 2, 9, 7, 8, 7, 7, 6]])\n"
          ],
          "name": "stdout"
        }
      ]
    },
    {
      "cell_type": "code",
      "metadata": {
        "id": "Q9K2X1bFoKx1",
        "colab_type": "code",
        "colab": {
          "base_uri": "https://localhost:8080/",
          "height": 235
        },
        "outputId": "dfab2e6c-a6aa-4572-a444-dd7ba1454a97"
      },
      "source": [
        "model = NeuralNetwork(rnnClass=nn.GRU, input_size=10, embedding_size=64, \n",
        "                      num_hiddens=64, num_classes=10)\n",
        "\n",
        "model = model.cuda()\n",
        "criterion = torch.nn.CrossEntropyLoss()\n",
        "optimizer = torch.optim.Adam(model.parameters(), lr=0.001)\n",
        "\n",
        "train(model, criterion, optimizer, epochs=300, sequence_len=10, batch_size=1000)"
      ],
      "execution_count": 58,
      "outputs": [
        {
          "output_type": "stream",
          "text": [
            "Epoch 50. Time: 0.095, Train loss: 0.100\n",
            "tensor([[2, 7, 7, 2, 2, 8, 9, 2, 3, 0]]) tensor([[8, 3, 6, 2, 7, 0, 7, 9, 3, 7]])\n",
            "Epoch 100. Time: 0.104, Train loss: 0.018\n",
            "tensor([[8, 2, 4, 1, 4, 9, 9, 8, 4, 1]]) tensor([[0, 5, 7, 1, 2, 5, 8, 2, 8, 8]])\n",
            "Epoch 150. Time: 0.097, Train loss: 0.008\n",
            "tensor([[7, 0, 2, 3, 2, 2, 5, 4, 9, 3]]) tensor([[1, 5, 9, 3, 8, 6, 8, 5, 2, 6]])\n",
            "Epoch 200. Time: 0.096, Train loss: 0.004\n",
            "tensor([[2, 4, 8, 8, 4, 3, 4, 9, 4, 5]]) tensor([[6, 4, 2, 3, 0, 5, 4, 7, 2, 8]])\n",
            "Epoch 250. Time: 0.096, Train loss: 0.003\n",
            "tensor([[8, 3, 4, 9, 6, 0, 2, 4, 1, 2]]) tensor([[4, 2, 7, 1, 1, 3, 1, 0, 3, 5]])\n",
            "Epoch 300. Time: 0.096, Train loss: 0.002\n",
            "tensor([[0, 7, 2, 1, 1, 6, 2, 1, 5, 1]]) tensor([[4, 9, 3, 0, 5, 8, 2, 0, 5, 3]])\n"
          ],
          "name": "stdout"
        }
      ]
    },
    {
      "cell_type": "code",
      "metadata": {
        "id": "yEjI8vXGCZxD",
        "colab_type": "code",
        "colab": {
          "base_uri": "https://localhost:8080/",
          "height": 235
        },
        "outputId": "dd72a199-536c-4e8b-f814-7b0944ce8d6c"
      },
      "source": [
        "model = NeuralNetwork(rnnClass=nn.LSTM, input_size=10, embedding_size=64, \n",
        "                      num_hiddens=64, num_classes=10)\n",
        "\n",
        "model = model.cuda()\n",
        "criterion = torch.nn.CrossEntropyLoss()\n",
        "optimizer = torch.optim.Adam(model.parameters(), lr=0.001)\n",
        "\n",
        "train(model, criterion, optimizer, epochs=300, sequence_len=10, batch_size=1000)"
      ],
      "execution_count": 60,
      "outputs": [
        {
          "output_type": "stream",
          "text": [
            "Epoch 50. Time: 0.101, Train loss: 0.064\n",
            "tensor([[7, 5, 4, 9, 0, 8, 3, 7, 3, 0]]) tensor([[4, 3, 2, 6, 6, 1, 4, 5, 2, 2]])\n",
            "Epoch 100. Time: 0.100, Train loss: 0.013\n",
            "tensor([[2, 5, 6, 2, 5, 0, 3, 7, 9, 6]]) tensor([[9, 7, 6, 4, 3, 1, 1, 8, 1, 0]])\n",
            "Epoch 150. Time: 0.105, Train loss: 0.006\n",
            "tensor([[3, 3, 7, 1, 5, 6, 7, 9, 7, 3]]) tensor([[0, 3, 1, 8, 2, 7, 6, 2, 3, 2]])\n",
            "Epoch 200. Time: 0.100, Train loss: 0.003\n",
            "tensor([[5, 7, 8, 8, 1, 9, 7, 8, 5, 7]]) tensor([[5, 8, 4, 9, 5, 3, 4, 8, 4, 7]])\n",
            "Epoch 250. Time: 0.097, Train loss: 0.002\n",
            "tensor([[8, 0, 2, 4, 2, 4, 6, 1, 9, 2]]) tensor([[7, 6, 1, 0, 8, 2, 3, 4, 6, 3]])\n",
            "Epoch 300. Time: 0.097, Train loss: 0.001\n",
            "tensor([[6, 3, 8, 8, 7, 3, 0, 7, 7, 7]]) tensor([[3, 5, 4, 0, 0, 8, 5, 8, 4, 5]])\n"
          ],
          "name": "stdout"
        }
      ]
    },
    {
      "cell_type": "code",
      "metadata": {
        "id": "XofTK8QxEYbb",
        "colab_type": "code",
        "colab": {}
      },
      "source": [
        ""
      ],
      "execution_count": 0,
      "outputs": []
    }
  ]
}