{
 "cells": [
  {
   "cell_type": "markdown",
   "metadata": {},
   "source": [
    "### Задание\n",
    "\n",
    "Постройте наивный баессовский классификатор для датасета MNIST (так же есть в торче). Классификатор строить только для двух цифр (1 и 2).  \n",
    "Оцените качество полученного классификатора на тестовой выборке.  \n",
    "Выведите 10 ошибок предсказания. "
   ]
  },
  {
   "cell_type": "code",
   "execution_count": 1,
   "metadata": {},
   "outputs": [],
   "source": [
    "import torch \n",
    "import torchvision\n",
    "from tqdm import tqdm\n",
    "import pandas as pd\n",
    "import numpy as np\n",
    "\n",
    "import matplotlib.pyplot as plt"
   ]
  },
  {
   "cell_type": "code",
   "execution_count": 2,
   "metadata": {},
   "outputs": [],
   "source": [
    "def transform(data):\n",
    "    data = torch.tensor(data.getdata(), dtype=torch.float32)\n",
    "    return torch.floor(data / 128.).squeeze(axis=-1)"
   ]
  },
  {
   "cell_type": "code",
   "execution_count": 3,
   "metadata": {},
   "outputs": [],
   "source": [
    "mnist_train = torchvision.datasets.MNIST('../', train=True, transform=transform, download=True)\n",
    "mnist_test  = torchvision.datasets.MNIST('../', train=False, transform=transform, download=True)"
   ]
  },
  {
   "cell_type": "code",
   "execution_count": 4,
   "metadata": {},
   "outputs": [],
   "source": [
    "train, test = torch.utils.data.DataLoader(mnist_train, 256, shuffle=True), torch.utils.data.DataLoader(mnist_test, 256)"
   ]
  },
  {
   "cell_type": "code",
   "execution_count": 5,
   "metadata": {},
   "outputs": [
    {
     "data": {
      "text/plain": [
       "60000"
      ]
     },
     "execution_count": 5,
     "metadata": {},
     "output_type": "execute_result"
    }
   ],
   "source": [
    "len(mnist_train)"
   ]
  },
  {
   "cell_type": "code",
   "execution_count": 9,
   "metadata": {},
   "outputs": [
    {
     "data": {
      "image/png": "[encoded data removed]",
      "text/plain": [
       "<Figure size 432x288 with 1 Axes>"
      ]
     },
     "metadata": {
      "needs_background": "light"
     },
     "output_type": "display_data"
    }
   ],
   "source": [
    "plt.imshow(mnist_train[0][0].reshape((28,28)))\n",
    "plt.title(f'Digit : {mnist_train[0][1]}')\n",
    "plt.show()"
   ]
  },
  {
   "cell_type": "code",
   "execution_count": 72,
   "metadata": {},
   "outputs": [
    {
     "name": "stderr",
     "output_type": "stream",
     "text": [
      "100%|████████████████████████████████████████████████████████████████████████████████| 235/235 [00:08<00:00, 27.80it/s]\n"
     ]
    }
   ],
   "source": [
    "for X, y in tqdm(train):\n",
    "    indexes = np.where( np.isin( y.numpy(), [1, 2] ) )[0]        \n",
    "    try:\n",
    "        X_train = torch.cat((X_train, X[ indexes ]), dim=0)\n",
    "    except NameError:\n",
    "        X_train = X[indexes]\n",
    "    try:\n",
    "        y_train = torch.cat((y_train, y[ indexes ]), dim=0)\n",
    "    except NameError:\n",
    "        y_train = y[indexes] "
   ]
  },
  {
   "cell_type": "code",
   "execution_count": 73,
   "metadata": {},
   "outputs": [
    {
     "name": "stderr",
     "output_type": "stream",
     "text": [
      "100%|██████████████████████████████████████████████████████████████████████████████████| 40/40 [00:01<00:00, 38.33it/s]\n"
     ]
    }
   ],
   "source": [
    "for X, y in tqdm(test):\n",
    "    indexes = np.where( np.isin( y.numpy(), [1, 2] ) )[0]        \n",
    "    try:\n",
    "        X_test = torch.cat((X_test, X[ indexes ]), dim=0)\n",
    "    except NameError:\n",
    "        X_test = X[indexes]\n",
    "    try:\n",
    "        y_test = torch.cat((y_test, y[ indexes ]), dim=0)\n",
    "    except NameError:\n",
    "        y_test = y[indexes] "
   ]
  },
  {
   "cell_type": "code",
   "execution_count": 117,
   "metadata": {},
   "outputs": [
    {
     "data": {
      "text/plain": [
       "1    6742\n",
       "2    5958\n",
       "dtype: int64"
      ]
     },
     "execution_count": 117,
     "metadata": {},
     "output_type": "execute_result"
    }
   ],
   "source": [
    "pd.Series(y_train).value_counts()"
   ]
  },
  {
   "cell_type": "code",
   "execution_count": 167,
   "metadata": {},
   "outputs": [
    {
     "name": "stderr",
     "output_type": "stream",
     "text": [
      "C:\\Users\\mi\\Anaconda3\\lib\\site-packages\\ipykernel_launcher.py:7: UserWarning: To copy construct from a tensor, it is recommended to use sourceTensor.clone().detach() or sourceTensor.clone().detach().requires_grad_(True), rather than torch.tensor(sourceTensor).\n",
      "  import sys\n"
     ]
    },
    {
     "name": "stdout",
     "output_type": "stream",
     "text": [
      "Digit 1 probability : 0.5308661460876465\n",
      "Digit 2 probability : 0.4691338539123535\n"
     ]
    }
   ],
   "source": [
    "# заполним вероятности для цифр 1 и 2 \n",
    "p_picture_digit = torch.zeros((2,784))\n",
    "p_digit  = torch.zeros((2))\n",
    "\n",
    "p_picture = X_train.sum(axis=0) / X_train.sum()\n",
    "\n",
    "for i in [1,2]:\n",
    "    p_picture_digit[i - 1] = X_train[y_train == i].sum(axis=0) / X_train[y_train == i].sum()\n",
    "    p_digit[i - 1] = torch.tensor( (y_train == i).sum(), dtype=torch.float32) / len(y_train)\n",
    "    print(f'Digit {i} probability : {p_digit[i - 1]}')"
   ]
  },
  {
   "cell_type": "code",
   "execution_count": 162,
   "metadata": {},
   "outputs": [
    {
     "data": {
      "text/plain": [
       "torch.Size([2, 784])"
      ]
     },
     "execution_count": 162,
     "metadata": {},
     "output_type": "execute_result"
    }
   ],
   "source": [
    "p_picture_digit.shape"
   ]
  },
  {
   "cell_type": "code",
   "execution_count": 217,
   "metadata": {},
   "outputs": [
    {
     "data": {
      "image/png": "[encoded data removed]",
      "text/plain": [
       "<Figure size 432x288 with 1 Axes>"
      ]
     },
     "metadata": {
      "needs_background": "light"
     },
     "output_type": "display_data"
    }
   ],
   "source": [
    "# Для примера возьмем цифру 1\n",
    "index = 1\n",
    "test_digit = y_test[index]\n",
    "test_sample = X_test[ index ]\n",
    "plt.imshow(X_test[index].reshape((28,28)))\n",
    "plt.show()"
   ]
  },
  {
   "cell_type": "code",
   "execution_count": 212,
   "metadata": {},
   "outputs": [
    {
     "data": {
      "text/plain": [
       "tensor(0.4691)"
      ]
     },
     "execution_count": 212,
     "metadata": {},
     "output_type": "execute_result"
    }
   ],
   "source": [
    "# test for digit 1\n",
    "np.exp( np.log(p_digit[test_digit - 1]) + np.log( (test_sample * p_picture_digit[test_digit - 1])[test_sample == test_digit] ).sum() - np.log((test_sample * p_picture)[test_sample == test_digit]).sum() )"
   ]
  },
  {
   "cell_type": "code",
   "execution_count": 218,
   "metadata": {},
   "outputs": [
    {
     "data": {
      "image/png": "[encoded data removed]",
      "text/plain": [
       "<Figure size 432x288 with 1 Axes>"
      ]
     },
     "metadata": {
      "needs_background": "light"
     },
     "output_type": "display_data"
    }
   ],
   "source": [
    "# Для примера возьмем цифру 2\n",
    "index = 0\n",
    "test_digit = y_test[index]\n",
    "test_sample = X_test[ index ]\n",
    "plt.imshow(X_test[index].reshape((28,28)))\n",
    "plt.show()"
   ]
  },
  {
   "cell_type": "code",
   "execution_count": 220,
   "metadata": {},
   "outputs": [
    {
     "data": {
      "text/plain": [
       "tensor(0.4691)"
      ]
     },
     "execution_count": 220,
     "metadata": {},
     "output_type": "execute_result"
    }
   ],
   "source": [
    "# test for digit 2\n",
    "np.exp( np.log(p_digit[test_digit - 1]) + np.log( (test_sample * p_picture_digit[test_digit - 1])[test_sample == test_digit] ).sum() - np.log((test_sample * p_picture)[test_sample == test_digit]).sum() )"
   ]
  },
  {
   "cell_type": "code",
   "execution_count": null,
   "metadata": {},
   "outputs": [],
   "source": []
  }
 ],
 "metadata": {
  "kernelspec": {
   "display_name": "Python 3",
   "language": "python",
   "name": "python3"
  },
  "language_info": {
   "codemirror_mode": {
    "name": "ipython",
    "version": 3
   },
   "file_extension": ".py",
   "mimetype": "text/x-python",
   "name": "python",
   "nbconvert_exporter": "python",
   "pygments_lexer": "ipython3",
   "version": "3.7.3"
  }
 },
 "nbformat": 4,
 "nbformat_minor": 2
}
