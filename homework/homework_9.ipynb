{
  "nbformat": 4,
  "nbformat_minor": 0,
  "metadata": {
    "accelerator": "GPU",
    "colab": {
      "name": "homework_9.ipynb",
      "provenance": [],
      "collapsed_sections": [],
      "toc_visible": true
    },
    "kernelspec": {
      "display_name": "Python 3",
      "language": "python",
      "name": "python3"
    },
    "language_info": {
      "codemirror_mode": {
        "name": "ipython",
        "version": 3
      },
      "file_extension": ".py",
      "mimetype": "text/x-python",
      "name": "python",
      "nbconvert_exporter": "python",
      "pygments_lexer": "ipython3",
      "version": "3.7.3"
    }
  },
  "cells": [
    {
      "cell_type": "code",
      "metadata": {
        "colab_type": "code",
        "id": "-YlRH3mQM9tf",
        "colab": {}
      },
      "source": [
        "%matplotlib inline"
      ],
      "execution_count": 0,
      "outputs": []
    },
    {
      "cell_type": "code",
      "metadata": {
        "colab_type": "code",
        "id": "MIEGXF8oM9tt",
        "colab": {}
      },
      "source": [
        "from io import open\n",
        "import unicodedata\n",
        "import string\n",
        "import re\n",
        "import random\n",
        "\n",
        "import torch\n",
        "import torch.nn as nn\n",
        "from torch import optim\n",
        "import torch.nn.functional as F\n",
        "\n",
        "device = torch.device(\"cuda\" if torch.cuda.is_available() else \"cpu\")"
      ],
      "execution_count": 0,
      "outputs": []
    },
    {
      "cell_type": "code",
      "metadata": {
        "colab_type": "code",
        "id": "kyNnJyruM9t1",
        "colab": {}
      },
      "source": [
        "SOS_token = 0\n",
        "EOS_token = 1\n",
        "\n",
        "class Lang:\n",
        "    def __init__(self, name):\n",
        "        self.name = name\n",
        "        self.word2index = {}\n",
        "        self.word2count = {}\n",
        "        self.index2word = {0: \"SOS\", 1: \"EOS\"}\n",
        "        self.n_words = 2  # Count SOS and EOS\n",
        "\n",
        "    def addSentence(self, sentence):\n",
        "        for word in sentence.split(' '):\n",
        "            self.addWord(word)\n",
        "\n",
        "    def addWord(self, word):\n",
        "        if word not in self.word2index:\n",
        "            self.word2index[word] = self.n_words\n",
        "            self.word2count[word] = 1\n",
        "            self.index2word[self.n_words] = word\n",
        "            self.n_words += 1\n",
        "        else:\n",
        "            self.word2count[word] += 1"
      ],
      "execution_count": 0,
      "outputs": []
    },
    {
      "cell_type": "code",
      "metadata": {
        "colab_type": "code",
        "id": "FXKs8j4bM9t6",
        "colab": {}
      },
      "source": [
        "# Turn a Unicode string to plain ASCII, thanks to\n",
        "# http://stackoverflow.com/a/518232/2809427\n",
        "def unicodeToAscii(s):\n",
        "    return ''.join(\n",
        "        c for c in unicodedata.normalize('NFD', s)\n",
        "        if unicodedata.category(c) != 'Mn'\n",
        "    )\n",
        "# Lowercase, trim, and remove non-letter characters\n",
        "\n",
        "def normalizeString(s):\n",
        "    s = unicodeToAscii(s.lower().strip())\n",
        "    s = re.sub(r\"([.!?])\", r\" \\1\", s)\n",
        "    s = re.sub(r\"[^a-zA-Zа-яА-Я.!?]+\", r\" \", s)\n",
        "    return s"
      ],
      "execution_count": 0,
      "outputs": []
    },
    {
      "cell_type": "code",
      "metadata": {
        "colab_type": "code",
        "id": "D8T4VxZeM9t-",
        "colab": {}
      },
      "source": [
        "def readLangs(lang1, lang2, reverse=False):\n",
        "    print(\"Reading lines...\")\n",
        "\n",
        "    # Read the file and split into lines\n",
        "    #lines = open('../data/%s-%s.txt' % (lang1, lang2), encoding='utf-8').\\\n",
        "    lines = open('%s-%s.txt' % (lang1, lang2), encoding='utf-8').\\\n",
        "        read().strip().split('\\n')\n",
        "\n",
        "    # Split every line into pairs and normalize\n",
        "    pairs = [[normalizeString(s) for s in l.split('\\t')] for l in lines]\n",
        "\n",
        "    # Reverse pairs, make Lang instances\n",
        "    if reverse:\n",
        "        pairs = [list(reversed(p)) for p in pairs]\n",
        "        input_lang = Lang(lang2)\n",
        "        output_lang = Lang(lang1)\n",
        "    else:\n",
        "        input_lang = Lang(lang1)\n",
        "        output_lang = Lang(lang2)\n",
        "\n",
        "    return input_lang, output_lang, pairs"
      ],
      "execution_count": 0,
      "outputs": []
    },
    {
      "cell_type": "code",
      "metadata": {
        "colab_type": "code",
        "id": "eBOwgEBdM9uB",
        "colab": {}
      },
      "source": [
        "MAX_LENGTH = 10\n",
        "\n",
        "eng_prefixes = (\n",
        "    \"i am \", \"i m \",\n",
        "    \"he is\", \"he s \",\n",
        "    \"she is\", \"she s\",\n",
        "    \"you are\", \"you re \",\n",
        "    \"we are\", \"we re \",\n",
        "    \"they are\", \"they re \"\n",
        ")\n",
        "\n",
        "\n",
        "def filterPair(p):\n",
        "    return len(p[0].split(' ')) < MAX_LENGTH and \\\n",
        "        len(p[1].split(' ')) < MAX_LENGTH and \\\n",
        "        p[1].startswith(eng_prefixes)\n",
        "\n",
        "\n",
        "def filterPairs(pairs):\n",
        "    return [pair for pair in pairs if filterPair(pair)]"
      ],
      "execution_count": 0,
      "outputs": []
    },
    {
      "cell_type": "code",
      "metadata": {
        "colab_type": "code",
        "id": "6dZOGjd5M9uE",
        "outputId": "5ebe2959-c6b5-438e-c710-586bfd29c5b8",
        "colab": {
          "base_uri": "https://localhost:8080/",
          "height": 162
        }
      },
      "source": [
        "def prepareData(lang1, lang2, reverse=False):\n",
        "    input_lang, output_lang, pairs = readLangs(lang1, lang2, reverse)\n",
        "    print(\"Read %s sentence pairs\" % len(pairs))\n",
        "    pairs = filterPairs(pairs)\n",
        "    print(\"Trimmed to %s sentence pairs\" % len(pairs))\n",
        "    print(\"Counting words...\")\n",
        "    for pair in pairs:\n",
        "        input_lang.addSentence(pair[0])\n",
        "        output_lang.addSentence(pair[1])\n",
        "    print(\"Counted words:\")\n",
        "    print(input_lang.name, input_lang.n_words)\n",
        "    print(output_lang.name, output_lang.n_words)\n",
        "    return input_lang, output_lang, pairs\n",
        "\n",
        "\n",
        "input_lang, output_lang, pairs = prepareData('eng', 'rus', True)\n",
        "print(random.choice(pairs))"
      ],
      "execution_count": 7,
      "outputs": [
        {
          "output_type": "stream",
          "text": [
            "Reading lines...\n",
            "Read 380911 sentence pairs\n",
            "Trimmed to 22942 sentence pairs\n",
            "Counting words...\n",
            "Counted words:\n",
            "rus 9108\n",
            "eng 3945\n",
            "['она пробыла там недолго .', 'she stayed there for a short while .']\n"
          ],
          "name": "stdout"
        }
      ]
    },
    {
      "cell_type": "markdown",
      "metadata": {
        "colab_type": "text",
        "id": "vgtWqznCM9uH"
      },
      "source": [
        "The Encoder\n",
        "-----------\n",
        "\n",
        "\n",
        "\n"
      ]
    },
    {
      "cell_type": "code",
      "metadata": {
        "colab_type": "code",
        "id": "m9vm9QBWM9uI",
        "colab": {}
      },
      "source": [
        "class EncoderRNN(nn.Module):\n",
        "    def __init__(self, input_size, hidden_size):\n",
        "        super(EncoderRNN, self).__init__()\n",
        "        self.hidden_size = hidden_size\n",
        "\n",
        "        self.embedding = nn.Embedding(input_size, hidden_size)\n",
        "        self.gru = nn.GRU(hidden_size, hidden_size)\n",
        "\n",
        "    def forward(self, input, hidden):\n",
        "        embedded = self.embedding(input).view(1, 1, -1)\n",
        "        output = embedded\n",
        "        output, hidden = self.gru(output, hidden)\n",
        "        return output, hidden\n",
        "\n",
        "    def initHidden(self):\n",
        "        return torch.zeros(1, 1, self.hidden_size, device=device)"
      ],
      "execution_count": 0,
      "outputs": []
    },
    {
      "cell_type": "markdown",
      "metadata": {
        "colab_type": "text",
        "id": "FwLTlgSyM9uK"
      },
      "source": [
        "The Original Decoder with global attention\n",
        "-----------\n",
        "\n",
        "\n"
      ]
    },
    {
      "cell_type": "code",
      "metadata": {
        "colab_type": "code",
        "id": "PFbuUL1LM9uL",
        "colab": {}
      },
      "source": [
        "class AttnDecoderRNN(nn.Module):\n",
        "    def _print(self, text):\n",
        "        if self.debug:\n",
        "            print(text)\n",
        "\n",
        "    def __init__(self, hidden_size, output_size, dropout_p=0.1, max_length=MAX_LENGTH, debug=False):\n",
        "        super(AttnDecoderRNN, self).__init__()\n",
        "        self.hidden_size = hidden_size\n",
        "        self.output_size = output_size\n",
        "        self.dropout_p = dropout_p\n",
        "        self.max_length = max_length\n",
        "        self.debug = debug\n",
        "\n",
        "        self.embedding = nn.Embedding(self.output_size, self.hidden_size)\n",
        "        self.attn = nn.Linear(self.hidden_size * 2, self.max_length)\n",
        "        self.attn_combine = nn.Linear(self.hidden_size * 2, self.hidden_size)\n",
        "        self.dropout = nn.Dropout(self.dropout_p)\n",
        "        self.gru = nn.GRU(self.hidden_size, self.hidden_size)\n",
        "        self.out = nn.Linear(self.hidden_size, self.output_size)\n",
        "\n",
        "    def forward(self, input, hidden, encoder_outputs):\n",
        "        embedded = self.embedding(input).view(1, 1, -1)\n",
        "        embedded = self.dropout(embedded)\n",
        "\n",
        "        self._print(f'embedded[0].shape : {embedded[0].shape}')\n",
        "        self._print(f'hidden[0].shape : {hidden[0].shape}')\n",
        "    \n",
        "        attn_weights = F.softmax(\n",
        "            self.attn(torch.cat((embedded[0], hidden[0]), 1)), dim=1)\n",
        "        self._print(f'attn_weights.shape before gru {attn_weights.shape}')\n",
        "        self._print(f'attn_weights.unsqueeze(0) {attn_weights.unsqueeze(0).shape}')\n",
        "        self._print(f'encoder_outputs.unsqueeze(0) {encoder_outputs.unsqueeze(0).shape}')\n",
        "        attn_applied = torch.bmm(attn_weights.unsqueeze(0),\n",
        "                                 encoder_outputs.unsqueeze(0))\n",
        "        self._print(f'attn_applied.shape before gru {attn_applied.shape}')\n",
        "        output = torch.cat((embedded[0], attn_applied[0]), 1)\n",
        "        self._print(f'output.shape after torch.cat((embedded[0], attn_applied[0]), 1) {output.shape}')\n",
        "        output = self.attn_combine(output).unsqueeze(0)\n",
        "        self._print(f'output.shape after self.attn_combine(output).unsqueeze(0) {output.shape}')\n",
        "\n",
        "        output = F.relu(output)\n",
        "        self._print(f'hidden.shape before gru {hidden.shape}')\n",
        "        self._print(f'output.shape after F.relu(output) and before gru {output.shape}')\n",
        "        output, hidden = self.gru(output, hidden)\n",
        "        self._print(f'output.shape after self.gru(output, hidden) {output.shape}')\n",
        "        \n",
        "        output = F.log_softmax(self.out(output[0]), dim=1)\n",
        "        self._print(f'output.shape after softmax: {output.shape}, hidden.shape {hidden.shape}' +\n",
        "              f'attn_weights.shape : {attn_weights.shape}')\n",
        "        \n",
        "        return output, hidden, attn_weights\n",
        "\n",
        "    def initHidden(self):\n",
        "        return torch.zeros(1, 1, self.hidden_size, device=device)"
      ],
      "execution_count": 0,
      "outputs": []
    },
    {
      "cell_type": "code",
      "metadata": {
        "id": "BptEVJp_WAPF",
        "colab_type": "code",
        "colab": {}
      },
      "source": [
        "# for debug\n",
        "hidden_size = 256\n",
        "encoder1 = EncoderRNN(input_lang.n_words, hidden_size).to(device)\n",
        "attn_decoder1 = AttnDecoderRNN(hidden_size, output_lang.n_words, dropout_p=0.1).to(device)\n",
        "\n",
        "trainIters(encoder1, attn_decoder1, 10000, print_every=100)"
      ],
      "execution_count": 0,
      "outputs": []
    },
    {
      "cell_type": "markdown",
      "metadata": {
        "id": "g1qE6LbQWAPw",
        "colab_type": "text"
      },
      "source": [
        "## The Decoder with attention based on scaled dot-product "
      ]
    },
    {
      "cell_type": "code",
      "metadata": {
        "id": "TJzxT_eiWAP0",
        "colab_type": "code",
        "colab": {}
      },
      "source": [
        "class ScalarAttnDecoderRNN(nn.Module):\n",
        "    def _print(self, text):\n",
        "        if self.debug:\n",
        "            print(text)\n",
        "\n",
        "    def __init__(self, hidden_size, output_size, dropout_p=0.1, max_length=MAX_LENGTH, debug=False):\n",
        "        super(ScalarAttnDecoderRNN, self).__init__()\n",
        "        self.hidden_size = hidden_size\n",
        "        self.output_size = output_size\n",
        "        self.dropout_p = dropout_p\n",
        "        self.max_length = max_length\n",
        "        self.debug = debug\n",
        "\n",
        "        self.embedding = nn.Embedding(self.output_size, self.hidden_size)\n",
        "        self.attn_combine = nn.Linear(self.hidden_size * 2, self.hidden_size)\n",
        "        self.dropout = nn.Dropout(self.dropout_p)\n",
        "        self.gru = nn.GRU(self.hidden_size, self.hidden_size)\n",
        "        self.out = nn.Linear(self.hidden_size, self.output_size)\n",
        "\n",
        "    def forward(self, input, hidden, encoder_outputs):\n",
        "        embedded = self.embedding(input).view(1, 1, -1)\n",
        "        embedded = self.dropout(embedded)\n",
        "        \n",
        "        self._print(f'embedded.shape before bmm {embedded.shape}')\n",
        "        self._print(f'hidden.shape before bmm {hidden.shape}')\n",
        "        self._print(f'encoder_outputs.unsqueeze(0).shape before bmm {encoder_outputs.unsqueeze(0).shape}')\n",
        "        attn_weights = F.softmax(\n",
        "            torch.bmm(hidden, encoder_outputs.squeeze(0).T.unsqueeze(0)).squeeze(0), dim=1)\n",
        "        self._print(f'attn_weights.shape before bmm {attn_weights.shape}')    \n",
        "        attn_applied = torch.bmm(attn_weights.unsqueeze(0),\n",
        "                                 encoder_outputs.unsqueeze(0))\n",
        "        self._print(f'attn_applied.shape after bmm {attn_applied.shape}')\n",
        "        output = torch.cat((embedded[0], attn_applied[0]), 1)\n",
        "        output = self.attn_combine(output).unsqueeze(0)\n",
        "        \n",
        "        output = F.relu(output)\n",
        "        output, hidden = self.gru(output, hidden)\n",
        "\n",
        "        output = F.log_softmax(self.out(output[0]), dim=1)\n",
        "        self._print(f'final output.shape {output.shape}')\n",
        "        if self.debug:\n",
        "            return\n",
        "        return output, hidden, attn_weights\n",
        "\n",
        "    def initHidden(self):\n",
        "        return torch.zeros(1, 1, self.hidden_size, device=device)"
      ],
      "execution_count": 0,
      "outputs": []
    },
    {
      "cell_type": "code",
      "metadata": {
        "id": "SAkn6k0UWAQK",
        "colab_type": "code",
        "colab": {}
      },
      "source": [
        "# only for debug\n",
        "hidden_size = 256\n",
        "encoder_scalar = EncoderRNN(input_lang.n_words, hidden_size).to(device)\n",
        "attn_decoder_scalar = ScalarAttnDecoderRNN(hidden_size, output_lang.n_words, dropout_p=0.1).to(device)\n",
        "\n",
        "trainIters(encoder_scalar, attn_decoder_scalar, 10000, print_every=100)"
      ],
      "execution_count": 0,
      "outputs": []
    },
    {
      "cell_type": "markdown",
      "metadata": {
        "id": "xeMzooEhWAQk",
        "colab_type": "text"
      },
      "source": [
        "## The Decoder with attention based on MLP"
      ]
    },
    {
      "cell_type": "code",
      "metadata": {
        "id": "2jMWg2xCWAQ4",
        "colab_type": "code",
        "colab": {}
      },
      "source": [
        "class MLPAttnDecoderRNN(nn.Module):\n",
        "    def _print(self, text):\n",
        "        if self.debug:\n",
        "            print(text)\n",
        "\n",
        "    def __init__(self, hidden_size, output_size, dropout_p=0.1, max_length=MAX_LENGTH, debug=False):\n",
        "        super(MLPAttnDecoderRNN, self).__init__()\n",
        "        self.hidden_size = hidden_size\n",
        "        self.output_size = output_size\n",
        "        self.dropout_p = dropout_p\n",
        "        self.max_length = max_length\n",
        "        self.debug = debug\n",
        "\n",
        "        self.embedding = nn.Embedding(self.output_size, self.hidden_size)\n",
        "        self.Wk = nn.Linear(hidden_size, hidden_size)#, bias=False)\n",
        "        self.Wq = nn.Linear(hidden_size, hidden_size)#, bias=False)\n",
        "\n",
        "        self.attn_combine = nn.Linear(self.hidden_size * 2, self.hidden_size)\n",
        "        self.dropout = nn.Dropout(self.dropout_p)\n",
        "        self.gru = nn.GRU(self.hidden_size, self.hidden_size)\n",
        "        self.out = nn.Linear(self.hidden_size, self.output_size)\n",
        "\n",
        "    def forward(self, input, hidden, encoder_outputs):\n",
        "        embedded = self.embedding(input).view(1, 1, -1)\n",
        "        embedded = self.dropout(embedded)\n",
        "        \n",
        "        self._print(f'embedded shape : {embedded.shape}') #hidden size :  torch.Size([1, 1, 256])\n",
        "        self._print(f'hidden size : {hidden.shape}') #hidden size :  torch.Size([1, 1, 256])\n",
        "        self._print(f'encoder_outputs.shape : {encoder_outputs.shape}') #encoder_outputs.shape :  torch.Size([10, 256])\n",
        "        wk = self.Wk(hidden.squeeze(0))\n",
        "        self._print(f'wk.shape : {wk.shape}')\n",
        "        wq = self.Wq(encoder_outputs)\n",
        "        self._print(f'wq.shape : {wq.shape}')\n",
        "        \n",
        "        attn_weights = torch.tanh( wk + wq )\n",
        "        attn_weights = torch.bmm(embedded, attn_weights.T.unsqueeze(0))\n",
        "        attn_weights = F.softmax(attn_weights.squeeze(0), dim=1)\n",
        "        self._print(f'attn_weights.squeeze(0) shape : {attn_weights.squeeze(0).shape}')\n",
        "        self._print(f'encoder_outputs.unsqueeze(0) shape : {encoder_outputs.unsqueeze(0).shape}')\n",
        "\n",
        "        attn_applied = torch.bmm(attn_weights.unsqueeze(0),\n",
        "                                 encoder_outputs.unsqueeze(0))\n",
        "\n",
        "        output = torch.cat((embedded[0], attn_applied[0]), 1)\n",
        "        output = self.attn_combine(output).unsqueeze(0)\n",
        "        output, hidden = self.gru(output, hidden)\n",
        "        self._print(f'output.shape after gru : {output.shape}, output[0].shape : {output[0].shape}')\n",
        "    \n",
        "        output = F.log_softmax(self.out(output[0]), dim=1)\n",
        "        self._print(f'output.shape after softmax : {output.shape}')\n",
        "        return output, hidden, attn_weights\n",
        "\n",
        "    def initHidden(self):\n",
        "        return torch.zeros(1, 1, self.hidden_size, device=device)"
      ],
      "execution_count": 0,
      "outputs": []
    },
    {
      "cell_type": "code",
      "metadata": {
        "id": "84mLzjOFWARN",
        "colab_type": "code",
        "colab": {}
      },
      "source": [
        "# only for debug\n",
        "hidden_size = 256\n",
        "encoder_mlp = EncoderRNN(input_lang.n_words, hidden_size).to(device)\n",
        "attn_decoder_mlp = MLPAttnDecoderRNN(hidden_size, output_lang.n_words, dropout_p=0.1).to(device)\n",
        "\n",
        "trainIters(encoder_mlp, attn_decoder_mlp, 10000, print_every=100)"
      ],
      "execution_count": 0,
      "outputs": []
    },
    {
      "cell_type": "code",
      "metadata": {
        "id": "3LppJNj0WASI",
        "colab_type": "code",
        "colab": {}
      },
      "source": [
        ""
      ],
      "execution_count": 0,
      "outputs": []
    },
    {
      "cell_type": "code",
      "metadata": {
        "colab_type": "code",
        "id": "z6gGPtXFM9uQ",
        "colab": {}
      },
      "source": [
        "def indexesFromSentence(lang, sentence):\n",
        "    return [lang.word2index[word] for word in sentence.split(' ')]\n",
        "\n",
        "\n",
        "def tensorFromSentence(lang, sentence):\n",
        "    indexes = indexesFromSentence(lang, sentence)\n",
        "    indexes.append(EOS_token)\n",
        "    return torch.tensor(indexes, dtype=torch.long, device=device).view(-1, 1)\n",
        "\n",
        "\n",
        "def tensorsFromPair(pair):\n",
        "    input_tensor = tensorFromSentence(input_lang, pair[0])\n",
        "    target_tensor = tensorFromSentence(output_lang, pair[1])\n",
        "    return (input_tensor, target_tensor)"
      ],
      "execution_count": 0,
      "outputs": []
    },
    {
      "cell_type": "code",
      "metadata": {
        "colab_type": "code",
        "id": "8Fn8VDv8M9uS",
        "colab": {}
      },
      "source": [
        "teacher_forcing_ratio = 0.5\n",
        "\n",
        "\n",
        "def train(input_tensor, target_tensor, encoder, decoder, encoder_optimizer, decoder_optimizer, criterion, max_length=MAX_LENGTH):\n",
        "    encoder_hidden = encoder.initHidden()\n",
        "\n",
        "    encoder_optimizer.zero_grad()\n",
        "    decoder_optimizer.zero_grad()\n",
        "\n",
        "    input_length = input_tensor.size(0)\n",
        "    target_length = target_tensor.size(0)\n",
        "\n",
        "    encoder_outputs = torch.zeros(max_length, encoder.hidden_size, device=device)\n",
        "\n",
        "    loss = 0\n",
        "\n",
        "    for ei in range(input_length):\n",
        "        encoder_output, encoder_hidden = encoder(\n",
        "            input_tensor[ei], encoder_hidden)\n",
        "        encoder_outputs[ei] = encoder_output[0, 0]\n",
        "\n",
        "    decoder_input = torch.tensor([[SOS_token]], device=device)\n",
        "\n",
        "    decoder_hidden = encoder_hidden\n",
        "\n",
        "    use_teacher_forcing = True if random.random() < teacher_forcing_ratio else False\n",
        "\n",
        "    if use_teacher_forcing:\n",
        "        # Teacher forcing: Feed the target as the next input\n",
        "        for di in range(target_length):\n",
        "            decoder_output, decoder_hidden, decoder_attention = decoder(\n",
        "                decoder_input, decoder_hidden, encoder_outputs)\n",
        "            loss += criterion(decoder_output, target_tensor[di])\n",
        "            decoder_input = target_tensor[di]  # Teacher forcing\n",
        "\n",
        "    else:\n",
        "        # Without teacher forcing: use its own predictions as the next input\n",
        "        for di in range(target_length):\n",
        "            decoder_output, decoder_hidden, decoder_attention = decoder(\n",
        "                decoder_input, decoder_hidden, encoder_outputs)\n",
        "            topv, topi = decoder_output.topk(1)\n",
        "            decoder_input = topi.squeeze().detach()  # detach from history as input\n",
        "\n",
        "            loss += criterion(decoder_output, target_tensor[di])\n",
        "            if decoder_input.item() == EOS_token:\n",
        "                break\n",
        "\n",
        "    loss.backward()\n",
        "\n",
        "    encoder_optimizer.step()\n",
        "    decoder_optimizer.step()\n",
        "\n",
        "    return loss.item() / target_length"
      ],
      "execution_count": 0,
      "outputs": []
    },
    {
      "cell_type": "code",
      "metadata": {
        "colab_type": "code",
        "id": "EKsdwPmSM9uU",
        "colab": {}
      },
      "source": [
        "import time\n",
        "import math\n",
        "\n",
        "def asMinutes(s):\n",
        "    m = math.floor(s / 60)\n",
        "    s -= m * 60\n",
        "    return '%dm %ds' % (m, s)\n",
        "\n",
        "def timeSince(since, percent):\n",
        "    now = time.time()\n",
        "    s = now - since\n",
        "    es = s / (percent)\n",
        "    rs = es - s\n",
        "    return '%s (- %s)' % (asMinutes(s), asMinutes(rs))"
      ],
      "execution_count": 0,
      "outputs": []
    },
    {
      "cell_type": "code",
      "metadata": {
        "colab_type": "code",
        "id": "C_z_k5IiM9uX",
        "colab": {}
      },
      "source": [
        "def trainIters(encoder, decoder, n_iters, print_every=1000, plot_every=100, learning_rate=0.01):\n",
        "    start = time.time()\n",
        "    plot_losses = []\n",
        "    print_loss_total = 0  # Reset every print_every\n",
        "    plot_loss_total = 0  # Reset every plot_every\n",
        "\n",
        "    encoder_optimizer = optim.SGD(encoder.parameters(), lr=learning_rate)\n",
        "    decoder_optimizer = optim.SGD(decoder.parameters(), lr=learning_rate)\n",
        "    training_pairs = [tensorsFromPair(random.choice(pairs))\n",
        "                      for i in range(n_iters)]\n",
        "    criterion = nn.NLLLoss()\n",
        "\n",
        "    for iter in range(1, n_iters + 1):\n",
        "        training_pair = training_pairs[iter - 1]\n",
        "        input_tensor = training_pair[0]\n",
        "        target_tensor = training_pair[1]\n",
        "\n",
        "        loss = train(input_tensor, target_tensor, encoder,\n",
        "                     decoder, encoder_optimizer, decoder_optimizer, criterion)\n",
        "        print_loss_total += loss\n",
        "        plot_loss_total += loss\n",
        "\n",
        "        if iter % print_every == 0:\n",
        "            print_loss_avg = print_loss_total / print_every\n",
        "            print_loss_total = 0\n",
        "            print('%s (%d %d%%) %.4f' % (timeSince(start, iter / n_iters),\n",
        "                                         iter, iter / n_iters * 100, print_loss_avg))\n",
        "\n",
        "        if iter % plot_every == 0:\n",
        "            plot_loss_avg = plot_loss_total / plot_every\n",
        "            plot_losses.append(plot_loss_avg)\n",
        "            plot_loss_total = 0\n",
        "\n",
        "    showPlot(plot_losses)"
      ],
      "execution_count": 0,
      "outputs": []
    },
    {
      "cell_type": "code",
      "metadata": {
        "id": "QBjJZwpDWATz",
        "colab_type": "code",
        "colab": {}
      },
      "source": [
        "training_pairs = [tensorsFromPair(random.choice(pairs))\n",
        "                  for i in range(1)]"
      ],
      "execution_count": 0,
      "outputs": []
    },
    {
      "cell_type": "code",
      "metadata": {
        "colab_type": "code",
        "id": "0JXG-RzCM9uZ",
        "colab": {}
      },
      "source": [
        "import matplotlib.pyplot as plt\n",
        "plt.switch_backend('agg')\n",
        "import matplotlib.ticker as ticker\n",
        "import numpy as np\n",
        "\n",
        "def showPlot(points):\n",
        "    plt.figure()\n",
        "    fig, ax = plt.subplots()\n",
        "    # this locator puts ticks at regular intervals\n",
        "    loc = ticker.MultipleLocator(base=0.2)\n",
        "    ax.yaxis.set_major_locator(loc)\n",
        "    plt.plot(points)"
      ],
      "execution_count": 0,
      "outputs": []
    },
    {
      "cell_type": "code",
      "metadata": {
        "colab_type": "code",
        "id": "3Bxf45h6M9ud",
        "colab": {}
      },
      "source": [
        "def evaluate(encoder, decoder, sentence, max_length=MAX_LENGTH):\n",
        "    with torch.no_grad():\n",
        "        input_tensor = tensorFromSentence(input_lang, sentence)\n",
        "        input_length = input_tensor.size()[0]\n",
        "        encoder_hidden = encoder.initHidden()\n",
        "\n",
        "        encoder_outputs = torch.zeros(max_length, encoder.hidden_size, device=device)\n",
        "\n",
        "        for ei in range(input_length):\n",
        "            encoder_output, encoder_hidden = encoder(input_tensor[ei],\n",
        "                                                     encoder_hidden)\n",
        "            encoder_outputs[ei] += encoder_output[0, 0]\n",
        "\n",
        "        decoder_input = torch.tensor([[SOS_token]], device=device)  # SOS\n",
        "\n",
        "        decoder_hidden = encoder_hidden\n",
        "\n",
        "        decoded_words = []\n",
        "        decoder_attentions = torch.zeros(max_length, max_length)\n",
        "\n",
        "        for di in range(max_length):\n",
        "            decoder_output, decoder_hidden, decoder_attention = decoder(\n",
        "                decoder_input, decoder_hidden, encoder_outputs)\n",
        "            decoder_attentions[di] = decoder_attention.data\n",
        "            topv, topi = decoder_output.data.topk(1)\n",
        "            if topi.item() == EOS_token:\n",
        "                decoded_words.append('<EOS>')\n",
        "                break\n",
        "            else:\n",
        "                decoded_words.append(output_lang.index2word[topi.item()])\n",
        "\n",
        "            decoder_input = topi.squeeze().detach()\n",
        "\n",
        "        return decoded_words, decoder_attentions[:di + 1]"
      ],
      "execution_count": 0,
      "outputs": []
    },
    {
      "cell_type": "code",
      "metadata": {
        "colab_type": "code",
        "id": "1qUmQIGwM9uf",
        "colab": {}
      },
      "source": [
        "def evaluateRandomly(encoder, decoder, n=10):\n",
        "    for i in range(n):\n",
        "        pair = random.choice(pairs)\n",
        "        print('>', pair[0])\n",
        "        print('=', pair[1])\n",
        "        output_words, attentions = evaluate(encoder, decoder, pair[0])\n",
        "        output_sentence = ' '.join(output_words)\n",
        "        print('<', output_sentence)\n",
        "        print('')"
      ],
      "execution_count": 0,
      "outputs": []
    },
    {
      "cell_type": "code",
      "metadata": {
        "id": "zAhLVcRbWAUM",
        "colab_type": "code",
        "colab": {}
      },
      "source": [
        "# Basic attention"
      ],
      "execution_count": 0,
      "outputs": []
    },
    {
      "cell_type": "code",
      "metadata": {
        "colab_type": "code",
        "id": "s_56t10oM9uh",
        "outputId": "24ff1d92-6049-499c-c0c0-b5b463dc1f32",
        "colab": {
          "base_uri": "https://localhost:8080/",
          "height": 380
        }
      },
      "source": [
        "hidden_size = 256\n",
        "encoder1 = EncoderRNN(input_lang.n_words, hidden_size).to(device)\n",
        "attn_decoder1 = AttnDecoderRNN(hidden_size, output_lang.n_words, dropout_p=0.1).to(device)\n",
        "\n",
        "trainIters(encoder1, attn_decoder1, 100000, print_every=5000)"
      ],
      "execution_count": 20,
      "outputs": [
        {
          "output_type": "stream",
          "text": [
            "1m 28s (- 28m 9s) (5000 5%) 3.0252\n",
            "2m 51s (- 25m 47s) (10000 10%) 2.5323\n",
            "4m 14s (- 24m 0s) (15000 15%) 2.2715\n",
            "5m 37s (- 22m 29s) (20000 20%) 2.0633\n",
            "7m 0s (- 21m 1s) (25000 25%) 1.9393\n",
            "8m 23s (- 19m 35s) (30000 30%) 1.8161\n",
            "9m 47s (- 18m 11s) (35000 35%) 1.6659\n",
            "11m 11s (- 16m 47s) (40000 40%) 1.5876\n",
            "12m 34s (- 15m 22s) (45000 45%) 1.5043\n",
            "13m 58s (- 13m 58s) (50000 50%) 1.4399\n",
            "15m 22s (- 12m 34s) (55000 55%) 1.3624\n",
            "16m 46s (- 11m 10s) (60000 60%) 1.2934\n",
            "18m 9s (- 9m 46s) (65000 65%) 1.2431\n",
            "19m 33s (- 8m 22s) (70000 70%) 1.1699\n",
            "20m 57s (- 6m 59s) (75000 75%) 1.1731\n",
            "22m 21s (- 5m 35s) (80000 80%) 1.0991\n",
            "23m 45s (- 4m 11s) (85000 85%) 1.0436\n",
            "25m 9s (- 2m 47s) (90000 90%) 1.0338\n",
            "26m 33s (- 1m 23s) (95000 95%) 0.9896\n",
            "27m 57s (- 0m 0s) (100000 100%) 0.9638\n"
          ],
          "name": "stdout"
        }
      ]
    },
    {
      "cell_type": "code",
      "metadata": {
        "id": "ZYULyMAsWAUT",
        "colab_type": "code",
        "colab": {}
      },
      "source": [
        "# Scalar attention"
      ],
      "execution_count": 0,
      "outputs": []
    },
    {
      "cell_type": "code",
      "metadata": {
        "id": "wFJn3qwfWAUZ",
        "colab_type": "code",
        "colab": {
          "base_uri": "https://localhost:8080/",
          "height": 380
        },
        "outputId": "7169de3c-2d78-4993-d4e1-b3ac7dcb5905"
      },
      "source": [
        "hidden_size = 256\n",
        "encoder_scalar = EncoderRNN(input_lang.n_words, hidden_size).to(device)\n",
        "attn_decoder_scalar = ScalarAttnDecoderRNN(hidden_size, output_lang.n_words, dropout_p=0.1).to(device)\n",
        "\n",
        "trainIters(encoder_scalar, attn_decoder_scalar, 100000, print_every=5000)"
      ],
      "execution_count": 21,
      "outputs": [
        {
          "output_type": "stream",
          "text": [
            "1m 18s (- 24m 53s) (5000 5%) 3.0397\n",
            "2m 34s (- 23m 11s) (10000 10%) 2.5569\n",
            "3m 51s (- 21m 50s) (15000 15%) 2.2578\n",
            "5m 8s (- 20m 33s) (20000 20%) 2.0709\n",
            "6m 24s (- 19m 14s) (25000 25%) 1.8754\n",
            "7m 41s (- 17m 57s) (30000 30%) 1.7510\n",
            "8m 59s (- 16m 42s) (35000 35%) 1.6295\n",
            "10m 16s (- 15m 25s) (40000 40%) 1.5268\n",
            "11m 34s (- 14m 8s) (45000 45%) 1.4591\n",
            "12m 51s (- 12m 51s) (50000 50%) 1.3773\n",
            "14m 9s (- 11m 35s) (55000 55%) 1.3014\n",
            "15m 26s (- 10m 17s) (60000 60%) 1.2379\n",
            "16m 44s (- 9m 0s) (65000 65%) 1.1812\n",
            "18m 2s (- 7m 44s) (70000 70%) 1.1179\n",
            "19m 20s (- 6m 26s) (75000 75%) 1.0571\n",
            "20m 37s (- 5m 9s) (80000 80%) 1.0206\n",
            "21m 55s (- 3m 52s) (85000 85%) 0.9864\n",
            "23m 12s (- 2m 34s) (90000 90%) 0.9339\n",
            "24m 30s (- 1m 17s) (95000 95%) 0.8831\n",
            "25m 48s (- 0m 0s) (100000 100%) 0.8696\n"
          ],
          "name": "stdout"
        }
      ]
    },
    {
      "cell_type": "code",
      "metadata": {
        "id": "AKH6ohQ9WAUc",
        "colab_type": "code",
        "colab": {}
      },
      "source": [
        "# MLP attention "
      ],
      "execution_count": 0,
      "outputs": []
    },
    {
      "cell_type": "code",
      "metadata": {
        "id": "91s54o-mWAUf",
        "colab_type": "code",
        "colab": {
          "base_uri": "https://localhost:8080/",
          "height": 429
        },
        "outputId": "4f7273ee-c981-4f97-c4ca-462285c45087"
      },
      "source": [
        "hidden_size = 256\n",
        "encoder_mlp = EncoderRNN(input_lang.n_words, hidden_size).to(device)\n",
        "attn_decoder_mlp = MLPAttnDecoderRNN(hidden_size, output_lang.n_words, dropout_p=0.1).to(device)\n",
        "\n",
        "trainIters(encoder_mlp, attn_decoder_mlp, 40000, print_every=5000)"
      ],
      "execution_count": 35,
      "outputs": [
        {
          "output_type": "stream",
          "text": [
            "1m 27s (- 10m 10s) (5000 12%) 3.0450\n",
            "2m 55s (- 8m 45s) (10000 25%) 2.5686\n",
            "4m 23s (- 7m 19s) (15000 37%) 2.3531\n",
            "5m 52s (- 5m 52s) (20000 50%) 2.1675\n",
            "7m 21s (- 4m 24s) (25000 62%) 2.0318\n",
            "8m 50s (- 2m 56s) (30000 75%) 1.9508\n",
            "10m 20s (- 1m 28s) (35000 87%) 1.8681\n",
            "11m 49s (- 0m 0s) (40000 100%) 1.8301\n"
          ],
          "name": "stdout"
        },
        {
          "output_type": "display_data",
          "data": {
            "text/plain": [
              "<Figure size 432x288 with 0 Axes>"
            ]
          },
          "metadata": {
            "tags": []
          }
        },
        {
          "output_type": "display_data",
          "data": {
            "image/png": "[encoded data removed]",
            "text/plain": [
              "<Figure size 432x288 with 1 Axes>"
            ]
          },
          "metadata": {
            "tags": [],
            "needs_background": "light"
          }
        }
      ]
    },
    {
      "cell_type": "code",
      "metadata": {
        "colab_type": "code",
        "id": "xEoEylSyM9uj",
        "outputId": "c8f6f3f3-5670-401d-d057-8b3aa11f21d4",
        "colab": {
          "base_uri": "https://localhost:8080/",
          "height": 744
        }
      },
      "source": [
        "evaluateRandomly(encoder1, attn_decoder1)"
      ],
      "execution_count": 25,
      "outputs": [
        {
          "output_type": "stream",
          "text": [
            "> мы пришли тебя поддержать .\n",
            "= we re here to support you .\n",
            "< we re here to support you . <EOS>\n",
            "\n",
            "> мы не убиицы .\n",
            "= we re not killers .\n",
            "< we aren t win . <EOS>\n",
            "\n",
            "> мы очень довольны результатом .\n",
            "= we re very pleased with the result .\n",
            "< we re very pleased with the result . <EOS>\n",
            "\n",
            "> я снимаю кино .\n",
            "= i m making a movie .\n",
            "< i m making a movie . <EOS>\n",
            "\n",
            "> я твои сосед .\n",
            "= i m your neighbor .\n",
            "< i m your neighbor . <EOS>\n",
            "\n",
            "> я попробую .\n",
            "= i m going to try .\n",
            "< i m a . . <EOS>\n",
            "\n",
            "> я не особо переживаю .\n",
            "= i m not particularly worried .\n",
            "< i m not even worried . <EOS>\n",
            "\n",
            "> ты очень фотогенична .\n",
            "= you re very photogenic .\n",
            "< you re very conservative . <EOS>\n",
            "\n",
            "> я очень боюсь собак .\n",
            "= i m very afraid of dogs .\n",
            "< i m very afraid of dogs . <EOS>\n",
            "\n",
            "> я женюсь в понедельник .\n",
            "= i m getting married on monday .\n",
            "< i m getting married on monday . <EOS>\n",
            "\n"
          ],
          "name": "stdout"
        }
      ]
    },
    {
      "cell_type": "code",
      "metadata": {
        "id": "6dLcTucWcjgA",
        "colab_type": "code",
        "colab": {
          "base_uri": "https://localhost:8080/",
          "height": 744
        },
        "outputId": "f47499ad-f21a-4c28-8d8f-83faefa55f21"
      },
      "source": [
        "evaluateRandomly(encoder_scalar, attn_decoder_scalar)"
      ],
      "execution_count": 26,
      "outputs": [
        {
          "output_type": "stream",
          "text": [
            "> ты гораздо выше тома .\n",
            "= you re much taller than tom .\n",
            "< you re way taller than tom . <EOS>\n",
            "\n",
            "> я собираюсь спать здесь .\n",
            "= i m going to sleep here .\n",
            "< i m going to sleep here . <EOS>\n",
            "\n",
            "> я сегодня дома .\n",
            "= i m at home today .\n",
            "< i m at home today . <EOS>\n",
            "\n",
            "> я пытаюсь это изменить .\n",
            "= i m trying to change that .\n",
            "< i m trying to change that . <EOS>\n",
            "\n",
            "> теперь я женат .\n",
            "= i m married now .\n",
            "< i m married married now . <EOS>\n",
            "\n",
            "> я всего лишь турист .\n",
            "= i m just a tourist .\n",
            "< i m only a tourist . <EOS>\n",
            "\n",
            "> я очень недовольна .\n",
            "= i m very angry .\n",
            "< i m very angry . <EOS>\n",
            "\n",
            "> я впечатлена твоеи работои .\n",
            "= i m impressed with your work .\n",
            "< i m impressed at your work . <EOS>\n",
            "\n",
            "> я здесь бесполезен .\n",
            "= i m unnecessary here .\n",
            "< i m here here . <EOS>\n",
            "\n",
            "> я уже не голодна .\n",
            "= i m not hungry anymore .\n",
            "< i m not longer hungry anymore . <EOS>\n",
            "\n"
          ],
          "name": "stdout"
        }
      ]
    },
    {
      "cell_type": "code",
      "metadata": {
        "id": "GRb6EMNlcjjf",
        "colab_type": "code",
        "colab": {
          "base_uri": "https://localhost:8080/",
          "height": 744
        },
        "outputId": "d490b9e7-f56c-484c-b5dd-2bfc64f58267"
      },
      "source": [
        "evaluateRandomly(encoder_mlp, attn_decoder_mlp)"
      ],
      "execution_count": 36,
      "outputs": [
        {
          "output_type": "stream",
          "text": [
            "> я не очень счастлив .\n",
            "= i m not really happy .\n",
            "< i m not very happy all very happy . <EOS>\n",
            "\n",
            "> я довольно высокии .\n",
            "= i m quite tall .\n",
            "< i m pretty tall . <EOS>\n",
            "\n",
            "> я очень богат .\n",
            "= i m very wealthy .\n",
            "< i m very very . <EOS>\n",
            "\n",
            "> я просто немного устала .\n",
            "= i m just a little tired .\n",
            "< i m just tired of tired . <EOS>\n",
            "\n",
            "> я собираюсь остаться с вами .\n",
            "= i m going to stay with you .\n",
            "< i m going to go to . . <EOS>\n",
            "\n",
            "> я тоже не так занят .\n",
            "= i m not so busy either .\n",
            "< i m not so not busy . <EOS>\n",
            "\n",
            "> я так рад что вы здесь .\n",
            "= i m so happy you re here .\n",
            "< i m so glad you re here here . <EOS>\n",
            "\n",
            "> ему под шестьдесят .\n",
            "= he s in his late fifties .\n",
            "< he s been on his his . <EOS>\n",
            "\n",
            "> я здесь для того чтобы слушать .\n",
            "= i m here to listen .\n",
            "< i m here to ask . <EOS>\n",
            "\n",
            "> я твои .\n",
            "= i m yours .\n",
            "< i m your . <EOS>\n",
            "\n"
          ],
          "name": "stdout"
        }
      ]
    },
    {
      "cell_type": "code",
      "metadata": {
        "id": "PUyytN0gWAUl",
        "colab_type": "code",
        "colab": {}
      },
      "source": [
        "%matplotlib inline"
      ],
      "execution_count": 0,
      "outputs": []
    },
    {
      "cell_type": "code",
      "metadata": {
        "colab_type": "code",
        "id": "vzc3k6D0qn9W",
        "outputId": "dfadbabb-8a9d-4d9c-d0d2-03e218b1aefc",
        "colab": {
          "base_uri": "https://localhost:8080/",
          "height": 275
        }
      },
      "source": [
        "output_words, attentions = evaluate(\n",
        "    encoder1, attn_decoder1, \"она моя подруга .\")\n",
        "plt.matshow(attentions.numpy())\n",
        "plt.show()"
      ],
      "execution_count": 29,
      "outputs": [
        {
          "output_type": "display_data",
          "data": {
            "image/png": "[encoded data removed]",
            "text/plain": [
              "<Figure size 480x288 with 1 Axes>"
            ]
          },
          "metadata": {
            "tags": [],
            "needs_background": "light"
          }
        }
      ]
    },
    {
      "cell_type": "code",
      "metadata": {
        "colab_type": "code",
        "id": "6fqVhe4yqpeY",
        "colab": {}
      },
      "source": [
        "def showAttention(input_sentence, output_words, attentions):\n",
        "    # Set up figure with colorbar\n",
        "    fig = plt.figure()\n",
        "    ax = fig.add_subplot(111)\n",
        "    cax = ax.matshow(attentions.numpy(), cmap='bone')\n",
        "    fig.colorbar(cax)\n",
        "\n",
        "    # Set up axes\n",
        "    ax.set_xticklabels([''] + input_sentence.split(' ') +\n",
        "                       ['<EOS>'], rotation=90)\n",
        "    ax.set_yticklabels([''] + output_words)\n",
        "\n",
        "    # Show label at every tick\n",
        "    ax.xaxis.set_major_locator(ticker.MultipleLocator(1))\n",
        "    ax.yaxis.set_major_locator(ticker.MultipleLocator(1))\n",
        "\n",
        "    plt.show()\n",
        "\n",
        "\n",
        "def evaluateAndShowAttention(input_sentence, encoder, decoder):\n",
        "    output_words, attentions = evaluate(encoder, decoder, input_sentence)\n",
        "    print('input =', input_sentence)\n",
        "    print('output =', ' '.join(output_words))\n",
        "    showAttention(input_sentence, output_words, attentions)\n"
      ],
      "execution_count": 0,
      "outputs": []
    },
    {
      "cell_type": "code",
      "metadata": {
        "id": "JCWiMai3jZB9",
        "colab_type": "code",
        "colab": {
          "base_uri": "https://localhost:8080/",
          "height": 992
        },
        "outputId": "af4126d9-4ff3-459c-d9d3-4106b1d1a388"
      },
      "source": [
        "input_sentence = 'я пытаюсь это изменить .'\n",
        "\n",
        "evaluateAndShowAttention(input_sentence, encoder1, attn_decoder1)\n",
        "evaluateAndShowAttention(input_sentence, encoder_scalar, attn_decoder_scalar)\n",
        "evaluateAndShowAttention(input_sentence, encoder_mlp, attn_decoder_mlp)"
      ],
      "execution_count": 37,
      "outputs": [
        {
          "output_type": "stream",
          "text": [
            "input = я пытаюсь это изменить .\n",
            "output = i m trying to fix it . <EOS>\n"
          ],
          "name": "stdout"
        },
        {
          "output_type": "display_data",
          "data": {
            "image/png": "[encoded data removed]",
            "text/plain": [
              "<Figure size 432x288 with 2 Axes>"
            ]
          },
          "metadata": {
            "tags": [],
            "needs_background": "light"
          }
        },
        {
          "output_type": "stream",
          "text": [
            "input = я пытаюсь это изменить .\n",
            "output = i m trying to change that . <EOS>\n"
          ],
          "name": "stdout"
        },
        {
          "output_type": "display_data",
          "data": {
            "image/png": "[encoded data removed]",
            "text/plain": [
              "<Figure size 432x288 with 2 Axes>"
            ]
          },
          "metadata": {
            "tags": [],
            "needs_background": "light"
          }
        },
        {
          "output_type": "stream",
          "text": [
            "input = я пытаюсь это изменить .\n",
            "output = i m trying to that . <EOS>\n"
          ],
          "name": "stdout"
        },
        {
          "output_type": "display_data",
          "data": {
            "image/png": "[encoded data removed]",
            "text/plain": [
              "<Figure size 432x288 with 2 Axes>"
            ]
          },
          "metadata": {
            "tags": [],
            "needs_background": "light"
          }
        }
      ]
    },
    {
      "cell_type": "code",
      "metadata": {
        "colab_type": "code",
        "id": "WcoNw3Tzqs8q",
        "colab": {}
      },
      "source": [
        ""
      ],
      "execution_count": 0,
      "outputs": []
    }
  ]
}