{
 "cells": [
  {
   "cell_type": "markdown",
   "metadata": {},
   "source": [
    "## Автоматическое дифференцирование"
   ]
  },
  {
   "cell_type": "code",
   "execution_count": 126,
   "metadata": {
    "ExecuteTime": {
     "end_time": "2020-02-14T21:19:12.309344Z",
     "start_time": "2020-02-14T21:19:11.748461Z"
    }
   },
   "outputs": [],
   "source": [
    "import torch\n",
    "from torch import autograd"
   ]
  },
  {
   "cell_type": "code",
   "execution_count": 127,
   "metadata": {
    "ExecuteTime": {
     "end_time": "2020-02-14T21:19:12.317695Z",
     "start_time": "2020-02-14T21:19:12.311840Z"
    }
   },
   "outputs": [
    {
     "name": "stdout",
     "output_type": "stream",
     "text": [
      "tensor([0., 1., 2., 3.])\n"
     ]
    }
   ],
   "source": [
    "x = torch.arange(4).type(torch.float)\n",
    "print(x)"
   ]
  },
  {
   "cell_type": "markdown",
   "metadata": {
    "ExecuteTime": {
     "end_time": "2019-11-06T11:20:01.003092Z",
     "start_time": "2019-11-06T11:20:00.998727Z"
    }
   },
   "source": [
    "## Присоединение градиента к `x`\n",
    "\n",
    "- Говорит системе, что мы хотим хранить градиент"
   ]
  },
  {
   "cell_type": "code",
   "execution_count": 132,
   "metadata": {
    "ExecuteTime": {
     "end_time": "2020-02-14T21:19:13.331021Z",
     "start_time": "2020-02-14T21:19:13.319428Z"
    }
   },
   "outputs": [
    {
     "data": {
      "text/plain": [
       "True"
      ]
     },
     "execution_count": 132,
     "metadata": {},
     "output_type": "execute_result"
    }
   ],
   "source": [
    "x.requires_grad"
   ]
  },
  {
   "cell_type": "code",
   "execution_count": 133,
   "metadata": {
    "ExecuteTime": {
     "end_time": "2020-02-14T21:19:13.802927Z",
     "start_time": "2020-02-14T21:19:13.799490Z"
    }
   },
   "outputs": [],
   "source": [
    "x = x.requires_grad_()"
   ]
  },
  {
   "cell_type": "code",
   "execution_count": 134,
   "metadata": {
    "ExecuteTime": {
     "end_time": "2020-02-14T21:19:14.199927Z",
     "start_time": "2020-02-14T21:19:14.194768Z"
    }
   },
   "outputs": [
    {
     "data": {
      "text/plain": [
       "True"
      ]
     },
     "execution_count": 134,
     "metadata": {},
     "output_type": "execute_result"
    }
   ],
   "source": [
    "x.requires_grad"
   ]
  },
  {
   "cell_type": "code",
   "execution_count": 135,
   "metadata": {
    "ExecuteTime": {
     "end_time": "2020-02-14T21:19:14.549645Z",
     "start_time": "2020-02-14T21:19:14.546844Z"
    }
   },
   "outputs": [],
   "source": [
    "x.grad"
   ]
  },
  {
   "cell_type": "markdown",
   "metadata": {},
   "source": [
    "## Forward\n",
    "\n",
    "вычислим \n",
    "\n",
    "$$y = 2\\mathbf{x}^{\\top}\\mathbf{x}$$"
   ]
  },
  {
   "cell_type": "code",
   "execution_count": 136,
   "metadata": {
    "ExecuteTime": {
     "end_time": "2020-02-14T21:19:15.845283Z",
     "start_time": "2020-02-14T21:19:15.723331Z"
    }
   },
   "outputs": [],
   "source": [
    "y = 2 * x.dot(x)"
   ]
  },
  {
   "cell_type": "code",
   "execution_count": 137,
   "metadata": {
    "ExecuteTime": {
     "end_time": "2020-02-14T21:19:16.048666Z",
     "start_time": "2020-02-14T21:19:16.043433Z"
    }
   },
   "outputs": [
    {
     "name": "stdout",
     "output_type": "stream",
     "text": [
      "tensor(28., grad_fn=<MulBackward0>)\n"
     ]
    }
   ],
   "source": [
    "print(y)"
   ]
  },
  {
   "cell_type": "code",
   "execution_count": 138,
   "metadata": {},
   "outputs": [
    {
     "name": "stdout",
     "output_type": "stream",
     "text": [
      "tensor([0., 1., 2., 3.], requires_grad=True)\n",
      "None\n"
     ]
    }
   ],
   "source": [
    "print(x)\n",
    "print(x.grad)"
   ]
  },
  {
   "cell_type": "markdown",
   "metadata": {},
   "source": [
    "## Backward"
   ]
  },
  {
   "cell_type": "code",
   "execution_count": 139,
   "metadata": {
    "ExecuteTime": {
     "end_time": "2020-02-14T21:19:16.781256Z",
     "start_time": "2020-02-14T21:19:16.778235Z"
    }
   },
   "outputs": [],
   "source": [
    "y.backward()"
   ]
  },
  {
   "cell_type": "code",
   "execution_count": 140,
   "metadata": {},
   "outputs": [
    {
     "name": "stdout",
     "output_type": "stream",
     "text": [
      "tensor([0., 1., 2., 3.], requires_grad=True)\n",
      "tensor([ 0.,  4.,  8., 12.])\n"
     ]
    }
   ],
   "source": [
    "print(x)\n",
    "print(x.grad)"
   ]
  },
  {
   "cell_type": "markdown",
   "metadata": {},
   "source": [
    "## Получение градиента\n",
    "\n",
    "$y = 2\\mathbf{x}^{\\top}\\mathbf{x}$, значит \n",
    "\n",
    "$$\\frac{\\partial y}{\\partial \\mathbf x} = 4\\mathbf{x}$$\n",
    "\n",
    "Проверим:"
   ]
  },
  {
   "cell_type": "code",
   "execution_count": 78,
   "metadata": {
    "ExecuteTime": {
     "end_time": "2020-02-14T21:19:17.759116Z",
     "start_time": "2020-02-14T21:19:17.754379Z"
    }
   },
   "outputs": [
    {
     "data": {
      "text/plain": [
       "tensor([ 0.,  4.,  8., 12.])"
      ]
     },
     "execution_count": 78,
     "metadata": {},
     "output_type": "execute_result"
    }
   ],
   "source": [
    "x.grad"
   ]
  },
  {
   "cell_type": "code",
   "execution_count": 79,
   "metadata": {
    "ExecuteTime": {
     "end_time": "2020-02-14T21:19:18.107794Z",
     "start_time": "2020-02-14T21:19:18.103070Z"
    }
   },
   "outputs": [
    {
     "data": {
      "text/plain": [
       "tensor([True, True, True, True])"
      ]
     },
     "execution_count": 79,
     "metadata": {},
     "output_type": "execute_result"
    }
   ],
   "source": [
    "4 * x == x.grad"
   ]
  },
  {
   "cell_type": "markdown",
   "metadata": {},
   "source": [
    "## no_grad\n",
    "\n",
    "функция no_grad позволяет отключить вычисление градиента для части кода"
   ]
  },
  {
   "cell_type": "code",
   "execution_count": 80,
   "metadata": {
    "ExecuteTime": {
     "end_time": "2020-02-14T21:19:19.289587Z",
     "start_time": "2020-02-14T21:19:19.278270Z"
    }
   },
   "outputs": [
    {
     "name": "stdout",
     "output_type": "stream",
     "text": [
      "<MulBackward0 object at 0x0000011EBA8A1400>\n",
      "None\n"
     ]
    }
   ],
   "source": [
    "y = 2 * x.dot(x)\n",
    "print(y.grad_fn)\n",
    "with torch.no_grad():\n",
    "    y = 2 * x.dot(x)\n",
    "    print(y.grad_fn)"
   ]
  },
  {
   "cell_type": "code",
   "execution_count": 81,
   "metadata": {
    "ExecuteTime": {
     "end_time": "2020-02-14T21:19:19.887608Z",
     "start_time": "2020-02-14T21:19:19.776958Z"
    }
   },
   "outputs": [
    {
     "name": "stdout",
     "output_type": "stream",
     "text": [
      "tensor([ 0.,  8., 16., 24.])\n"
     ]
    },
    {
     "ename": "RuntimeError",
     "evalue": "element 0 of tensors does not require grad and does not have a grad_fn",
     "output_type": "error",
     "traceback": [
      "\u001b[1;31m---------------------------------------------------------------------------\u001b[0m",
      "\u001b[1;31mRuntimeError\u001b[0m                              Traceback (most recent call last)",
      "\u001b[1;32m<ipython-input-81-6f34daf0d33a>\u001b[0m in \u001b[0;36m<module>\u001b[1;34m\u001b[0m\n\u001b[0;32m      4\u001b[0m \u001b[1;32mwith\u001b[0m \u001b[0mtorch\u001b[0m\u001b[1;33m.\u001b[0m\u001b[0mno_grad\u001b[0m\u001b[1;33m(\u001b[0m\u001b[1;33m)\u001b[0m\u001b[1;33m:\u001b[0m\u001b[1;33m\u001b[0m\u001b[1;33m\u001b[0m\u001b[0m\n\u001b[0;32m      5\u001b[0m     \u001b[0my\u001b[0m \u001b[1;33m=\u001b[0m \u001b[1;36m2\u001b[0m \u001b[1;33m*\u001b[0m \u001b[0mx\u001b[0m\u001b[1;33m.\u001b[0m\u001b[0mdot\u001b[0m\u001b[1;33m(\u001b[0m\u001b[0mx\u001b[0m\u001b[1;33m)\u001b[0m\u001b[1;33m\u001b[0m\u001b[1;33m\u001b[0m\u001b[0m\n\u001b[1;32m----> 6\u001b[1;33m     \u001b[0my\u001b[0m\u001b[1;33m.\u001b[0m\u001b[0mbackward\u001b[0m\u001b[1;33m(\u001b[0m\u001b[1;33m)\u001b[0m\u001b[1;33m\u001b[0m\u001b[1;33m\u001b[0m\u001b[0m\n\u001b[0m\u001b[0;32m      7\u001b[0m     \u001b[0mprint\u001b[0m\u001b[1;33m(\u001b[0m\u001b[0mx\u001b[0m\u001b[1;33m.\u001b[0m\u001b[0mgrad\u001b[0m\u001b[1;33m)\u001b[0m\u001b[1;33m\u001b[0m\u001b[1;33m\u001b[0m\u001b[0m\n",
      "\u001b[1;32m~\\Anaconda3\\lib\\site-packages\\torch\\tensor.py\u001b[0m in \u001b[0;36mbackward\u001b[1;34m(self, gradient, retain_graph, create_graph)\u001b[0m\n\u001b[0;32m    193\u001b[0m                 \u001b[0mproducts\u001b[0m\u001b[1;33m.\u001b[0m \u001b[0mDefaults\u001b[0m \u001b[0mto\u001b[0m\u001b[0;31m \u001b[0m\u001b[0;31m`\u001b[0m\u001b[0;31m`\u001b[0m\u001b[1;32mFalse\u001b[0m\u001b[0;31m`\u001b[0m\u001b[0;31m`\u001b[0m\u001b[1;33m.\u001b[0m\u001b[1;33m\u001b[0m\u001b[1;33m\u001b[0m\u001b[0m\n\u001b[0;32m    194\u001b[0m         \"\"\"\n\u001b[1;32m--> 195\u001b[1;33m         \u001b[0mtorch\u001b[0m\u001b[1;33m.\u001b[0m\u001b[0mautograd\u001b[0m\u001b[1;33m.\u001b[0m\u001b[0mbackward\u001b[0m\u001b[1;33m(\u001b[0m\u001b[0mself\u001b[0m\u001b[1;33m,\u001b[0m \u001b[0mgradient\u001b[0m\u001b[1;33m,\u001b[0m \u001b[0mretain_graph\u001b[0m\u001b[1;33m,\u001b[0m \u001b[0mcreate_graph\u001b[0m\u001b[1;33m)\u001b[0m\u001b[1;33m\u001b[0m\u001b[1;33m\u001b[0m\u001b[0m\n\u001b[0m\u001b[0;32m    196\u001b[0m \u001b[1;33m\u001b[0m\u001b[0m\n\u001b[0;32m    197\u001b[0m     \u001b[1;32mdef\u001b[0m \u001b[0mregister_hook\u001b[0m\u001b[1;33m(\u001b[0m\u001b[0mself\u001b[0m\u001b[1;33m,\u001b[0m \u001b[0mhook\u001b[0m\u001b[1;33m)\u001b[0m\u001b[1;33m:\u001b[0m\u001b[1;33m\u001b[0m\u001b[1;33m\u001b[0m\u001b[0m\n",
      "\u001b[1;32m~\\Anaconda3\\lib\\site-packages\\torch\\autograd\\__init__.py\u001b[0m in \u001b[0;36mbackward\u001b[1;34m(tensors, grad_tensors, retain_graph, create_graph, grad_variables)\u001b[0m\n\u001b[0;32m     97\u001b[0m     Variable._execution_engine.run_backward(\n\u001b[0;32m     98\u001b[0m         \u001b[0mtensors\u001b[0m\u001b[1;33m,\u001b[0m \u001b[0mgrad_tensors\u001b[0m\u001b[1;33m,\u001b[0m \u001b[0mretain_graph\u001b[0m\u001b[1;33m,\u001b[0m \u001b[0mcreate_graph\u001b[0m\u001b[1;33m,\u001b[0m\u001b[1;33m\u001b[0m\u001b[1;33m\u001b[0m\u001b[0m\n\u001b[1;32m---> 99\u001b[1;33m         allow_unreachable=True)  # allow_unreachable flag\n\u001b[0m\u001b[0;32m    100\u001b[0m \u001b[1;33m\u001b[0m\u001b[0m\n\u001b[0;32m    101\u001b[0m \u001b[1;33m\u001b[0m\u001b[0m\n",
      "\u001b[1;31mRuntimeError\u001b[0m: element 0 of tensors does not require grad and does not have a grad_fn"
     ]
    }
   ],
   "source": [
    "y = 2 * x.dot(x)\n",
    "y.backward()\n",
    "print(x.grad)\n",
    "with torch.no_grad():\n",
    "    y = 2 * x.dot(x)\n",
    "    y.backward()\n",
    "    print(x.grad)"
   ]
  },
  {
   "cell_type": "markdown",
   "metadata": {},
   "source": [
    "## Гибкий граф"
   ]
  },
  {
   "cell_type": "code",
   "execution_count": 54,
   "metadata": {
    "ExecuteTime": {
     "end_time": "2020-02-14T21:19:22.284211Z",
     "start_time": "2020-02-14T21:19:22.279483Z"
    }
   },
   "outputs": [],
   "source": [
    "def f(a):\n",
    "    b = a * 2\n",
    "    while b.norm().item() < 1000:\n",
    "        b = b * 2\n",
    "    if b.sum().item() > 0:\n",
    "        c = b\n",
    "    else:\n",
    "        c = 100 * b\n",
    "    return c"
   ]
  },
  {
   "cell_type": "code",
   "execution_count": 55,
   "metadata": {
    "ExecuteTime": {
     "end_time": "2020-02-14T21:19:22.755980Z",
     "start_time": "2020-02-14T21:19:22.751076Z"
    }
   },
   "outputs": [],
   "source": [
    "a = torch.randn(1).requires_grad_()\n",
    "d = f(a)\n",
    "d.backward()"
   ]
  },
  {
   "cell_type": "code",
   "execution_count": 56,
   "metadata": {
    "ExecuteTime": {
     "end_time": "2020-02-14T21:19:23.095546Z",
     "start_time": "2020-02-14T21:19:23.090577Z"
    }
   },
   "outputs": [
    {
     "data": {
      "text/plain": [
       "tensor([-113326.4141], grad_fn=<MulBackward0>)"
      ]
     },
     "execution_count": 56,
     "metadata": {},
     "output_type": "execute_result"
    }
   ],
   "source": [
    "d"
   ]
  },
  {
   "cell_type": "code",
   "execution_count": 57,
   "metadata": {
    "ExecuteTime": {
     "end_time": "2020-02-14T21:19:23.492392Z",
     "start_time": "2020-02-14T21:19:23.487453Z"
    }
   },
   "outputs": [
    {
     "data": {
      "text/plain": [
       "tensor([409600.])"
      ]
     },
     "execution_count": 57,
     "metadata": {},
     "output_type": "execute_result"
    }
   ],
   "source": [
    "a.grad"
   ]
  },
  {
   "cell_type": "markdown",
   "metadata": {},
   "source": [
    "## Практика\n",
    "\n",
    "1. Пусть $f(x) = \\sin(x) * x$. Постройте график $f(x)$ и $\\frac{df(x)}{dx}$ используя пакет autograd'а для расчета производных (т.е. нельзя выводить производную явно)"
   ]
  },
  {
   "cell_type": "code",
   "execution_count": 58,
   "metadata": {},
   "outputs": [],
   "source": [
    "def f(x):\n",
    "    return torch.sin(x) * x"
   ]
  },
  {
   "cell_type": "code",
   "execution_count": 87,
   "metadata": {},
   "outputs": [
    {
     "name": "stdout",
     "output_type": "stream",
     "text": [
      "tensor([0., 1., 2., 3.], requires_grad=True)\n"
     ]
    }
   ],
   "source": [
    "x = torch.arange(4).type(torch.float)\n",
    "x = x.requires_grad_()\n",
    "print(x)"
   ]
  },
  {
   "cell_type": "code",
   "execution_count": 171,
   "metadata": {},
   "outputs": [],
   "source": [
    "axis = []\n",
    "output = []\n",
    "diffs = []\n",
    "\n",
    "for i in torch.arange(-5., 5., 0.01):\n",
    "    axis.append(i.item())\n",
    "    i.requires_grad_()\n",
    "    y = f(i)\n",
    "    output.append(y.item())\n",
    "    y.backward()\n",
    "    diffs.append(i.grad.item())"
   ]
  },
  {
   "cell_type": "code",
   "execution_count": 172,
   "metadata": {},
   "outputs": [],
   "source": [
    "import matplotlib.pyplot as plt"
   ]
  },
  {
   "cell_type": "code",
   "execution_count": 178,
   "metadata": {},
   "outputs": [
    {
     "data": {
      "image/png": "[encoded data removed]",
      "text/plain": [
       "<Figure size 432x288 with 1 Axes>"
      ]
     },
     "metadata": {
      "needs_background": "light"
     },
     "output_type": "display_data"
    }
   ],
   "source": [
    "plt.plot(axis, output, label = 'Original function')\n",
    "plt.plot(axis, diffs, label = 'Derivative function')\n",
    "plt.legend()\n",
    "plt.show()"
   ]
  },
  {
   "cell_type": "markdown",
   "metadata": {},
   "source": [
    "## Линейная регрессия с нуля"
   ]
  },
  {
   "cell_type": "code",
   "execution_count": 103,
   "metadata": {
    "ExecuteTime": {
     "end_time": "2020-02-14T21:20:30.667498Z",
     "start_time": "2020-02-14T21:20:30.663245Z"
    }
   },
   "outputs": [],
   "source": [
    "%matplotlib inline\n",
    "from IPython import display\n",
    "from matplotlib import pyplot as plt\n",
    "import torch\n",
    "import random"
   ]
  },
  {
   "cell_type": "markdown",
   "metadata": {},
   "source": [
    "## Генерируем данные\n",
    "\n",
    "- Случайно генерируем $\\mathbf{X}\\in \\mathbb{R}^{1000 \\times 2}$\n",
    "- Выбираем значения весов (истинные): $\\mathbf{w} = [2, -3.4]^\\top$ и свободного члена $b = 4.2$\n",
    "- Генерируем метки по формле $\\mathbf{y}= \\mathbf{X} \\mathbf{w} + b + \\mathbf\\epsilon$\n",
    "  с шумом $\\epsilon$ нормально распределнным с мат ожиданием 0 и дисперсией 1"
   ]
  },
  {
   "cell_type": "code",
   "execution_count": 104,
   "metadata": {
    "ExecuteTime": {
     "end_time": "2020-02-14T21:20:31.419309Z",
     "start_time": "2020-02-14T21:20:31.403219Z"
    }
   },
   "outputs": [],
   "source": [
    "num_inputs = 2\n",
    "num_examples = 1000\n",
    "true_w = torch.tensor([2, -3.4])\n",
    "true_b = 4.2\n",
    "features = torch.randn((num_examples, num_inputs))\n",
    "labels = torch.mv(features, true_w) + true_b\n",
    "labels += torch.randn(labels.shape)"
   ]
  },
  {
   "cell_type": "markdown",
   "metadata": {},
   "source": [
    "## Визуализируем данные"
   ]
  },
  {
   "cell_type": "code",
   "execution_count": 21,
   "metadata": {
    "ExecuteTime": {
     "end_time": "2020-02-14T21:20:33.295839Z",
     "start_time": "2020-02-14T21:20:33.016215Z"
    }
   },
   "outputs": [
    {
     "data": {
      "image/png": "[encoded data removed]",
      "text/plain": [
       "<Figure size 864x288 with 3 Axes>"
      ]
     },
     "metadata": {
      "needs_background": "light"
     },
     "output_type": "display_data"
    }
   ],
   "source": [
    "plt.figure(figsize=(12, 4))\n",
    "plt.subplot(131)\n",
    "plt.scatter(features[:, 0], labels, 1)\n",
    "plt.subplot(132)\n",
    "plt.scatter(features[:, 1], labels, 1)\n",
    "plt.subplot(133)\n",
    "plt.scatter(features[:, 0], features[:, 1], 1)\n",
    "plt.show()"
   ]
  },
  {
   "cell_type": "markdown",
   "metadata": {},
   "source": [
    "## Чтение данных\n",
    "\n",
    "Итерируемся по датасету и возвращаем случаные `batch_size` примеров."
   ]
  },
  {
   "cell_type": "code",
   "execution_count": 22,
   "metadata": {
    "ExecuteTime": {
     "end_time": "2020-02-14T21:20:34.965701Z",
     "start_time": "2020-02-14T21:20:34.960419Z"
    }
   },
   "outputs": [],
   "source": [
    "def data_iter(batch_size, features, labels):\n",
    "    num_examples = len(features) # число 100\n",
    "    indices = list(range(num_examples)) # список чисел от 0 до 99\n",
    "    # The examples are read at random, in no particular order\n",
    "    random.shuffle(indices) # перемешиваем этот список\n",
    "    for i in range(0, num_examples, batch_size): \n",
    "        j = indices[i: min(i + batch_size, num_examples)] # Выбираем индексы для батчка\n",
    "        yield features[j, :], labels[j] # возвращаем батч"
   ]
  },
  {
   "cell_type": "markdown",
   "metadata": {},
   "source": [
    "## Выводим маленький батч"
   ]
  },
  {
   "cell_type": "code",
   "execution_count": 23,
   "metadata": {
    "ExecuteTime": {
     "end_time": "2020-02-14T21:20:36.289557Z",
     "start_time": "2020-02-14T21:20:36.276075Z"
    }
   },
   "outputs": [
    {
     "name": "stdout",
     "output_type": "stream",
     "text": [
      "tensor([[-0.7696, -0.2004],\n",
      "        [-0.9723,  0.9377],\n",
      "        [-0.7914, -1.7629],\n",
      "        [-0.0597, -0.4353],\n",
      "        [ 0.4189,  0.5593],\n",
      "        [ 0.5996,  1.5973],\n",
      "        [ 0.5592,  1.0066],\n",
      "        [-0.6111, -1.0566],\n",
      "        [-0.6540,  1.4203],\n",
      "        [ 1.1008, -0.7073]]) tensor([ 3.8773,  0.6959,  7.3161,  6.6675,  3.6379,  0.4875,  1.0596,  6.6958,\n",
      "        -2.6231,  9.1001])\n"
     ]
    }
   ],
   "source": [
    "batch_size = 10\n",
    "for X, y in data_iter(batch_size, features, labels):\n",
    "    print(X, y)\n",
    "    break"
   ]
  },
  {
   "cell_type": "markdown",
   "metadata": {},
   "source": [
    "### Создаем нашу модель для обучения"
   ]
  },
  {
   "cell_type": "code",
   "execution_count": 24,
   "metadata": {
    "ExecuteTime": {
     "end_time": "2020-02-14T21:20:37.978446Z",
     "start_time": "2020-02-14T21:20:37.969179Z"
    }
   },
   "outputs": [],
   "source": [
    "w = torch.randn((num_inputs))\n",
    "b = torch.zeros((1,))"
   ]
  },
  {
   "cell_type": "code",
   "execution_count": 25,
   "metadata": {
    "ExecuteTime": {
     "end_time": "2020-02-14T21:20:39.951191Z",
     "start_time": "2020-02-14T21:20:39.945666Z"
    }
   },
   "outputs": [
    {
     "data": {
      "text/plain": [
       "tensor([0.], requires_grad=True)"
      ]
     },
     "execution_count": 25,
     "metadata": {},
     "output_type": "execute_result"
    }
   ],
   "source": [
    "w.requires_grad_()\n",
    "b.requires_grad_()"
   ]
  },
  {
   "cell_type": "code",
   "execution_count": 26,
   "metadata": {
    "ExecuteTime": {
     "end_time": "2020-02-14T21:20:48.662996Z",
     "start_time": "2020-02-14T21:20:48.659771Z"
    }
   },
   "outputs": [],
   "source": [
    "def linreg(X, w, b):\n",
    "    return torch.mv(X, w) + b"
   ]
  },
  {
   "cell_type": "markdown",
   "metadata": {},
   "source": [
    "### Обучение"
   ]
  },
  {
   "cell_type": "code",
   "execution_count": 27,
   "metadata": {
    "ExecuteTime": {
     "end_time": "2020-02-14T21:20:49.971559Z",
     "start_time": "2020-02-14T21:20:49.967950Z"
    }
   },
   "outputs": [],
   "source": [
    "def squared_loss(y_hat, y):\n",
    "    return ((y_hat - y.reshape(y_hat.shape)) ** 2).mean()"
   ]
  },
  {
   "cell_type": "code",
   "execution_count": 28,
   "metadata": {
    "ExecuteTime": {
     "end_time": "2020-02-14T21:20:50.464478Z",
     "start_time": "2020-02-14T21:20:50.461118Z"
    }
   },
   "outputs": [],
   "source": [
    "def sgd(params, lr):\n",
    "    for param in params:\n",
    "        param[:] = param - lr * param.grad"
   ]
  },
  {
   "cell_type": "code",
   "execution_count": 29,
   "metadata": {
    "ExecuteTime": {
     "end_time": "2020-02-14T21:20:51.868341Z",
     "start_time": "2020-02-14T21:20:51.392046Z"
    }
   },
   "outputs": [
    {
     "name": "stdout",
     "output_type": "stream",
     "text": [
      "epoch 1, loss 1.765860\n",
      "epoch 2, loss 1.035416\n",
      "epoch 3, loss 1.014329\n",
      "epoch 4, loss 1.015822\n",
      "epoch 5, loss 1.014500\n",
      "epoch 6, loss 1.013927\n",
      "epoch 7, loss 1.013696\n",
      "epoch 8, loss 1.013904\n",
      "epoch 9, loss 1.013829\n",
      "epoch 10, loss 1.014096\n",
      "epoch 11, loss 1.014064\n",
      "epoch 12, loss 1.014437\n",
      "epoch 13, loss 1.015409\n",
      "epoch 14, loss 1.013920\n",
      "epoch 15, loss 1.015775\n",
      "epoch 16, loss 1.015373\n",
      "epoch 17, loss 1.013739\n",
      "epoch 18, loss 1.014939\n",
      "epoch 19, loss 1.013751\n",
      "epoch 20, loss 1.016416\n"
     ]
    }
   ],
   "source": [
    "lr = 0.01  \n",
    "num_epochs = 20\n",
    "\n",
    "for epoch in range(num_epochs):\n",
    "    for X, y in data_iter(batch_size, features, labels):   \n",
    "        w = w.detach()\n",
    "        b = b.detach()\n",
    "        w.requires_grad_()\n",
    "        b.requires_grad_()\n",
    "        \n",
    "        l = squared_loss(linreg(X, w, b), y)\n",
    "        l.backward()\n",
    "        sgd([w, b], lr)\n",
    "\n",
    "    train_l = squared_loss(linreg(features, w, b), labels)\n",
    "    print('epoch %d, loss %f' % (epoch + 1, train_l.mean().item()))"
   ]
  },
  {
   "cell_type": "markdown",
   "metadata": {},
   "source": [
    "## Оценка качества модели"
   ]
  },
  {
   "cell_type": "code",
   "execution_count": 30,
   "metadata": {
    "ExecuteTime": {
     "end_time": "2020-02-14T21:20:56.391456Z",
     "start_time": "2020-02-14T21:20:56.379309Z"
    }
   },
   "outputs": [
    {
     "name": "stdout",
     "output_type": "stream",
     "text": [
      "Error in estimating w tensor([0.0615, 0.0857], grad_fn=<SubBackward0>)\n",
      "Error in estimating b tensor([-0.0917], grad_fn=<RsubBackward1>)\n",
      "tensor([ 1.9385, -3.4857], grad_fn=<CopySlices>)\n",
      "tensor([4.2917], grad_fn=<CopySlices>)\n"
     ]
    }
   ],
   "source": [
    "print('Error in estimating w', true_w - w.reshape(true_w.shape))\n",
    "print('Error in estimating b', true_b - b)\n",
    "print(w)\n",
    "print(b)"
   ]
  },
  {
   "cell_type": "markdown",
   "metadata": {
    "ExecuteTime": {
     "end_time": "2019-11-06T12:40:23.439886Z",
     "start_time": "2019-11-06T12:40:23.437308Z"
    }
   },
   "source": [
    "## Линейная регрессия на torch"
   ]
  },
  {
   "cell_type": "code",
   "execution_count": 31,
   "metadata": {
    "ExecuteTime": {
     "end_time": "2020-02-14T21:21:03.976428Z",
     "start_time": "2020-02-14T21:21:03.973389Z"
    }
   },
   "outputs": [],
   "source": [
    "from torch.utils.data import TensorDataset, DataLoader"
   ]
  },
  {
   "cell_type": "code",
   "execution_count": 32,
   "metadata": {
    "ExecuteTime": {
     "end_time": "2020-02-14T21:21:04.374242Z",
     "start_time": "2020-02-14T21:21:04.369367Z"
    }
   },
   "outputs": [],
   "source": [
    "num_inputs = 2\n",
    "num_examples = 1000\n",
    "true_w = torch.tensor([2, -3.4])\n",
    "true_b = 4.2\n",
    "features = torch.randn((num_examples, num_inputs))\n",
    "labels = torch.mv(features, true_w) + true_b\n",
    "labels += torch.randn(labels.shape)"
   ]
  },
  {
   "cell_type": "code",
   "execution_count": 33,
   "metadata": {
    "ExecuteTime": {
     "end_time": "2020-02-14T21:21:04.942809Z",
     "start_time": "2020-02-14T21:21:04.926079Z"
    },
    "scrolled": false
   },
   "outputs": [
    {
     "name": "stdout",
     "output_type": "stream",
     "text": [
      "tensor([[-0.2465, -0.8683],\n",
      "        [-0.1051, -0.0890],\n",
      "        [-0.9026, -0.8632],\n",
      "        [ 0.1963, -1.8687],\n",
      "        [ 1.1093,  0.5232],\n",
      "        [ 0.0320, -1.3907],\n",
      "        [-0.5454,  0.0350],\n",
      "        [ 0.9899, -0.0763],\n",
      "        [-0.4574,  0.7149],\n",
      "        [ 0.9456,  1.3655]]) tensor([7.5588, 4.5192, 3.5462, 9.9342, 4.6377, 7.9941, 3.6175, 5.6314, 0.4401,\n",
      "        1.6064])\n"
     ]
    }
   ],
   "source": [
    "batch_size = 10\n",
    "dataset = TensorDataset(features, labels)\n",
    "# Randomly reading mini-batches\n",
    "data_iter = DataLoader(dataset, batch_size, shuffle=True)\n",
    "\n",
    "# Read a batch to see how it works\n",
    "for X, y in data_iter:\n",
    "    print(X, y)\n",
    "    break"
   ]
  },
  {
   "cell_type": "code",
   "execution_count": 34,
   "metadata": {
    "ExecuteTime": {
     "end_time": "2020-02-14T21:21:05.723352Z",
     "start_time": "2020-02-14T21:21:05.713127Z"
    }
   },
   "outputs": [],
   "source": [
    "model = torch.nn.Sequential(torch.nn.Linear(2, 1))"
   ]
  },
  {
   "cell_type": "code",
   "execution_count": 35,
   "metadata": {
    "ExecuteTime": {
     "end_time": "2020-02-14T21:21:06.464668Z",
     "start_time": "2020-02-14T21:21:06.461769Z"
    }
   },
   "outputs": [],
   "source": [
    "loss = torch.nn.MSELoss(reduction='mean')"
   ]
  },
  {
   "cell_type": "code",
   "execution_count": 36,
   "metadata": {
    "ExecuteTime": {
     "end_time": "2020-02-14T21:21:06.978133Z",
     "start_time": "2020-02-14T21:21:06.969740Z"
    }
   },
   "outputs": [],
   "source": [
    "trainer = torch.optim.SGD(model.parameters(), lr=0.001)"
   ]
  },
  {
   "cell_type": "code",
   "execution_count": 37,
   "metadata": {
    "ExecuteTime": {
     "end_time": "2020-02-14T21:21:08.866517Z",
     "start_time": "2020-02-14T21:21:08.175370Z"
    }
   },
   "outputs": [
    {
     "name": "stdout",
     "output_type": "stream",
     "text": [
      "epoch 0, loss: 27.112528\n",
      "w tensor([[ 0.0788, -0.4635]])\n",
      "b tensor([0.4305])\n",
      "epoch 1, loss: 18.716101\n",
      "w tensor([[ 0.4377, -0.9927]])\n",
      "b tensor([1.0858])\n",
      "epoch 2, loss: 13.029295\n",
      "w tensor([[ 0.7304, -1.4258]])\n",
      "b tensor([1.6279])\n",
      "epoch 3, loss: 9.172315\n",
      "w tensor([[ 0.9699, -1.7806]])\n",
      "b tensor([2.0771])\n",
      "epoch 4, loss: 6.556776\n",
      "w tensor([[ 1.1658, -2.0728]])\n",
      "b tensor([2.4476])\n",
      "epoch 5, loss: 4.783646\n",
      "w tensor([[ 1.3256, -2.3122]])\n",
      "b tensor([2.7543])\n",
      "epoch 6, loss: 3.580016\n",
      "w tensor([[ 1.4564, -2.5089]])\n",
      "b tensor([3.0082])\n",
      "epoch 7, loss: 2.765373\n",
      "w tensor([[ 1.5632, -2.6700]])\n",
      "b tensor([3.2177])\n",
      "epoch 8, loss: 2.212463\n",
      "w tensor([[ 1.6510, -2.8028]])\n",
      "b tensor([3.3905])\n",
      "epoch 9, loss: 1.838034\n",
      "w tensor([[ 1.7219, -2.9117]])\n",
      "b tensor([3.5333])\n",
      "epoch 10, loss: 1.583452\n",
      "w tensor([[ 1.7797, -3.0013]])\n",
      "b tensor([3.6518])\n",
      "epoch 11, loss: 1.410486\n",
      "w tensor([[ 1.8272, -3.0749]])\n",
      "b tensor([3.7499])\n",
      "epoch 12, loss: 1.292856\n",
      "w tensor([[ 1.8667, -3.1357]])\n",
      "b tensor([3.8309])\n",
      "epoch 13, loss: 1.213888\n",
      "w tensor([[ 1.8981, -3.1849]])\n",
      "b tensor([3.8976])\n",
      "epoch 14, loss: 1.160542\n",
      "w tensor([[ 1.9241, -3.2247]])\n",
      "b tensor([3.9524])\n",
      "epoch 15, loss: 1.123706\n",
      "w tensor([[ 1.9452, -3.2582]])\n",
      "b tensor([3.9985])\n",
      "epoch 16, loss: 1.098932\n",
      "w tensor([[ 1.9627, -3.2859]])\n",
      "b tensor([4.0358])\n",
      "epoch 17, loss: 1.082011\n",
      "w tensor([[ 1.9769, -3.3084]])\n",
      "b tensor([4.0671])\n",
      "epoch 18, loss: 1.070413\n",
      "w tensor([[ 1.9889, -3.3273]])\n",
      "b tensor([4.0931])\n",
      "epoch 19, loss: 1.062682\n",
      "w tensor([[ 1.9978, -3.3422]])\n",
      "b tensor([4.1149])\n"
     ]
    }
   ],
   "source": [
    "num_epochs = 20\n",
    "for epoch in range(0, num_epochs):\n",
    "    for X, y in data_iter:\n",
    "        trainer.zero_grad()\n",
    "        l = loss(model.forward(X).reshape(-1), y)\n",
    "        l.backward()\n",
    "        trainer.step()\n",
    "    l = loss(model.forward(features).reshape(-1), labels)\n",
    "    print('epoch %d, loss: %f' % (epoch, l.item()))\n",
    "    print('w', model[0].weight.data)\n",
    "    print('b', model[0].bias.data)"
   ]
  },
  {
   "cell_type": "code",
   "execution_count": 38,
   "metadata": {
    "ExecuteTime": {
     "end_time": "2020-02-14T21:21:10.005242Z",
     "start_time": "2020-02-14T21:21:09.997900Z"
    }
   },
   "outputs": [
    {
     "name": "stdout",
     "output_type": "stream",
     "text": [
      "Error in estimating w tensor([[ 0.0022, -0.0578]])\n",
      "Error in estimating b tensor([0.0851])\n"
     ]
    }
   ],
   "source": [
    "w = model[0].weight.data\n",
    "print('Error in estimating w', true_w.reshape(w.shape) - w)\n",
    "b = model[0].bias.data\n",
    "print('Error in estimating b', true_b - b)"
   ]
  },
  {
   "cell_type": "code",
   "execution_count": 39,
   "metadata": {
    "ExecuteTime": {
     "end_time": "2020-02-14T21:21:11.370402Z",
     "start_time": "2020-02-14T21:21:11.365166Z"
    }
   },
   "outputs": [
    {
     "data": {
      "text/plain": [
       "tensor([[ 1.9978, -3.3422]])"
      ]
     },
     "execution_count": 39,
     "metadata": {},
     "output_type": "execute_result"
    }
   ],
   "source": [
    "model[0].weight.data"
   ]
  },
  {
   "cell_type": "code",
   "execution_count": 40,
   "metadata": {
    "ExecuteTime": {
     "end_time": "2020-02-14T21:21:12.238498Z",
     "start_time": "2020-02-14T21:21:12.233419Z"
    }
   },
   "outputs": [
    {
     "data": {
      "text/plain": [
       "tensor([4.1149])"
      ]
     },
     "execution_count": 40,
     "metadata": {},
     "output_type": "execute_result"
    }
   ],
   "source": [
    "model[0].bias.data"
   ]
  },
  {
   "cell_type": "markdown",
   "metadata": {},
   "source": [
    "## Научимся отличать рукописные цифры"
   ]
  },
  {
   "cell_type": "code",
   "execution_count": 105,
   "metadata": {
    "ExecuteTime": {
     "end_time": "2020-02-14T21:29:24.498918Z",
     "start_time": "2020-02-14T21:29:24.495970Z"
    }
   },
   "outputs": [],
   "source": [
    "import torchvision\n",
    "import time"
   ]
  },
  {
   "cell_type": "code",
   "execution_count": 106,
   "metadata": {
    "ExecuteTime": {
     "end_time": "2020-02-14T21:24:20.257148Z",
     "start_time": "2020-02-14T21:24:20.253690Z"
    }
   },
   "outputs": [],
   "source": [
    "def transform(data):\n",
    "    data = torch.tensor(data.getdata(), dtype=torch.float32)\n",
    "    return torch.floor(data / 128.).squeeze(axis=-1)"
   ]
  },
  {
   "cell_type": "code",
   "execution_count": 107,
   "metadata": {
    "ExecuteTime": {
     "end_time": "2020-02-14T21:24:20.589869Z",
     "start_time": "2020-02-14T21:24:20.565449Z"
    }
   },
   "outputs": [
    {
     "name": "stdout",
     "output_type": "stream",
     "text": [
      "Downloading http://yann.lecun.com/exdb/mnist/train-images-idx3-ubyte.gz to .\\MNIST\\raw\\train-images-idx3-ubyte.gz\n"
     ]
    },
    {
     "data": {
      "application/vnd.jupyter.widget-view+json": {
       "model_id": "0b213e9522264ef299531f0cb0ca06c8",
       "version_major": 2,
       "version_minor": 0
      },
      "text/plain": [
       "HBox(children=(IntProgress(value=1, bar_style='info', max=1), HTML(value='')))"
      ]
     },
     "metadata": {},
     "output_type": "display_data"
    },
    {
     "name": "stdout",
     "output_type": "stream",
     "text": [
      "\n",
      "Extracting .\\MNIST\\raw\\train-images-idx3-ubyte.gz to .\\MNIST\\raw\n",
      "Downloading http://yann.lecun.com/exdb/mnist/train-labels-idx1-ubyte.gz to .\\MNIST\\raw\\train-labels-idx1-ubyte.gz\n"
     ]
    },
    {
     "data": {
      "application/vnd.jupyter.widget-view+json": {
       "model_id": "6ca9ac4f378b45369ba647146b5f4c02",
       "version_major": 2,
       "version_minor": 0
      },
      "text/plain": [
       "HBox(children=(IntProgress(value=1, bar_style='info', max=1), HTML(value='')))"
      ]
     },
     "metadata": {},
     "output_type": "display_data"
    },
    {
     "name": "stdout",
     "output_type": "stream",
     "text": [
      "\n",
      "Extracting .\\MNIST\\raw\\train-labels-idx1-ubyte.gz to .\\MNIST\\raw\n",
      "Downloading http://yann.lecun.com/exdb/mnist/t10k-images-idx3-ubyte.gz to .\\MNIST\\raw\\t10k-images-idx3-ubyte.gz\n"
     ]
    },
    {
     "data": {
      "application/vnd.jupyter.widget-view+json": {
       "model_id": "65ea0ef086f4416db53acc3ac360ade5",
       "version_major": 2,
       "version_minor": 0
      },
      "text/plain": [
       "HBox(children=(IntProgress(value=1, bar_style='info', max=1), HTML(value='')))"
      ]
     },
     "metadata": {},
     "output_type": "display_data"
    },
    {
     "name": "stdout",
     "output_type": "stream",
     "text": [
      "\n",
      "Extracting .\\MNIST\\raw\\t10k-images-idx3-ubyte.gz to .\\MNIST\\raw\n",
      "Downloading http://yann.lecun.com/exdb/mnist/t10k-labels-idx1-ubyte.gz to .\\MNIST\\raw\\t10k-labels-idx1-ubyte.gz\n"
     ]
    },
    {
     "data": {
      "application/vnd.jupyter.widget-view+json": {
       "model_id": "d887471c3da943b7b119d9931eecc7a4",
       "version_major": 2,
       "version_minor": 0
      },
      "text/plain": [
       "HBox(children=(IntProgress(value=1, bar_style='info', max=1), HTML(value='')))"
      ]
     },
     "metadata": {},
     "output_type": "display_data"
    },
    {
     "name": "stdout",
     "output_type": "stream",
     "text": [
      "\n",
      "Extracting .\\MNIST\\raw\\t10k-labels-idx1-ubyte.gz to .\\MNIST\\raw\n",
      "Processing...\n",
      "Done!\n"
     ]
    }
   ],
   "source": [
    "mnist_train = torchvision.datasets.MNIST('.', train=True, transform=transform, download=True)\n",
    "mnist_test  = torchvision.datasets.MNIST('.', train=False, transform=transform, download=True)"
   ]
  },
  {
   "cell_type": "code",
   "execution_count": 179,
   "metadata": {
    "ExecuteTime": {
     "end_time": "2020-02-14T21:24:46.737850Z",
     "start_time": "2020-02-14T21:24:46.732575Z"
    }
   },
   "outputs": [
    {
     "data": {
      "text/plain": [
       "torch.Size([784])"
      ]
     },
     "execution_count": 179,
     "metadata": {},
     "output_type": "execute_result"
    }
   ],
   "source": [
    "mnist_train[0][0].shape"
   ]
  },
  {
   "cell_type": "code",
   "execution_count": 113,
   "metadata": {
    "ExecuteTime": {
     "end_time": "2020-02-14T21:29:11.856130Z",
     "start_time": "2020-02-14T21:29:11.851733Z"
    }
   },
   "outputs": [],
   "source": [
    "model = torch.nn.Sequential(torch.nn.Linear(784, 10))\n",
    "loss = torch.nn.CrossEntropyLoss(reduction='sum')\n",
    "trainer = torch.optim.SGD(model.parameters(), lr=0.001)"
   ]
  },
  {
   "cell_type": "code",
   "execution_count": 114,
   "metadata": {
    "ExecuteTime": {
     "end_time": "2020-02-14T21:27:36.496823Z",
     "start_time": "2020-02-14T21:27:36.493194Z"
    }
   },
   "outputs": [],
   "source": [
    "train, test = torch.utils.data.DataLoader(mnist_train, 256, shuffle=True), torch.utils.data.DataLoader(mnist_test, 256)"
   ]
  },
  {
   "cell_type": "code",
   "execution_count": 115,
   "metadata": {
    "ExecuteTime": {
     "end_time": "2020-02-14T21:36:31.234369Z",
     "start_time": "2020-02-14T21:35:12.487111Z"
    }
   },
   "outputs": [
    {
     "name": "stdout",
     "output_type": "stream",
     "text": [
      "epoch 0, taked: 11.825\n",
      "train -> loss: 0.536, acc: 0.862\n",
      "test -> loss: 0.365, acc: 0.901\n",
      "\n",
      "epoch 1, taked: 14.836\n",
      "train -> loss: 0.365, acc: 0.898\n",
      "test -> loss: 0.334, acc: 0.909\n",
      "\n",
      "epoch 2, taked: 16.189\n",
      "train -> loss: 0.338, acc: 0.906\n",
      "test -> loss: 0.317, acc: 0.912\n",
      "\n",
      "epoch 3, taked: 16.058\n",
      "train -> loss: 0.323, acc: 0.909\n",
      "test -> loss: 0.309, acc: 0.913\n",
      "\n",
      "epoch 4, taked: 15.854\n",
      "train -> loss: 0.314, acc: 0.912\n",
      "test -> loss: 0.303, acc: 0.915\n",
      "\n",
      "epoch 5, taked: 15.704\n",
      "train -> loss: 0.308, acc: 0.914\n",
      "test -> loss: 0.301, acc: 0.916\n",
      "\n",
      "epoch 6, taked: 15.793\n",
      "train -> loss: 0.302, acc: 0.916\n",
      "test -> loss: 0.299, acc: 0.915\n",
      "\n",
      "epoch 7, taked: 15.832\n",
      "train -> loss: 0.298, acc: 0.916\n",
      "test -> loss: 0.296, acc: 0.916\n",
      "\n",
      "epoch 8, taked: 15.711\n",
      "train -> loss: 0.295, acc: 0.917\n",
      "test -> loss: 0.293, acc: 0.919\n",
      "\n",
      "epoch 9, taked: 16.096\n",
      "train -> loss: 0.292, acc: 0.918\n",
      "test -> loss: 0.292, acc: 0.918\n",
      "\n"
     ]
    }
   ],
   "source": [
    "num_epochs = 10\n",
    "for epoch in range(0, num_epochs):\n",
    "    start, train_loss, train_acc, train_n, test_loss, test_acc, test_n = time.time(), 0., 0., 0, 0., 0., 0\n",
    "    \n",
    "    # режим обучения\n",
    "    model.train()\n",
    "    for X, y in train:\n",
    "        trainer.zero_grad() # не забывать обнуление градента!\n",
    "        y_hat = model.forward(X)\n",
    "        l = loss(y_hat, y)\n",
    "        l.backward()\n",
    "        trainer.step()\n",
    "        train_loss += l.item()\n",
    "        # y_hat.argmax(dim=1) - номер класса, который предсказала модель \n",
    "        train_acc += (y_hat.argmax(dim=1) == y).sum().item()\n",
    "        train_n += len(X)\n",
    "    \n",
    "    # режим вычисления\n",
    "    model.eval()\n",
    "    for X, y in test:\n",
    "        y_hat = model.forward(X)\n",
    "        l = loss(y_hat, y)\n",
    "        test_loss += l.item()\n",
    "        test_acc += (y_hat.argmax(dim=1) == y).sum().item()\n",
    "        test_n += len(X)   \n",
    "        \n",
    "    print(\"\"\"epoch {}, taked: {:.3f}\n",
    "train -> loss: {:.3f}, acc: {:.3f}\n",
    "test -> loss: {:.3f}, acc: {:.3f}\n",
    "\"\"\".format(epoch, time.time() - start, train_loss / train_n, train_acc / train_n,\n",
    "       test_loss / test_n, test_acc / test_n))\n"
   ]
  },
  {
   "cell_type": "code",
   "execution_count": null,
   "metadata": {},
   "outputs": [],
   "source": []
  }
 ],
 "metadata": {
  "kernelspec": {
   "display_name": "Python 3",
   "language": "python",
   "name": "python3"
  },
  "language_info": {
   "codemirror_mode": {
    "name": "ipython",
    "version": 3
   },
   "file_extension": ".py",
   "mimetype": "text/x-python",
   "name": "python",
   "nbconvert_exporter": "python",
   "pygments_lexer": "ipython3",
   "version": "3.7.3"
  }
 },
 "nbformat": 4,
 "nbformat_minor": 2
}
