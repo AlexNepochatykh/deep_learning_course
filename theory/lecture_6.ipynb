{
 "cells": [
  {
   "cell_type": "code",
   "execution_count": 35,
   "metadata": {
    "ExecuteTime": {
     "end_time": "2020-03-12T15:11:51.143288Z",
     "start_time": "2020-03-12T15:11:49.649354Z"
    },
    "colab": {},
    "colab_type": "code",
    "id": "_u4AgQvOR_Wr"
   },
   "outputs": [],
   "source": [
    "import pandas as pd\n",
    "import time\n",
    "import torch"
   ]
  },
  {
   "cell_type": "code",
   "execution_count": 36,
   "metadata": {},
   "outputs": [
    {
     "data": {
      "text/plain": [
       "'1.4.0+cpu'"
      ]
     },
     "execution_count": 36,
     "metadata": {},
     "output_type": "execute_result"
    }
   ],
   "source": [
    "torch.__version__"
   ]
  },
  {
   "cell_type": "markdown",
   "metadata": {
    "colab_type": "text",
    "id": "V2vRjX2sR_W4"
   },
   "source": [
    "## Загрузка данных"
   ]
  },
  {
   "cell_type": "code",
   "execution_count": 2,
   "metadata": {
    "ExecuteTime": {
     "end_time": "2020-03-12T15:12:00.685533Z",
     "start_time": "2020-03-12T15:12:00.591616Z"
    },
    "colab": {
     "base_uri": "https://localhost:8080/",
     "height": 597
    },
    "colab_type": "code",
    "id": "XCfHVQiOR_W9",
    "outputId": "16c7e7cb-77d4-4ee5-ea43-ecab127b4be3"
   },
   "outputs": [
    {
     "data": {
      "text/html": [
       "<div>\n",
       "<style scoped>\n",
       "    .dataframe tbody tr th:only-of-type {\n",
       "        vertical-align: middle;\n",
       "    }\n",
       "\n",
       "    .dataframe tbody tr th {\n",
       "        vertical-align: top;\n",
       "    }\n",
       "\n",
       "    .dataframe thead th {\n",
       "        text-align: right;\n",
       "    }\n",
       "</style>\n",
       "<table border=\"1\" class=\"dataframe\">\n",
       "  <thead>\n",
       "    <tr style=\"text-align: right;\">\n",
       "      <th></th>\n",
       "      <th>Unnamed: 0</th>\n",
       "      <th>id</th>\n",
       "      <th>episode_id</th>\n",
       "      <th>number</th>\n",
       "      <th>raw_text</th>\n",
       "      <th>timestamp_in_ms</th>\n",
       "      <th>speaking_line</th>\n",
       "      <th>character_id</th>\n",
       "      <th>location_id</th>\n",
       "      <th>raw_character_text</th>\n",
       "      <th>raw_location_text</th>\n",
       "      <th>spoken_words</th>\n",
       "      <th>normalized_text</th>\n",
       "      <th>word_count</th>\n",
       "    </tr>\n",
       "  </thead>\n",
       "  <tbody>\n",
       "    <tr>\n",
       "      <th>0</th>\n",
       "      <td>0</td>\n",
       "      <td>10368</td>\n",
       "      <td>35</td>\n",
       "      <td>29</td>\n",
       "      <td>Lisa Simpson: Maggie, look. What's that?</td>\n",
       "      <td>235000</td>\n",
       "      <td>True</td>\n",
       "      <td>9</td>\n",
       "      <td>5.0</td>\n",
       "      <td>Lisa Simpson</td>\n",
       "      <td>Simpson Home</td>\n",
       "      <td>Maggie, look. What's that?</td>\n",
       "      <td>maggie look whats that</td>\n",
       "      <td>4.0</td>\n",
       "    </tr>\n",
       "    <tr>\n",
       "      <th>1</th>\n",
       "      <td>1</td>\n",
       "      <td>10369</td>\n",
       "      <td>35</td>\n",
       "      <td>30</td>\n",
       "      <td>Lisa Simpson: Lee-mur. Lee-mur.</td>\n",
       "      <td>237000</td>\n",
       "      <td>True</td>\n",
       "      <td>9</td>\n",
       "      <td>5.0</td>\n",
       "      <td>Lisa Simpson</td>\n",
       "      <td>Simpson Home</td>\n",
       "      <td>Lee-mur. Lee-mur.</td>\n",
       "      <td>lee-mur lee-mur</td>\n",
       "      <td>2.0</td>\n",
       "    </tr>\n",
       "    <tr>\n",
       "      <th>2</th>\n",
       "      <td>2</td>\n",
       "      <td>10370</td>\n",
       "      <td>35</td>\n",
       "      <td>31</td>\n",
       "      <td>Lisa Simpson: Zee-boo. Zee-boo.</td>\n",
       "      <td>239000</td>\n",
       "      <td>True</td>\n",
       "      <td>9</td>\n",
       "      <td>5.0</td>\n",
       "      <td>Lisa Simpson</td>\n",
       "      <td>Simpson Home</td>\n",
       "      <td>Zee-boo. Zee-boo.</td>\n",
       "      <td>zee-boo zee-boo</td>\n",
       "      <td>2.0</td>\n",
       "    </tr>\n",
       "    <tr>\n",
       "      <th>3</th>\n",
       "      <td>3</td>\n",
       "      <td>10372</td>\n",
       "      <td>35</td>\n",
       "      <td>33</td>\n",
       "      <td>Lisa Simpson: I'm trying to teach Maggie that ...</td>\n",
       "      <td>245000</td>\n",
       "      <td>True</td>\n",
       "      <td>9</td>\n",
       "      <td>5.0</td>\n",
       "      <td>Lisa Simpson</td>\n",
       "      <td>Simpson Home</td>\n",
       "      <td>I'm trying to teach Maggie that nature doesn't...</td>\n",
       "      <td>im trying to teach maggie that nature doesnt e...</td>\n",
       "      <td>24.0</td>\n",
       "    </tr>\n",
       "    <tr>\n",
       "      <th>4</th>\n",
       "      <td>4</td>\n",
       "      <td>10374</td>\n",
       "      <td>35</td>\n",
       "      <td>35</td>\n",
       "      <td>Lisa Simpson: It's like an ox, only it has a h...</td>\n",
       "      <td>254000</td>\n",
       "      <td>True</td>\n",
       "      <td>9</td>\n",
       "      <td>5.0</td>\n",
       "      <td>Lisa Simpson</td>\n",
       "      <td>Simpson Home</td>\n",
       "      <td>It's like an ox, only it has a hump and a dewl...</td>\n",
       "      <td>its like an ox only it has a hump and a dewlap...</td>\n",
       "      <td>18.0</td>\n",
       "    </tr>\n",
       "  </tbody>\n",
       "</table>\n",
       "</div>"
      ],
      "text/plain": [
       "   Unnamed: 0     id  episode_id  number  \\\n",
       "0           0  10368          35      29   \n",
       "1           1  10369          35      30   \n",
       "2           2  10370          35      31   \n",
       "3           3  10372          35      33   \n",
       "4           4  10374          35      35   \n",
       "\n",
       "                                            raw_text  timestamp_in_ms  \\\n",
       "0           Lisa Simpson: Maggie, look. What's that?           235000   \n",
       "1                    Lisa Simpson: Lee-mur. Lee-mur.           237000   \n",
       "2                    Lisa Simpson: Zee-boo. Zee-boo.           239000   \n",
       "3  Lisa Simpson: I'm trying to teach Maggie that ...           245000   \n",
       "4  Lisa Simpson: It's like an ox, only it has a h...           254000   \n",
       "\n",
       "   speaking_line  character_id  location_id raw_character_text  \\\n",
       "0           True             9          5.0       Lisa Simpson   \n",
       "1           True             9          5.0       Lisa Simpson   \n",
       "2           True             9          5.0       Lisa Simpson   \n",
       "3           True             9          5.0       Lisa Simpson   \n",
       "4           True             9          5.0       Lisa Simpson   \n",
       "\n",
       "  raw_location_text                                       spoken_words  \\\n",
       "0      Simpson Home                         Maggie, look. What's that?   \n",
       "1      Simpson Home                                  Lee-mur. Lee-mur.   \n",
       "2      Simpson Home                                  Zee-boo. Zee-boo.   \n",
       "3      Simpson Home  I'm trying to teach Maggie that nature doesn't...   \n",
       "4      Simpson Home  It's like an ox, only it has a hump and a dewl...   \n",
       "\n",
       "                                     normalized_text  word_count  \n",
       "0                             maggie look whats that         4.0  \n",
       "1                                    lee-mur lee-mur         2.0  \n",
       "2                                    zee-boo zee-boo         2.0  \n",
       "3  im trying to teach maggie that nature doesnt e...        24.0  \n",
       "4  its like an ox only it has a hump and a dewlap...        18.0  "
      ]
     },
     "execution_count": 2,
     "metadata": {},
     "output_type": "execute_result"
    }
   ],
   "source": [
    "df = pd.read_csv('../data/data_lecture_6.csv')\n",
    "df.head()"
   ]
  },
  {
   "cell_type": "code",
   "execution_count": 3,
   "metadata": {
    "ExecuteTime": {
     "end_time": "2020-03-12T15:12:15.820742Z",
     "start_time": "2020-03-12T15:12:15.809523Z"
    },
    "colab": {
     "base_uri": "https://localhost:8080/",
     "height": 213
    },
    "colab_type": "code",
    "id": "mjbIFwkoR_XG",
    "outputId": "152bf38b-8178-4482-8a17-159d41961edc"
   },
   "outputs": [
    {
     "data": {
      "text/plain": [
       "['maggie look whats that',\n",
       " 'lee-mur lee-mur',\n",
       " 'zee-boo zee-boo',\n",
       " 'im trying to teach maggie that nature doesnt end with the barnyard i want her to have all the advantages that i didnt have',\n",
       " 'its like an ox only it has a hump and a dewlap hump and dew-lap hump and dew-lap',\n",
       " 'you know his blood type how romantic',\n",
       " 'oh yeah whats my shoe size',\n",
       " 'ring',\n",
       " 'yes dad',\n",
       " 'ooh look maggie what is that do-dec-ah-edron dodecahedron']"
      ]
     },
     "execution_count": 3,
     "metadata": {},
     "output_type": "execute_result"
    }
   ],
   "source": [
    "phrases = df['normalized_text'].tolist()\n",
    "phrases[:10]"
   ]
  },
  {
   "cell_type": "code",
   "execution_count": 37,
   "metadata": {
    "ExecuteTime": {
     "end_time": "2020-03-12T15:12:32.809563Z",
     "start_time": "2020-03-12T15:12:32.768140Z"
    },
    "colab": {},
    "colab_type": "code",
    "id": "VzsJuC58R_XN"
   },
   "outputs": [],
   "source": [
    "text = [[c for c in ph] for ph in phrases if type(ph) is str]"
   ]
  },
  {
   "cell_type": "code",
   "execution_count": 45,
   "metadata": {},
   "outputs": [
    {
     "data": {
      "text/plain": [
       "22"
      ]
     },
     "execution_count": 45,
     "metadata": {},
     "output_type": "execute_result"
    }
   ],
   "source": [
    "len(text[0])"
   ]
  },
  {
   "cell_type": "code",
   "execution_count": 5,
   "metadata": {},
   "outputs": [],
   "source": [
    "#len(text)\n",
    "#text[:100]"
   ]
  },
  {
   "cell_type": "markdown",
   "metadata": {
    "colab_type": "text",
    "id": "Uo1Lq8TXR_XS"
   },
   "source": [
    "## Делаем массив с данными"
   ]
  },
  {
   "cell_type": "code",
   "execution_count": 6,
   "metadata": {
    "ExecuteTime": {
     "end_time": "2020-03-12T15:12:53.641351Z",
     "start_time": "2020-03-12T15:12:53.636757Z"
    },
    "colab": {},
    "colab_type": "code",
    "id": "TRnFzW3RR_XT"
   },
   "outputs": [],
   "source": [
    "CHARS = set('abcdefghijklmnopqrstuvwxyz ')\n",
    "INDEX_TO_CHAR = ['none'] + [w for w in CHARS]\n",
    "CHAR_TO_INDEX = {w: i for i, w in enumerate(INDEX_TO_CHAR)}"
   ]
  },
  {
   "cell_type": "code",
   "execution_count": 7,
   "metadata": {},
   "outputs": [
    {
     "data": {
      "text/plain": [
       "['none',\n",
       " 'r',\n",
       " 'e',\n",
       " 't',\n",
       " 'm',\n",
       " 'g',\n",
       " 'l',\n",
       " 's',\n",
       " 'w',\n",
       " 'k',\n",
       " 'd',\n",
       " 'n',\n",
       " 'a',\n",
       " 'z',\n",
       " 'p',\n",
       " 'u',\n",
       " ' ',\n",
       " 'y',\n",
       " 'q',\n",
       " 'v',\n",
       " 'h',\n",
       " 'b',\n",
       " 'i',\n",
       " 'x',\n",
       " 'c',\n",
       " 'j',\n",
       " 'f',\n",
       " 'o']"
      ]
     },
     "execution_count": 7,
     "metadata": {},
     "output_type": "execute_result"
    }
   ],
   "source": [
    "INDEX_TO_CHAR"
   ]
  },
  {
   "cell_type": "code",
   "execution_count": 8,
   "metadata": {
    "ExecuteTime": {
     "end_time": "2020-03-12T15:13:58.918002Z",
     "start_time": "2020-03-12T15:13:55.602551Z"
    },
    "colab": {},
    "colab_type": "code",
    "id": "gXeD0jN_R_XX"
   },
   "outputs": [],
   "source": [
    "MAX_LEN = 50\n",
    "X = torch.zeros((len(text), MAX_LEN), dtype=int)\n",
    "for i in range(len(text)):\n",
    "    for j, w in enumerate(text[i]):\n",
    "        if j >= MAX_LEN:\n",
    "            break\n",
    "        X[i, j] = CHAR_TO_INDEX.get(w, CHAR_TO_INDEX['none'])"
   ]
  },
  {
   "cell_type": "code",
   "execution_count": 16,
   "metadata": {},
   "outputs": [
    {
     "data": {
      "text/plain": [
       "torch.Size([10891, 50])"
      ]
     },
     "execution_count": 16,
     "metadata": {},
     "output_type": "execute_result"
    }
   ],
   "source": [
    "X.shape"
   ]
  },
  {
   "cell_type": "code",
   "execution_count": 19,
   "metadata": {},
   "outputs": [
    {
     "data": {
      "text/plain": [
       "74"
      ]
     },
     "execution_count": 19,
     "metadata": {},
     "output_type": "execute_result"
    }
   ],
   "source": [
    "#X.shape - torch.Size([10891, 50])\n",
    "len(text[10])"
   ]
  },
  {
   "cell_type": "code",
   "execution_count": 11,
   "metadata": {
    "ExecuteTime": {
     "end_time": "2020-03-12T15:14:24.776980Z",
     "start_time": "2020-03-12T15:14:24.761649Z"
    },
    "colab": {
     "base_uri": "https://localhost:8080/",
     "height": 565
    },
    "colab_type": "code",
    "id": "WCFxAPbnR_Xb",
    "outputId": "87e5fc73-4bad-4f8f-e086-c467baafbe2d",
    "scrolled": true
   },
   "outputs": [
    {
     "data": {
      "text/plain": [
       "tensor([[ 4, 12,  5,  5, 22,  2, 16,  6, 27, 27,  9, 16,  8, 20, 12,  3,  7, 16,\n",
       "          3, 20, 12,  3,  0,  0,  0,  0,  0,  0,  0,  0,  0,  0,  0,  0,  0,  0,\n",
       "          0,  0,  0,  0,  0,  0,  0,  0,  0,  0,  0,  0,  0,  0],\n",
       "        [ 6,  2,  2,  0,  4, 15,  1, 16,  6,  2,  2,  0,  4, 15,  1,  0,  0,  0,\n",
       "          0,  0,  0,  0,  0,  0,  0,  0,  0,  0,  0,  0,  0,  0,  0,  0,  0,  0,\n",
       "          0,  0,  0,  0,  0,  0,  0,  0,  0,  0,  0,  0,  0,  0],\n",
       "        [13,  2,  2,  0, 21, 27, 27, 16, 13,  2,  2,  0, 21, 27, 27,  0,  0,  0,\n",
       "          0,  0,  0,  0,  0,  0,  0,  0,  0,  0,  0,  0,  0,  0,  0,  0,  0,  0,\n",
       "          0,  0,  0,  0,  0,  0,  0,  0,  0,  0,  0,  0,  0,  0],\n",
       "        [22,  4, 16,  3,  1, 17, 22, 11,  5, 16,  3, 27, 16,  3,  2, 12, 24, 20,\n",
       "         16,  4, 12,  5,  5, 22,  2, 16,  3, 20, 12,  3, 16, 11, 12,  3, 15,  1,\n",
       "          2, 16, 10, 27,  2,  7, 11,  3, 16,  2, 11, 10, 16,  8],\n",
       "        [22,  3,  7, 16,  6, 22,  9,  2, 16, 12, 11, 16, 27, 23, 16, 27, 11,  6,\n",
       "         17, 16, 22,  3, 16, 20, 12,  7, 16, 12, 16, 20, 15,  4, 14, 16, 12, 11,\n",
       "         10, 16, 12, 16, 10,  2,  8,  6, 12, 14, 16, 20, 15,  4],\n",
       "        [17, 27, 15, 16,  9, 11, 27,  8, 16, 20, 22,  7, 16, 21,  6, 27, 27, 10,\n",
       "         16,  3, 17, 14,  2, 16, 20, 27,  8, 16,  1, 27,  4, 12, 11,  3, 22, 24,\n",
       "          0,  0,  0,  0,  0,  0,  0,  0,  0,  0,  0,  0,  0,  0],\n",
       "        [27, 20, 16, 17,  2, 12, 20, 16,  8, 20, 12,  3,  7, 16,  4, 17, 16,  7,\n",
       "         20, 27,  2, 16,  7, 22, 13,  2,  0,  0,  0,  0,  0,  0,  0,  0,  0,  0,\n",
       "          0,  0,  0,  0,  0,  0,  0,  0,  0,  0,  0,  0,  0,  0],\n",
       "        [ 1, 22, 11,  5,  0,  0,  0,  0,  0,  0,  0,  0,  0,  0,  0,  0,  0,  0,\n",
       "          0,  0,  0,  0,  0,  0,  0,  0,  0,  0,  0,  0,  0,  0,  0,  0,  0,  0,\n",
       "          0,  0,  0,  0,  0,  0,  0,  0,  0,  0,  0,  0,  0,  0],\n",
       "        [17,  2,  7, 16, 10, 12, 10,  0,  0,  0,  0,  0,  0,  0,  0,  0,  0,  0,\n",
       "          0,  0,  0,  0,  0,  0,  0,  0,  0,  0,  0,  0,  0,  0,  0,  0,  0,  0,\n",
       "          0,  0,  0,  0,  0,  0,  0,  0,  0,  0,  0,  0,  0,  0],\n",
       "        [27, 27, 20, 16,  6, 27, 27,  9, 16,  4, 12,  5,  5, 22,  2, 16,  8, 20,\n",
       "         12,  3, 16, 22,  7, 16,  3, 20, 12,  3, 16, 10, 27,  0, 10,  2, 24,  0,\n",
       "         12, 20,  0,  2, 10,  1, 27, 11, 16, 10, 27, 10,  2, 24]])"
      ]
     },
     "execution_count": 11,
     "metadata": {},
     "output_type": "execute_result"
    }
   ],
   "source": [
    "X[0:10]"
   ]
  },
  {
   "cell_type": "markdown",
   "metadata": {
    "colab_type": "text",
    "id": "C4gfi_KcR_Xf"
   },
   "source": [
    "## Смотрим на Embedding и RNN ячейку"
   ]
  },
  {
   "cell_type": "code",
   "execution_count": 23,
   "metadata": {},
   "outputs": [
    {
     "data": {
      "text/plain": [
       "28"
      ]
     },
     "execution_count": 23,
     "metadata": {},
     "output_type": "execute_result"
    }
   ],
   "source": [
    "len(INDEX_TO_CHAR)"
   ]
  },
  {
   "cell_type": "code",
   "execution_count": 69,
   "metadata": {},
   "outputs": [
    {
     "data": {
      "text/plain": [
       "10"
      ]
     },
     "execution_count": 69,
     "metadata": {},
     "output_type": "execute_result"
    }
   ],
   "source": [
    "len(t)"
   ]
  },
  {
   "cell_type": "code",
   "execution_count": 72,
   "metadata": {},
   "outputs": [
    {
     "data": {
      "text/plain": [
       "tensor([[ 4, 12,  5,  5, 22,  2, 16,  6, 27, 27,  9, 16,  8, 20, 12,  3,  7, 16,\n",
       "          3, 20, 12,  3,  0,  0,  0,  0,  0,  0,  0,  0,  0,  0,  0,  0,  0,  0,\n",
       "          0,  0,  0,  0,  0,  0,  0,  0,  0,  0,  0,  0,  0,  0],\n",
       "        [ 6,  2,  2,  0,  4, 15,  1, 16,  6,  2,  2,  0,  4, 15,  1,  0,  0,  0,\n",
       "          0,  0,  0,  0,  0,  0,  0,  0,  0,  0,  0,  0,  0,  0,  0,  0,  0,  0,\n",
       "          0,  0,  0,  0,  0,  0,  0,  0,  0,  0,  0,  0,  0,  0],\n",
       "        [13,  2,  2,  0, 21, 27, 27, 16, 13,  2,  2,  0, 21, 27, 27,  0,  0,  0,\n",
       "          0,  0,  0,  0,  0,  0,  0,  0,  0,  0,  0,  0,  0,  0,  0,  0,  0,  0,\n",
       "          0,  0,  0,  0,  0,  0,  0,  0,  0,  0,  0,  0,  0,  0],\n",
       "        [22,  4, 16,  3,  1, 17, 22, 11,  5, 16,  3, 27, 16,  3,  2, 12, 24, 20,\n",
       "         16,  4, 12,  5,  5, 22,  2, 16,  3, 20, 12,  3, 16, 11, 12,  3, 15,  1,\n",
       "          2, 16, 10, 27,  2,  7, 11,  3, 16,  2, 11, 10, 16,  8],\n",
       "        [22,  3,  7, 16,  6, 22,  9,  2, 16, 12, 11, 16, 27, 23, 16, 27, 11,  6,\n",
       "         17, 16, 22,  3, 16, 20, 12,  7, 16, 12, 16, 20, 15,  4, 14, 16, 12, 11,\n",
       "         10, 16, 12, 16, 10,  2,  8,  6, 12, 14, 16, 20, 15,  4],\n",
       "        [17, 27, 15, 16,  9, 11, 27,  8, 16, 20, 22,  7, 16, 21,  6, 27, 27, 10,\n",
       "         16,  3, 17, 14,  2, 16, 20, 27,  8, 16,  1, 27,  4, 12, 11,  3, 22, 24,\n",
       "          0,  0,  0,  0,  0,  0,  0,  0,  0,  0,  0,  0,  0,  0],\n",
       "        [27, 20, 16, 17,  2, 12, 20, 16,  8, 20, 12,  3,  7, 16,  4, 17, 16,  7,\n",
       "         20, 27,  2, 16,  7, 22, 13,  2,  0,  0,  0,  0,  0,  0,  0,  0,  0,  0,\n",
       "          0,  0,  0,  0,  0,  0,  0,  0,  0,  0,  0,  0,  0,  0],\n",
       "        [ 1, 22, 11,  5,  0,  0,  0,  0,  0,  0,  0,  0,  0,  0,  0,  0,  0,  0,\n",
       "          0,  0,  0,  0,  0,  0,  0,  0,  0,  0,  0,  0,  0,  0,  0,  0,  0,  0,\n",
       "          0,  0,  0,  0,  0,  0,  0,  0,  0,  0,  0,  0,  0,  0],\n",
       "        [17,  2,  7, 16, 10, 12, 10,  0,  0,  0,  0,  0,  0,  0,  0,  0,  0,  0,\n",
       "          0,  0,  0,  0,  0,  0,  0,  0,  0,  0,  0,  0,  0,  0,  0,  0,  0,  0,\n",
       "          0,  0,  0,  0,  0,  0,  0,  0,  0,  0,  0,  0,  0,  0],\n",
       "        [27, 27, 20, 16,  6, 27, 27,  9, 16,  4, 12,  5,  5, 22,  2, 16,  8, 20,\n",
       "         12,  3, 16, 22,  7, 16,  3, 20, 12,  3, 16, 10, 27,  0, 10,  2, 24,  0,\n",
       "         12, 20,  0,  2, 10,  1, 27, 11, 16, 10, 27, 10,  2, 24]])"
      ]
     },
     "execution_count": 72,
     "metadata": {},
     "output_type": "execute_result"
    }
   ],
   "source": [
    "X[0:10]"
   ]
  },
  {
   "cell_type": "code",
   "execution_count": 78,
   "metadata": {
    "ExecuteTime": {
     "end_time": "2020-03-12T15:14:15.694973Z",
     "start_time": "2020-03-12T15:14:15.644024Z"
    },
    "colab": {
     "base_uri": "https://localhost:8080/",
     "height": 917
    },
    "colab_type": "code",
    "id": "aLfPHZizR_Xg",
    "outputId": "48f71719-8cc9-433a-f292-e99a09b5f6fb"
   },
   "outputs": [
    {
     "data": {
      "text/plain": [
       "tensor([[[ 0.1135, -2.0520, -0.6744,  ..., -1.1082, -0.6738,  0.3353],\n",
       "         [-0.3136,  2.8690,  1.4715,  ...,  0.8266, -1.3556,  0.5348],\n",
       "         [ 1.6188,  0.1199, -0.4861,  ..., -0.3791,  1.9911, -1.0539],\n",
       "         ...,\n",
       "         [-0.8125, -0.9285,  2.1825,  ...,  0.9743,  0.8143,  1.0269],\n",
       "         [-0.8125, -0.9285,  2.1825,  ...,  0.9743,  0.8143,  1.0269],\n",
       "         [-0.8125, -0.9285,  2.1825,  ...,  0.9743,  0.8143,  1.0269]],\n",
       "\n",
       "        [[-0.4081, -0.3122,  0.6786,  ..., -1.9413, -1.3147,  0.1558],\n",
       "         [ 1.3474, -0.7706, -1.4374,  ...,  1.1907, -0.6472,  0.3419],\n",
       "         [ 1.3474, -0.7706, -1.4374,  ...,  1.1907, -0.6472,  0.3419],\n",
       "         ...,\n",
       "         [-0.8125, -0.9285,  2.1825,  ...,  0.9743,  0.8143,  1.0269],\n",
       "         [-0.8125, -0.9285,  2.1825,  ...,  0.9743,  0.8143,  1.0269],\n",
       "         [-0.8125, -0.9285,  2.1825,  ...,  0.9743,  0.8143,  1.0269]],\n",
       "\n",
       "        [[ 2.0098,  0.9833, -2.3721,  ..., -1.8541,  0.9063, -0.3808],\n",
       "         [ 1.3474, -0.7706, -1.4374,  ...,  1.1907, -0.6472,  0.3419],\n",
       "         [ 1.3474, -0.7706, -1.4374,  ...,  1.1907, -0.6472,  0.3419],\n",
       "         ...,\n",
       "         [-0.8125, -0.9285,  2.1825,  ...,  0.9743,  0.8143,  1.0269],\n",
       "         [-0.8125, -0.9285,  2.1825,  ...,  0.9743,  0.8143,  1.0269],\n",
       "         [-0.8125, -0.9285,  2.1825,  ...,  0.9743,  0.8143,  1.0269]],\n",
       "\n",
       "        ...,\n",
       "\n",
       "        [[-0.1449, -0.8644,  0.7619,  ..., -0.8430,  0.6947,  1.5917],\n",
       "         [ 1.6798,  1.0401, -0.6479,  ..., -0.0600,  0.0509,  0.5822],\n",
       "         [ 1.4268, -0.5296,  0.2834,  ..., -0.3398, -2.1712, -0.4332],\n",
       "         ...,\n",
       "         [-0.8125, -0.9285,  2.1825,  ...,  0.9743,  0.8143,  1.0269],\n",
       "         [-0.8125, -0.9285,  2.1825,  ...,  0.9743,  0.8143,  1.0269],\n",
       "         [-0.8125, -0.9285,  2.1825,  ...,  0.9743,  0.8143,  1.0269]],\n",
       "\n",
       "        [[-0.7248, -0.3634,  0.1824,  ..., -0.4148,  0.4041,  0.4827],\n",
       "         [ 1.3474, -0.7706, -1.4374,  ...,  1.1907, -0.6472,  0.3419],\n",
       "         [-0.1593,  0.7610, -1.0969,  ...,  0.7136,  1.2029, -1.2051],\n",
       "         ...,\n",
       "         [-0.8125, -0.9285,  2.1825,  ...,  0.9743,  0.8143,  1.0269],\n",
       "         [-0.8125, -0.9285,  2.1825,  ...,  0.9743,  0.8143,  1.0269],\n",
       "         [-0.8125, -0.9285,  2.1825,  ...,  0.9743,  0.8143,  1.0269]],\n",
       "\n",
       "        [[-0.5114,  0.6212,  1.1936,  ..., -1.6626,  0.0176,  0.3979],\n",
       "         [-0.5114,  0.6212,  1.1936,  ..., -1.6626,  0.0176,  0.3979],\n",
       "         [ 0.2163,  1.4245,  1.2759,  ..., -0.6609, -0.4742, -1.0543],\n",
       "         ...,\n",
       "         [-1.1583, -1.2419, -0.6727,  ...,  0.2897,  0.7059,  1.2733],\n",
       "         [ 1.3474, -0.7706, -1.4374,  ...,  1.1907, -0.6472,  0.3419],\n",
       "         [ 0.7767, -0.2339, -0.3615,  ..., -0.8801, -1.6235,  0.4581]]],\n",
       "       grad_fn=<EmbeddingBackward>)"
      ]
     },
     "execution_count": 78,
     "metadata": {},
     "output_type": "execute_result"
    }
   ],
   "source": [
    "embeddings = torch.nn.Embedding(len(INDEX_TO_CHAR), 28 )\n",
    "t = embeddings(X[0:10])\n",
    "t"
   ]
  },
  {
   "cell_type": "code",
   "execution_count": 80,
   "metadata": {
    "ExecuteTime": {
     "end_time": "2020-03-12T15:14:48.405046Z",
     "start_time": "2020-03-12T15:14:48.400041Z"
    },
    "colab": {
     "base_uri": "https://localhost:8080/",
     "height": 55
    },
    "colab_type": "code",
    "id": "_70asaj2R_Xk",
    "outputId": "6616d7e2-2716-497f-d5f9-27f1067890a4"
   },
   "outputs": [
    {
     "data": {
      "text/plain": [
       "(torch.Size([10, 50, 28]), torch.Size([10, 50]))"
      ]
     },
     "execution_count": 80,
     "metadata": {},
     "output_type": "execute_result"
    }
   ],
   "source": [
    "t.shape, X[0:10].shape"
   ]
  },
  {
   "cell_type": "code",
   "execution_count": 81,
   "metadata": {
    "ExecuteTime": {
     "end_time": "2020-03-12T15:18:23.190978Z",
     "start_time": "2020-03-12T15:18:23.180493Z"
    },
    "colab": {
     "base_uri": "https://localhost:8080/",
     "height": 55
    },
    "colab_type": "code",
    "id": "HmMGx9sHR_Xn",
    "outputId": "d6f07646-8b0f-4a63-c0fb-936f656cc82b"
   },
   "outputs": [
    {
     "data": {
      "text/plain": [
       "(torch.Size([10, 50, 128]), torch.Size([1, 10, 128]))"
      ]
     },
     "execution_count": 81,
     "metadata": {},
     "output_type": "execute_result"
    }
   ],
   "source": [
    "rnn = torch.nn.RNN(28, 128, batch_first=True)\n",
    "o, s = rnn(t)\n",
    "o.shape, s.shape"
   ]
  },
  {
   "cell_type": "code",
   "execution_count": 28,
   "metadata": {
    "ExecuteTime": {
     "end_time": "2020-03-12T15:18:35.190131Z",
     "start_time": "2020-03-12T15:18:35.180708Z"
    },
    "colab": {
     "base_uri": "https://localhost:8080/",
     "height": 55
    },
    "colab_type": "code",
    "id": "sTlcYBH-R_Xp",
    "outputId": "39899c29-d87b-429c-bf8f-31e23a2752e4"
   },
   "outputs": [
    {
     "data": {
      "text/plain": [
       "(torch.Size([10, 50, 128]), torch.Size([1, 10, 128]))"
      ]
     },
     "execution_count": 28,
     "metadata": {},
     "output_type": "execute_result"
    }
   ],
   "source": [
    "o, s2 = rnn(t, s)\n",
    "o.shape, s2.shape"
   ]
  },
  {
   "cell_type": "markdown",
   "metadata": {
    "colab_type": "text",
    "id": "snxGx-RCR_Xu"
   },
   "source": [
    "## Практика. Реализуйте код модели нейронной сети\n",
    "3 слоя - embeding (28), скрытая ячейка (128), полносвязанный из состояния rnn в букву (28)"
   ]
  },
  {
   "cell_type": "code",
   "execution_count": 48,
   "metadata": {
    "colab": {
     "base_uri": "https://localhost:8080/",
     "height": 55
    },
    "colab_type": "code",
    "id": "bI0wvuk7VIPd",
    "outputId": "1f986b61-d229-4c7d-c7b3-b1f8ffaa18de"
   },
   "outputs": [
    {
     "data": {
      "text/plain": [
       "torch.Size([10, 50])"
      ]
     },
     "execution_count": 48,
     "metadata": {},
     "output_type": "execute_result"
    }
   ],
   "source": [
    "sents = X[0:10]\n",
    "sents.shape"
   ]
  },
  {
   "cell_type": "code",
   "execution_count": 49,
   "metadata": {
    "colab": {
     "base_uri": "https://localhost:8080/",
     "height": 55
    },
    "colab_type": "code",
    "id": "hEgLMTWqVRw4",
    "outputId": "9eb88ed1-6a0d-4050-c293-40f90765fa8a"
   },
   "outputs": [
    {
     "data": {
      "text/plain": [
       "torch.Size([10, 50, 28])"
      ]
     },
     "execution_count": 49,
     "metadata": {},
     "output_type": "execute_result"
    }
   ],
   "source": [
    "embds = embeddings(sents)\n",
    "embds.shape"
   ]
  },
  {
   "cell_type": "code",
   "execution_count": 50,
   "metadata": {
    "colab": {
     "base_uri": "https://localhost:8080/",
     "height": 55
    },
    "colab_type": "code",
    "id": "CRHuyd-GVWWD",
    "outputId": "4282d2e9-17a9-4e0f-8319-12c7f33da3bf"
   },
   "outputs": [
    {
     "data": {
      "text/plain": [
       "torch.Size([10, 50, 128])"
      ]
     },
     "execution_count": 50,
     "metadata": {},
     "output_type": "execute_result"
    }
   ],
   "source": [
    "o, s = rnn(embds)\n",
    "o.shape"
   ]
  },
  {
   "cell_type": "code",
   "execution_count": 51,
   "metadata": {
    "colab": {},
    "colab_type": "code",
    "id": "hAe_HGSLVgaA"
   },
   "outputs": [],
   "source": [
    "lin = torch.nn.Linear(128, 28)"
   ]
  },
  {
   "cell_type": "code",
   "execution_count": 52,
   "metadata": {
    "colab": {
     "base_uri": "https://localhost:8080/",
     "height": 55
    },
    "colab_type": "code",
    "id": "nIWaoNqFVlqR",
    "outputId": "3376ad53-b0af-4a51-a73f-4b3753bc6f71"
   },
   "outputs": [
    {
     "data": {
      "text/plain": [
       "torch.Size([500, 28])"
      ]
     },
     "execution_count": 52,
     "metadata": {},
     "output_type": "execute_result"
    }
   ],
   "source": [
    "lin(o.reshape(-1, 128)).shape"
   ]
  },
  {
   "cell_type": "code",
   "execution_count": 54,
   "metadata": {
    "ExecuteTime": {
     "end_time": "2020-03-12T15:26:45.716418Z",
     "start_time": "2020-03-12T15:26:45.710937Z"
    },
    "colab": {},
    "colab_type": "code",
    "id": "xYosGirNR_Xv"
   },
   "outputs": [],
   "source": [
    "class Network(torch.nn.Module):\n",
    "    def __init__(self):\n",
    "        super(Network, self).__init__()\n",
    "        self.embeddings = torch.nn.Embedding(len(INDEX_TO_CHAR), 28)\n",
    "        self.rnn = torch.nn.RNN(28, 128, batch_first=True)\n",
    "        self.linear = torch.nn.Linear(128, 28)\n",
    "        \n",
    "    def forward(self, sentences, state=None):\n",
    "        embds = self.embeddings(sentences)\n",
    "        out, new_state = self.rnn(embds, state)\n",
    "        result = self.linear(out)\n",
    "        return result, new_state"
   ]
  },
  {
   "cell_type": "code",
   "execution_count": 55,
   "metadata": {
    "ExecuteTime": {
     "end_time": "2020-03-12T15:20:53.260599Z",
     "start_time": "2020-03-12T15:20:53.256979Z"
    },
    "colab": {},
    "colab_type": "code",
    "id": "Y5uOv8NpR_Xy"
   },
   "outputs": [],
   "source": [
    "model = Network()"
   ]
  },
  {
   "cell_type": "code",
   "execution_count": 56,
   "metadata": {
    "ExecuteTime": {
     "end_time": "2020-03-12T15:21:01.929404Z",
     "start_time": "2020-03-12T15:21:01.925999Z"
    },
    "colab": {},
    "colab_type": "code",
    "id": "AwgbtTpsR_X0"
   },
   "outputs": [],
   "source": [
    "criterion = torch.nn.CrossEntropyLoss()\n",
    "optimizer = torch.optim.SGD(model.parameters(), lr=.05)"
   ]
  },
  {
   "cell_type": "code",
   "execution_count": 57,
   "metadata": {
    "ExecuteTime": {
     "end_time": "2020-03-12T15:22:04.410583Z",
     "start_time": "2020-03-12T15:21:34.734119Z"
    },
    "colab": {
     "base_uri": "https://localhost:8080/",
     "height": 213
    },
    "colab_type": "code",
    "id": "hIl8tzzsR_X2",
    "outputId": "48faca1a-ceba-4246-caa7-41de87bee94f",
    "scrolled": true
   },
   "outputs": [
    {
     "name": "stdout",
     "output_type": "stream",
     "text": [
      "Epoch 0. Time: 5.071, Train loss: 2.087\n",
      "Epoch 1. Time: 6.153, Train loss: 1.810\n",
      "Epoch 2. Time: 6.693, Train loss: 1.733\n",
      "Epoch 3. Time: 6.816, Train loss: 1.690\n",
      "Epoch 4. Time: 6.603, Train loss: 1.659\n",
      "Epoch 5. Time: 6.621, Train loss: 1.635\n",
      "Epoch 6. Time: 6.689, Train loss: 1.615\n",
      "Epoch 7. Time: 6.720, Train loss: 1.597\n",
      "Epoch 8. Time: 6.656, Train loss: 1.582\n",
      "Epoch 9. Time: 6.651, Train loss: 1.568\n"
     ]
    }
   ],
   "source": [
    "for ep in range(10):\n",
    "    start = time.time()\n",
    "    train_loss = 0.\n",
    "    train_passed = 0\n",
    "\n",
    "    for i in range(int(len(X) / 100)):\n",
    "        batch = X[i * 100:(i + 1) * 100]\n",
    "        X_batch = batch[:, :-1]\n",
    "        Y_batch = batch[:, 1:].flatten()\n",
    "\n",
    "        optimizer.zero_grad()\n",
    "        answers, _ = model.forward(X_batch)\n",
    "        answers = answers.view(-1, len(INDEX_TO_CHAR))\n",
    "        loss = criterion(answers, Y_batch)\n",
    "        train_loss += loss.item()\n",
    "\n",
    "        loss.backward()\n",
    "        optimizer.step()\n",
    "        train_passed += 1\n",
    "\n",
    "    print(\"Epoch {}. Time: {:.3f}, Train loss: {:.3f}\".format(ep, time.time() - start, train_loss / train_passed))"
   ]
  },
  {
   "cell_type": "markdown",
   "metadata": {
    "ExecuteTime": {
     "end_time": "2020-03-12T15:28:40.363097Z",
     "start_time": "2020-03-12T15:28:40.357998Z"
    },
    "colab_type": "text",
    "id": "Hn4-uF9WR_X4"
   },
   "source": [
    "## Практика. Реализуйте код генерации следующей буквы на основе модели\n",
    "Логика такая:\n",
    "    - Сначала кормим в нее буквы из sentence (прогревая состояние)\n",
    "    - Затем пока не получим none (0) берем самую вероятную букву и добавляем ее в sentence\n",
    "    - Повторяем"
   ]
  },
  {
   "cell_type": "code",
   "execution_count": 82,
   "metadata": {
    "ExecuteTime": {
     "end_time": "2020-03-12T15:28:59.592247Z",
     "start_time": "2020-03-12T15:28:59.589338Z"
    },
    "colab": {},
    "colab_type": "code",
    "id": "_F0j2b0RR_X5"
   },
   "outputs": [],
   "source": [
    "def generate_sentence():\n",
    "    sentence = ['h', 'e', 'l', 'l', 'o']\n",
    "    #sentence = ['m', 'y', 'n', 'a', 'm', 'e', 'i', 's']\n",
    "    state = None\n",
    "    for i in range(MAX_LEN):\n",
    "        X = torch.Tensor([[CHAR_TO_INDEX[sentence[i]]]]).type(torch.long)\n",
    "        result, state = model.forward(X, state)\n",
    "        prediction = result[0, -1, :]\n",
    "        index = prediction.argmax()\n",
    "        if i >= 4:\n",
    "            if index == 0:\n",
    "                break\n",
    "            sentence.append(INDEX_TO_CHAR[index])\n",
    "    print(''.join(sentence))"
   ]
  },
  {
   "cell_type": "code",
   "execution_count": 83,
   "metadata": {
    "ExecuteTime": {
     "end_time": "2020-03-12T15:22:28.324297Z",
     "start_time": "2020-03-12T15:22:28.291209Z"
    },
    "colab": {
     "base_uri": "https://localhost:8080/",
     "height": 55
    },
    "colab_type": "code",
    "id": "bvFd_oeIR_X7",
    "outputId": "81f6902c-b860-4d21-b2b9-0a719fcaadca"
   },
   "outputs": [
    {
     "name": "stdout",
     "output_type": "stream",
     "text": [
      "hello the so the the the the the the the the the th\n"
     ]
    }
   ],
   "source": [
    "generate_sentence()"
   ]
  },
  {
   "cell_type": "code",
   "execution_count": 84,
   "metadata": {
    "ExecuteTime": {
     "end_time": "2020-03-12T15:23:13.963511Z",
     "start_time": "2020-03-12T15:22:45.311457Z"
    },
    "colab": {
     "base_uri": "https://localhost:8080/",
     "height": 389
    },
    "colab_type": "code",
    "id": "3gSbYfQ8R_X_",
    "outputId": "1e998c1a-6274-40eb-f97a-1a0b580f823d"
   },
   "outputs": [
    {
     "name": "stdout",
     "output_type": "stream",
     "text": [
      "Epoch 0. Time: 4.932, Train loss: 1.409\n",
      "hello the so the the the the the the the the the th\n",
      "Epoch 1. Time: 4.987, Train loss: 1.404\n",
      "hello the the the the the the the the the the the t\n",
      "Epoch 2. Time: 4.905, Train loss: 1.400\n",
      "hello the the the the the the the the the the the t\n"
     ]
    },
    {
     "ename": "KeyboardInterrupt",
     "evalue": "",
     "output_type": "error",
     "traceback": [
      "\u001b[1;31m---------------------------------------------------------------------------\u001b[0m",
      "\u001b[1;31mKeyboardInterrupt\u001b[0m                         Traceback (most recent call last)",
      "\u001b[1;32m<ipython-input-84-58eda3771754>\u001b[0m in \u001b[0;36m<module>\u001b[1;34m\u001b[0m\n\u001b[0;32m     15\u001b[0m         \u001b[0mtrain_loss\u001b[0m \u001b[1;33m+=\u001b[0m \u001b[0mloss\u001b[0m\u001b[1;33m.\u001b[0m\u001b[0mitem\u001b[0m\u001b[1;33m(\u001b[0m\u001b[1;33m)\u001b[0m\u001b[1;33m\u001b[0m\u001b[1;33m\u001b[0m\u001b[0m\n\u001b[0;32m     16\u001b[0m \u001b[1;33m\u001b[0m\u001b[0m\n\u001b[1;32m---> 17\u001b[1;33m         \u001b[0mloss\u001b[0m\u001b[1;33m.\u001b[0m\u001b[0mbackward\u001b[0m\u001b[1;33m(\u001b[0m\u001b[1;33m)\u001b[0m\u001b[1;33m\u001b[0m\u001b[1;33m\u001b[0m\u001b[0m\n\u001b[0m\u001b[0;32m     18\u001b[0m         \u001b[0moptimizer\u001b[0m\u001b[1;33m.\u001b[0m\u001b[0mstep\u001b[0m\u001b[1;33m(\u001b[0m\u001b[1;33m)\u001b[0m\u001b[1;33m\u001b[0m\u001b[1;33m\u001b[0m\u001b[0m\n\u001b[0;32m     19\u001b[0m         \u001b[0mtrain_passed\u001b[0m \u001b[1;33m+=\u001b[0m \u001b[1;36m1\u001b[0m\u001b[1;33m\u001b[0m\u001b[1;33m\u001b[0m\u001b[0m\n",
      "\u001b[1;32m~\\Anaconda3\\lib\\site-packages\\torch\\tensor.py\u001b[0m in \u001b[0;36mbackward\u001b[1;34m(self, gradient, retain_graph, create_graph)\u001b[0m\n\u001b[0;32m    193\u001b[0m                 \u001b[0mproducts\u001b[0m\u001b[1;33m.\u001b[0m \u001b[0mDefaults\u001b[0m \u001b[0mto\u001b[0m\u001b[0;31m \u001b[0m\u001b[0;31m`\u001b[0m\u001b[0;31m`\u001b[0m\u001b[1;32mFalse\u001b[0m\u001b[0;31m`\u001b[0m\u001b[0;31m`\u001b[0m\u001b[1;33m.\u001b[0m\u001b[1;33m\u001b[0m\u001b[1;33m\u001b[0m\u001b[0m\n\u001b[0;32m    194\u001b[0m         \"\"\"\n\u001b[1;32m--> 195\u001b[1;33m         \u001b[0mtorch\u001b[0m\u001b[1;33m.\u001b[0m\u001b[0mautograd\u001b[0m\u001b[1;33m.\u001b[0m\u001b[0mbackward\u001b[0m\u001b[1;33m(\u001b[0m\u001b[0mself\u001b[0m\u001b[1;33m,\u001b[0m \u001b[0mgradient\u001b[0m\u001b[1;33m,\u001b[0m \u001b[0mretain_graph\u001b[0m\u001b[1;33m,\u001b[0m \u001b[0mcreate_graph\u001b[0m\u001b[1;33m)\u001b[0m\u001b[1;33m\u001b[0m\u001b[1;33m\u001b[0m\u001b[0m\n\u001b[0m\u001b[0;32m    196\u001b[0m \u001b[1;33m\u001b[0m\u001b[0m\n\u001b[0;32m    197\u001b[0m     \u001b[1;32mdef\u001b[0m \u001b[0mregister_hook\u001b[0m\u001b[1;33m(\u001b[0m\u001b[0mself\u001b[0m\u001b[1;33m,\u001b[0m \u001b[0mhook\u001b[0m\u001b[1;33m)\u001b[0m\u001b[1;33m:\u001b[0m\u001b[1;33m\u001b[0m\u001b[1;33m\u001b[0m\u001b[0m\n",
      "\u001b[1;32m~\\Anaconda3\\lib\\site-packages\\torch\\autograd\\__init__.py\u001b[0m in \u001b[0;36mbackward\u001b[1;34m(tensors, grad_tensors, retain_graph, create_graph, grad_variables)\u001b[0m\n\u001b[0;32m     97\u001b[0m     Variable._execution_engine.run_backward(\n\u001b[0;32m     98\u001b[0m         \u001b[0mtensors\u001b[0m\u001b[1;33m,\u001b[0m \u001b[0mgrad_tensors\u001b[0m\u001b[1;33m,\u001b[0m \u001b[0mretain_graph\u001b[0m\u001b[1;33m,\u001b[0m \u001b[0mcreate_graph\u001b[0m\u001b[1;33m,\u001b[0m\u001b[1;33m\u001b[0m\u001b[1;33m\u001b[0m\u001b[0m\n\u001b[1;32m---> 99\u001b[1;33m         allow_unreachable=True)  # allow_unreachable flag\n\u001b[0m\u001b[0;32m    100\u001b[0m \u001b[1;33m\u001b[0m\u001b[0m\n\u001b[0;32m    101\u001b[0m \u001b[1;33m\u001b[0m\u001b[0m\n",
      "\u001b[1;31mKeyboardInterrupt\u001b[0m: "
     ]
    }
   ],
   "source": [
    "for ep in range(10):\n",
    "    start = time.time()\n",
    "    train_loss = 0.\n",
    "    train_passed = 0\n",
    "\n",
    "    for i in range(int(len(X) / 100)):\n",
    "        batch = X[i * 100:(i + 1) * 100]\n",
    "        X_batch = batch[:, :-1]\n",
    "        Y_batch = batch[:, 1:].flatten()\n",
    "\n",
    "        optimizer.zero_grad()\n",
    "        answers, _ = model.forward(X_batch)\n",
    "        answers = answers.view(-1, len(INDEX_TO_CHAR))\n",
    "        loss = criterion(answers, Y_batch)\n",
    "        train_loss += loss.item()\n",
    "\n",
    "        loss.backward()\n",
    "        optimizer.step()\n",
    "        train_passed += 1\n",
    "\n",
    "    print(\"Epoch {}. Time: {:.3f}, Train loss: {:.3f}\".format(ep, time.time() - start, train_loss / train_passed))\n",
    "    generate_sentence()"
   ]
  },
  {
   "cell_type": "code",
   "execution_count": null,
   "metadata": {
    "colab": {},
    "colab_type": "code",
    "id": "hYEHnX1LR_YC"
   },
   "outputs": [],
   "source": []
  }
 ],
 "metadata": {
  "colab": {
   "name": "Лекция 6_решение.ipynb",
   "provenance": []
  },
  "kernelspec": {
   "display_name": "Python 3",
   "language": "python",
   "name": "python3"
  },
  "language_info": {
   "codemirror_mode": {
    "name": "ipython",
    "version": 3
   },
   "file_extension": ".py",
   "mimetype": "text/x-python",
   "name": "python",
   "nbconvert_exporter": "python",
   "pygments_lexer": "ipython3",
   "version": "3.7.3"
  }
 },
 "nbformat": 4,
 "nbformat_minor": 2
}
