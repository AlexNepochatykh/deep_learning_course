{
 "cells": [
  {
   "cell_type": "code",
   "execution_count": 1,
   "metadata": {
    "ExecuteTime": {
     "end_time": "2019-11-14T21:34:19.658915Z",
     "start_time": "2019-11-14T21:34:19.656278Z"
    },
    "colab": {},
    "colab_type": "code",
    "id": "HjmIRXdQwwUo"
   },
   "outputs": [],
   "source": [
    "import torch\n",
    "from torch import nn"
   ]
  },
  {
   "cell_type": "markdown",
   "metadata": {
    "colab_type": "text",
    "id": "XwJt51p3wwUt"
   },
   "source": [
    "## Самостоятельная реализация свертки"
   ]
  },
  {
   "cell_type": "code",
   "execution_count": 2,
   "metadata": {
    "ExecuteTime": {
     "end_time": "2019-11-15T16:52:41.958956Z",
     "start_time": "2019-11-15T16:52:41.922818Z"
    },
    "colab": {},
    "colab_type": "code",
    "id": "OMFdmIHZwwUu"
   },
   "outputs": [],
   "source": [
    "def corr2d(X, K):  \n",
    "    h, w = K.shape\n",
    "    Y = torch.zeros((X.shape[0] - h + 1, X.shape[1] - w + 1))\n",
    "    for i in range(Y.shape[0]):\n",
    "        for j in range(Y.shape[1]):\n",
    "            Y[i, j] = (X[i: i + h, j: j + w] * K).sum()\n",
    "    return Y"
   ]
  },
  {
   "cell_type": "code",
   "execution_count": 3,
   "metadata": {
    "ExecuteTime": {
     "end_time": "2019-11-15T17:00:04.170877Z",
     "start_time": "2019-11-15T17:00:04.163852Z"
    },
    "colab": {},
    "colab_type": "code",
    "id": "WZqpW4vxwwUy",
    "outputId": "f354a045-685d-4847-e415-6eff856a4743"
   },
   "outputs": [
    {
     "data": {
      "text/plain": [
       "tensor([[19., 25.],\n",
       "        [37., 43.]])"
      ]
     },
     "execution_count": 3,
     "metadata": {},
     "output_type": "execute_result"
    }
   ],
   "source": [
    "X = torch.Tensor([[0, 1, 2], [3, 4, 5], [6, 7, 8]])\n",
    "K = torch.Tensor([[0, 1], [2, 3]])\n",
    "corr2d(X, K)"
   ]
  },
  {
   "cell_type": "markdown",
   "metadata": {
    "colab_type": "text",
    "id": "GJ3UR_PXwwU2"
   },
   "source": [
    "## Детекция граней"
   ]
  },
  {
   "cell_type": "code",
   "execution_count": 4,
   "metadata": {
    "ExecuteTime": {
     "end_time": "2019-11-15T17:00:05.091888Z",
     "start_time": "2019-11-15T17:00:05.084480Z"
    },
    "colab": {},
    "colab_type": "code",
    "id": "uv5_Pmh0wwU3",
    "outputId": "ea688263-116c-4ff2-edd5-95c1823b406c",
    "scrolled": true
   },
   "outputs": [
    {
     "data": {
      "text/plain": [
       "tensor([[1., 1., 0., 0., 0., 0., 1., 1.],\n",
       "        [1., 1., 0., 0., 0., 0., 1., 1.],\n",
       "        [1., 1., 0., 0., 0., 0., 1., 1.],\n",
       "        [1., 1., 0., 0., 0., 0., 1., 1.],\n",
       "        [1., 1., 0., 0., 0., 0., 1., 1.],\n",
       "        [1., 1., 0., 0., 0., 0., 1., 1.]])"
      ]
     },
     "execution_count": 4,
     "metadata": {},
     "output_type": "execute_result"
    }
   ],
   "source": [
    "X = torch.ones((6, 8))\n",
    "X[:, 2:6] = 0\n",
    "X"
   ]
  },
  {
   "cell_type": "code",
   "execution_count": 5,
   "metadata": {
    "ExecuteTime": {
     "end_time": "2019-11-15T17:00:05.278559Z",
     "start_time": "2019-11-15T17:00:05.266978Z"
    },
    "colab": {},
    "colab_type": "code",
    "id": "1WzBhrGiwwU6",
    "outputId": "922a5001-4b2d-4872-921c-4bc5ea0936b9",
    "scrolled": true
   },
   "outputs": [
    {
     "name": "stdout",
     "output_type": "stream",
     "text": [
      "tensor([[1., 1., 0., 0., 0., 0., 1., 1.],\n",
      "        [1., 1., 0., 0., 0., 0., 1., 1.],\n",
      "        [1., 1., 0., 0., 0., 0., 1., 1.],\n",
      "        [1., 1., 0., 0., 0., 0., 1., 1.],\n",
      "        [1., 1., 0., 0., 0., 0., 1., 1.],\n",
      "        [1., 1., 0., 0., 0., 0., 1., 1.]])\n",
      "tensor([[ 0.,  1.,  0.,  0.,  0., -1.,  0.],\n",
      "        [ 0.,  1.,  0.,  0.,  0., -1.,  0.],\n",
      "        [ 0.,  1.,  0.,  0.,  0., -1.,  0.],\n",
      "        [ 0.,  1.,  0.,  0.,  0., -1.,  0.],\n",
      "        [ 0.,  1.,  0.,  0.,  0., -1.,  0.],\n",
      "        [ 0.,  1.,  0.,  0.,  0., -1.,  0.]])\n"
     ]
    }
   ],
   "source": [
    "## вертикальные грани есть\n",
    "K = torch.Tensor([[1, -1]])\n",
    "Y = corr2d(X, K)\n",
    "print(X)\n",
    "print(Y)"
   ]
  },
  {
   "cell_type": "code",
   "execution_count": 6,
   "metadata": {
    "ExecuteTime": {
     "end_time": "2019-11-15T17:00:05.449599Z",
     "start_time": "2019-11-15T17:00:05.442193Z"
    },
    "colab": {},
    "colab_type": "code",
    "id": "bS90HMpOwwU9",
    "outputId": "2eee47ba-b56a-461b-fa6f-f5d860e93f1a"
   },
   "outputs": [
    {
     "name": "stdout",
     "output_type": "stream",
     "text": [
      "tensor([[1., 1., 1., 1., 1., 1.],\n",
      "        [1., 1., 1., 1., 1., 1.],\n",
      "        [0., 0., 0., 0., 0., 0.],\n",
      "        [0., 0., 0., 0., 0., 0.],\n",
      "        [0., 0., 0., 0., 0., 0.],\n",
      "        [0., 0., 0., 0., 0., 0.],\n",
      "        [1., 1., 1., 1., 1., 1.],\n",
      "        [1., 1., 1., 1., 1., 1.]])\n",
      "tensor([[0., 0., 0., 0., 0.],\n",
      "        [0., 0., 0., 0., 0.],\n",
      "        [0., 0., 0., 0., 0.],\n",
      "        [0., 0., 0., 0., 0.],\n",
      "        [0., 0., 0., 0., 0.],\n",
      "        [0., 0., 0., 0., 0.],\n",
      "        [0., 0., 0., 0., 0.],\n",
      "        [0., 0., 0., 0., 0.]])\n"
     ]
    }
   ],
   "source": [
    "## вертикальных граней нет\n",
    "Z = corr2d(X.T, K)\n",
    "print(X.T)\n",
    "print(Z)"
   ]
  },
  {
   "cell_type": "markdown",
   "metadata": {
    "colab_type": "text",
    "id": "y1oiNJ3KwwU_"
   },
   "source": [
    "## Сверточный слой"
   ]
  },
  {
   "cell_type": "code",
   "execution_count": 7,
   "metadata": {
    "ExecuteTime": {
     "end_time": "2019-11-15T17:00:06.441986Z",
     "start_time": "2019-11-15T17:00:06.438282Z"
    },
    "colab": {},
    "colab_type": "code",
    "id": "jyMOumrZwwVA"
   },
   "outputs": [],
   "source": [
    "X = X.reshape(1, 1, 6, 8)\n",
    "Y = Y.reshape(1, 1, 6, 7)"
   ]
  },
  {
   "cell_type": "code",
   "execution_count": 8,
   "metadata": {
    "ExecuteTime": {
     "end_time": "2019-11-15T17:00:07.489638Z",
     "start_time": "2019-11-15T17:00:07.485059Z"
    },
    "colab": {},
    "colab_type": "code",
    "id": "xbT2M_S1wwVC"
   },
   "outputs": [],
   "source": [
    "conv2d = torch.nn.Conv2d(1, 1, (1,2))"
   ]
  },
  {
   "cell_type": "code",
   "execution_count": 9,
   "metadata": {
    "ExecuteTime": {
     "end_time": "2019-11-15T17:00:08.479735Z",
     "start_time": "2019-11-15T17:00:08.475201Z"
    },
    "colab": {},
    "colab_type": "code",
    "id": "hHdwEZoOwwVE"
   },
   "outputs": [],
   "source": [
    "trainer = torch.optim.SGD(conv2d.parameters(), lr=0.001)"
   ]
  },
  {
   "cell_type": "code",
   "execution_count": 10,
   "metadata": {
    "ExecuteTime": {
     "end_time": "2019-11-15T17:00:09.021293Z",
     "start_time": "2019-11-15T17:00:09.017523Z"
    }
   },
   "outputs": [],
   "source": [
    "criterion = nn.MSELoss(reduction='sum')"
   ]
  },
  {
   "cell_type": "code",
   "execution_count": 11,
   "metadata": {
    "ExecuteTime": {
     "end_time": "2019-11-15T17:00:12.781889Z",
     "start_time": "2019-11-15T17:00:12.318701Z"
    },
    "colab": {},
    "colab_type": "code",
    "id": "uzxBTiNvwwVG",
    "outputId": "a4cdb5a9-e944-43a7-c825-e3e185d0bbb0"
   },
   "outputs": [
    {
     "name": "stdout",
     "output_type": "stream",
     "text": [
      "batch 2, loss 32.799\n",
      "batch 4, loss 30.140\n",
      "batch 6, loss 28.049\n",
      "batch 8, loss 26.318\n",
      "batch 10, loss 24.824\n",
      "batch 12, loss 23.492\n",
      "batch 14, loss 22.278\n",
      "batch 16, loss 21.155\n",
      "batch 18, loss 20.105\n",
      "batch 20, loss 19.117\n",
      "batch 22, loss 18.184\n",
      "batch 24, loss 17.300\n",
      "batch 26, loss 16.462\n",
      "batch 28, loss 15.666\n",
      "batch 30, loss 14.910\n",
      "batch 32, loss 14.191\n",
      "batch 34, loss 13.508\n",
      "batch 36, loss 12.857\n",
      "batch 38, loss 12.239\n",
      "batch 40, loss 11.651\n",
      "batch 42, loss 11.091\n",
      "batch 44, loss 10.559\n",
      "batch 46, loss 10.052\n",
      "batch 48, loss 9.570\n",
      "batch 50, loss 9.111\n",
      "batch 52, loss 8.675\n",
      "batch 54, loss 8.260\n",
      "batch 56, loss 7.864\n",
      "batch 58, loss 7.488\n",
      "batch 60, loss 7.130\n",
      "batch 62, loss 6.789\n",
      "batch 64, loss 6.465\n",
      "batch 66, loss 6.156\n",
      "batch 68, loss 5.862\n",
      "batch 70, loss 5.583\n",
      "batch 72, loss 5.316\n",
      "batch 74, loss 5.063\n",
      "batch 76, loss 4.821\n",
      "batch 78, loss 4.592\n",
      "batch 80, loss 4.373\n",
      "batch 82, loss 4.165\n",
      "batch 84, loss 3.966\n",
      "batch 86, loss 3.778\n",
      "batch 88, loss 3.598\n",
      "batch 90, loss 3.427\n",
      "batch 92, loss 3.264\n",
      "batch 94, loss 3.109\n",
      "batch 96, loss 2.961\n",
      "batch 98, loss 2.820\n",
      "batch 100, loss 2.686\n",
      "batch 102, loss 2.559\n",
      "batch 104, loss 2.437\n",
      "batch 106, loss 2.321\n",
      "batch 108, loss 2.211\n",
      "batch 110, loss 2.106\n",
      "batch 112, loss 2.006\n",
      "batch 114, loss 1.911\n",
      "batch 116, loss 1.820\n",
      "batch 118, loss 1.734\n",
      "batch 120, loss 1.652\n",
      "batch 122, loss 1.574\n",
      "batch 124, loss 1.499\n",
      "batch 126, loss 1.428\n",
      "batch 128, loss 1.360\n",
      "batch 130, loss 1.296\n",
      "batch 132, loss 1.235\n",
      "batch 134, loss 1.176\n",
      "batch 136, loss 1.120\n",
      "batch 138, loss 1.067\n",
      "batch 140, loss 1.017\n",
      "batch 142, loss 0.969\n",
      "batch 144, loss 0.923\n",
      "batch 146, loss 0.879\n",
      "batch 148, loss 0.838\n",
      "batch 150, loss 0.798\n",
      "batch 152, loss 0.760\n",
      "batch 154, loss 0.724\n",
      "batch 156, loss 0.690\n",
      "batch 158, loss 0.657\n",
      "batch 160, loss 0.626\n",
      "batch 162, loss 0.597\n",
      "batch 164, loss 0.568\n",
      "batch 166, loss 0.542\n",
      "batch 168, loss 0.516\n",
      "batch 170, loss 0.492\n",
      "batch 172, loss 0.468\n",
      "batch 174, loss 0.446\n",
      "batch 176, loss 0.425\n",
      "batch 178, loss 0.405\n",
      "batch 180, loss 0.386\n",
      "batch 182, loss 0.368\n",
      "batch 184, loss 0.350\n",
      "batch 186, loss 0.334\n",
      "batch 188, loss 0.318\n",
      "batch 190, loss 0.303\n",
      "batch 192, loss 0.289\n",
      "batch 194, loss 0.275\n",
      "batch 196, loss 0.262\n",
      "batch 198, loss 0.250\n",
      "batch 200, loss 0.238\n",
      "batch 202, loss 0.227\n",
      "batch 204, loss 0.216\n",
      "batch 206, loss 0.206\n",
      "batch 208, loss 0.196\n",
      "batch 210, loss 0.187\n",
      "batch 212, loss 0.178\n",
      "batch 214, loss 0.170\n",
      "batch 216, loss 0.162\n",
      "batch 218, loss 0.154\n",
      "batch 220, loss 0.147\n",
      "batch 222, loss 0.140\n",
      "batch 224, loss 0.133\n",
      "batch 226, loss 0.127\n",
      "batch 228, loss 0.121\n",
      "batch 230, loss 0.115\n",
      "batch 232, loss 0.110\n",
      "batch 234, loss 0.105\n",
      "batch 236, loss 0.100\n",
      "batch 238, loss 0.095\n",
      "batch 240, loss 0.090\n",
      "batch 242, loss 0.086\n",
      "batch 244, loss 0.082\n",
      "batch 246, loss 0.078\n",
      "batch 248, loss 0.075\n",
      "batch 250, loss 0.071\n",
      "batch 252, loss 0.068\n",
      "batch 254, loss 0.064\n",
      "batch 256, loss 0.061\n",
      "batch 258, loss 0.059\n",
      "batch 260, loss 0.056\n",
      "batch 262, loss 0.053\n",
      "batch 264, loss 0.051\n",
      "batch 266, loss 0.048\n",
      "batch 268, loss 0.046\n",
      "batch 270, loss 0.044\n",
      "batch 272, loss 0.042\n",
      "batch 274, loss 0.040\n",
      "batch 276, loss 0.038\n",
      "batch 278, loss 0.036\n",
      "batch 280, loss 0.034\n",
      "batch 282, loss 0.033\n",
      "batch 284, loss 0.031\n",
      "batch 286, loss 0.030\n",
      "batch 288, loss 0.028\n",
      "batch 290, loss 0.027\n",
      "batch 292, loss 0.026\n",
      "batch 294, loss 0.025\n",
      "batch 296, loss 0.023\n",
      "batch 298, loss 0.022\n",
      "batch 300, loss 0.021\n",
      "batch 302, loss 0.020\n",
      "batch 304, loss 0.019\n",
      "batch 306, loss 0.018\n",
      "batch 308, loss 0.017\n",
      "batch 310, loss 0.017\n",
      "batch 312, loss 0.016\n",
      "batch 314, loss 0.015\n",
      "batch 316, loss 0.014\n",
      "batch 318, loss 0.014\n",
      "batch 320, loss 0.013\n",
      "batch 322, loss 0.012\n",
      "batch 324, loss 0.012\n",
      "batch 326, loss 0.011\n",
      "batch 328, loss 0.011\n",
      "batch 330, loss 0.010\n",
      "batch 332, loss 0.010\n",
      "batch 334, loss 0.009\n",
      "batch 336, loss 0.009\n",
      "batch 338, loss 0.008\n",
      "batch 340, loss 0.008\n",
      "batch 342, loss 0.008\n",
      "batch 344, loss 0.007\n",
      "batch 346, loss 0.007\n",
      "batch 348, loss 0.007\n",
      "batch 350, loss 0.006\n",
      "batch 352, loss 0.006\n",
      "batch 354, loss 0.006\n",
      "batch 356, loss 0.005\n",
      "batch 358, loss 0.005\n",
      "batch 360, loss 0.005\n",
      "batch 362, loss 0.005\n",
      "batch 364, loss 0.005\n",
      "batch 366, loss 0.004\n",
      "batch 368, loss 0.004\n",
      "batch 370, loss 0.004\n",
      "batch 372, loss 0.004\n",
      "batch 374, loss 0.004\n",
      "batch 376, loss 0.003\n",
      "batch 378, loss 0.003\n",
      "batch 380, loss 0.003\n",
      "batch 382, loss 0.003\n",
      "batch 384, loss 0.003\n",
      "batch 386, loss 0.003\n",
      "batch 388, loss 0.003\n",
      "batch 390, loss 0.002\n",
      "batch 392, loss 0.002\n",
      "batch 394, loss 0.002\n",
      "batch 396, loss 0.002\n",
      "batch 398, loss 0.002\n",
      "batch 400, loss 0.002\n",
      "batch 402, loss 0.002\n",
      "batch 404, loss 0.002\n",
      "batch 406, loss 0.002\n",
      "batch 408, loss 0.002\n",
      "batch 410, loss 0.001\n",
      "batch 412, loss 0.001\n",
      "batch 414, loss 0.001\n",
      "batch 416, loss 0.001\n",
      "batch 418, loss 0.001\n",
      "batch 420, loss 0.001\n",
      "batch 422, loss 0.001\n",
      "batch 424, loss 0.001\n",
      "batch 426, loss 0.001\n",
      "batch 428, loss 0.001\n",
      "batch 430, loss 0.001\n",
      "batch 432, loss 0.001\n",
      "batch 434, loss 0.001\n",
      "batch 436, loss 0.001\n",
      "batch 438, loss 0.001\n",
      "batch 440, loss 0.001\n",
      "batch 442, loss 0.001\n",
      "batch 444, loss 0.001\n",
      "batch 446, loss 0.001\n",
      "batch 448, loss 0.001\n",
      "batch 450, loss 0.001\n",
      "batch 452, loss 0.001\n",
      "batch 454, loss 0.001\n",
      "batch 456, loss 0.000\n",
      "batch 458, loss 0.000\n",
      "batch 460, loss 0.000\n",
      "batch 462, loss 0.000\n",
      "batch 464, loss 0.000\n",
      "batch 466, loss 0.000\n",
      "batch 468, loss 0.000\n",
      "batch 470, loss 0.000\n",
      "batch 472, loss 0.000\n",
      "batch 474, loss 0.000\n",
      "batch 476, loss 0.000\n",
      "batch 478, loss 0.000\n",
      "batch 480, loss 0.000\n",
      "batch 482, loss 0.000\n",
      "batch 484, loss 0.000\n",
      "batch 486, loss 0.000\n",
      "batch 488, loss 0.000\n",
      "batch 490, loss 0.000\n",
      "batch 492, loss 0.000\n",
      "batch 494, loss 0.000\n",
      "batch 496, loss 0.000\n",
      "batch 498, loss 0.000\n",
      "batch 500, loss 0.000\n"
     ]
    }
   ],
   "source": [
    "for i in range(500):\n",
    "    trainer.zero_grad()\n",
    "    Y_hat = conv2d(X)\n",
    "    l = criterion(Y_hat,Y)\n",
    "    l.backward()\n",
    "    trainer.step()\n",
    "    if (i + 1) % 2 == 0:\n",
    "        print('batch %d, loss %.3f' % (i + 1, l.item()))"
   ]
  },
  {
   "cell_type": "code",
   "execution_count": 13,
   "metadata": {
    "ExecuteTime": {
     "end_time": "2019-11-15T17:00:15.776777Z",
     "start_time": "2019-11-15T17:00:15.770170Z"
    },
    "colab": {},
    "colab_type": "code",
    "id": "2Zjwy0t7wwVJ",
    "outputId": "5aeeafe3-39d4-4690-8427-d6d066b009d2"
   },
   "outputs": [
    {
     "name": "stdout",
     "output_type": "stream",
     "text": [
      "Parameter containing:\n",
      "tensor([[[[ 0.9963, -0.9963]]]], requires_grad=True)\n",
      "Parameter containing:\n",
      "tensor([5.8633e-06], requires_grad=True)\n"
     ]
    }
   ],
   "source": [
    "print(conv2d.weight)\n",
    "print(conv2d.bias)"
   ]
  },
  {
   "cell_type": "markdown",
   "metadata": {
    "ExecuteTime": {
     "end_time": "2019-11-14T20:43:29.333030Z",
     "start_time": "2019-11-14T20:43:29.330547Z"
    },
    "colab_type": "text",
    "id": "kmyuFDYqwwVL"
   },
   "source": [
    "## Padding и stride"
   ]
  },
  {
   "cell_type": "code",
   "execution_count": 14,
   "metadata": {
    "ExecuteTime": {
     "end_time": "2019-11-15T17:00:52.703655Z",
     "start_time": "2019-11-15T17:00:52.696949Z"
    },
    "colab": {},
    "colab_type": "code",
    "id": "zabESWcYwwVL",
    "outputId": "49f0c4ed-2f51-46aa-b069-c6ec5d024fbc"
   },
   "outputs": [
    {
     "data": {
      "text/plain": [
       "torch.Size([1, 1, 8, 8])"
      ]
     },
     "execution_count": 14,
     "metadata": {},
     "output_type": "execute_result"
    }
   ],
   "source": [
    "conv2d = nn.Conv2d(1, 1, kernel_size=3, padding=1)\n",
    "X = torch.randn((1, 1, 8, 8))\n",
    "conv2d(X).shape"
   ]
  },
  {
   "cell_type": "code",
   "execution_count": 15,
   "metadata": {
    "ExecuteTime": {
     "end_time": "2019-11-15T17:01:07.214149Z",
     "start_time": "2019-11-15T17:01:07.206220Z"
    },
    "colab": {},
    "colab_type": "code",
    "id": "Q2QyeAuowwVN",
    "outputId": "c18c38c7-6dac-4cd8-b4f0-16a49307ae64"
   },
   "outputs": [
    {
     "data": {
      "text/plain": [
       "torch.Size([1, 1, 4, 4])"
      ]
     },
     "execution_count": 15,
     "metadata": {},
     "output_type": "execute_result"
    }
   ],
   "source": [
    "conv2d = nn.Conv2d(1, 1, kernel_size=3, padding=1, stride=2)\n",
    "X = torch.randn((1, 1, 8, 8))\n",
    "conv2d(X).shape"
   ]
  },
  {
   "cell_type": "markdown",
   "metadata": {
    "colab_type": "text",
    "id": "AYX9WvRPwwVO"
   },
   "source": [
    "## Каналы"
   ]
  },
  {
   "cell_type": "code",
   "execution_count": 16,
   "metadata": {
    "ExecuteTime": {
     "end_time": "2019-11-15T17:01:20.186058Z",
     "start_time": "2019-11-15T17:01:20.178806Z"
    },
    "colab": {},
    "colab_type": "code",
    "id": "y1WWkiyewwVO",
    "outputId": "803454a4-b4c7-45d9-c2d7-180957078bcd"
   },
   "outputs": [
    {
     "data": {
      "text/plain": [
       "torch.Size([1, 1, 8, 8])"
      ]
     },
     "execution_count": 16,
     "metadata": {},
     "output_type": "execute_result"
    }
   ],
   "source": [
    "conv2d = nn.Conv2d(1, 1, kernel_size=3, padding=1)\n",
    "X = torch.randn((1, 1, 8, 8))\n",
    "conv2d(X).shape"
   ]
  },
  {
   "cell_type": "code",
   "execution_count": 17,
   "metadata": {
    "ExecuteTime": {
     "end_time": "2019-11-14T21:34:25.536692Z",
     "start_time": "2019-11-14T21:34:25.532336Z"
    },
    "colab": {},
    "colab_type": "code",
    "id": "0mrfPVQxwwVQ",
    "outputId": "5b2d3612-60bf-4a04-a710-b4214ffd7d86"
   },
   "outputs": [
    {
     "data": {
      "text/plain": [
       "torch.Size([1, 1, 3, 3])"
      ]
     },
     "execution_count": 17,
     "metadata": {},
     "output_type": "execute_result"
    }
   ],
   "source": [
    "conv2d.weight.shape"
   ]
  },
  {
   "cell_type": "code",
   "execution_count": 18,
   "metadata": {
    "ExecuteTime": {
     "end_time": "2019-11-15T17:01:54.208345Z",
     "start_time": "2019-11-15T17:01:54.198255Z"
    },
    "colab": {},
    "colab_type": "code",
    "id": "fXwQ8T-9wwVR",
    "outputId": "8e7b0ea5-a42d-4038-a22b-062d7d0c553a"
   },
   "outputs": [
    {
     "data": {
      "text/plain": [
       "torch.Size([1, 32, 8, 8])"
      ]
     },
     "execution_count": 18,
     "metadata": {},
     "output_type": "execute_result"
    }
   ],
   "source": [
    "conv2d = nn.Conv2d(3, 32, kernel_size=3, padding=1)\n",
    "X = torch.randn((1, 3, 8, 8))\n",
    "conv2d(X).shape"
   ]
  },
  {
   "cell_type": "code",
   "execution_count": 19,
   "metadata": {
    "ExecuteTime": {
     "end_time": "2019-11-15T17:02:05.753502Z",
     "start_time": "2019-11-15T17:02:05.748063Z"
    },
    "colab": {},
    "colab_type": "code",
    "id": "iKNd1ZbswwVS",
    "outputId": "267776d0-d16d-479b-f927-beb23fdc7b71"
   },
   "outputs": [
    {
     "data": {
      "text/plain": [
       "torch.Size([32, 3, 3, 3])"
      ]
     },
     "execution_count": 19,
     "metadata": {},
     "output_type": "execute_result"
    }
   ],
   "source": [
    "conv2d.weight.shape"
   ]
  },
  {
   "cell_type": "markdown",
   "metadata": {
    "colab_type": "text",
    "id": "NzTZ9t5nwwVU"
   },
   "source": [
    "## Pooling"
   ]
  },
  {
   "cell_type": "code",
   "execution_count": 20,
   "metadata": {
    "ExecuteTime": {
     "end_time": "2019-11-15T17:03:01.219143Z",
     "start_time": "2019-11-15T17:03:01.213316Z"
    },
    "colab": {},
    "colab_type": "code",
    "id": "1hpPwkj-wwVU"
   },
   "outputs": [],
   "source": [
    "def pool2d(X, pool_size, mode='max'):\n",
    "    p_h, p_w = pool_size\n",
    "    Y = torch.zeros((X.shape[0] - p_h + 1, X.shape[1] - p_w + 1))\n",
    "    for i in range(Y.shape[0]):\n",
    "        for j in range(Y.shape[1]):\n",
    "            if mode == 'max':\n",
    "                Y[i, j] = X[i: i + p_h, j: j + p_w].max()\n",
    "            elif mode == 'avg':\n",
    "                Y[i, j] = X[i: i + p_h, j: j + p_w].mean()\n",
    "    return Y"
   ]
  },
  {
   "cell_type": "code",
   "execution_count": 21,
   "metadata": {
    "ExecuteTime": {
     "end_time": "2019-11-15T17:03:01.721639Z",
     "start_time": "2019-11-15T17:03:01.713244Z"
    },
    "colab": {},
    "colab_type": "code",
    "id": "XyIhgiBmwwVV",
    "outputId": "1f41c223-35a2-41f9-afdb-bdbee37ab369"
   },
   "outputs": [
    {
     "name": "stdout",
     "output_type": "stream",
     "text": [
      "tensor([[0., 1., 2.],\n",
      "        [3., 4., 5.],\n",
      "        [6., 7., 8.]])\n",
      "tensor([[4., 5.],\n",
      "        [7., 8.]])\n"
     ]
    }
   ],
   "source": [
    "X = torch.Tensor([[0, 1, 2], [3, 4, 5], [6, 7, 8]])\n",
    "print(X)\n",
    "print(pool2d(X, (2, 2)))"
   ]
  },
  {
   "cell_type": "code",
   "execution_count": 22,
   "metadata": {
    "ExecuteTime": {
     "end_time": "2019-11-14T21:34:26.692198Z",
     "start_time": "2019-11-14T21:34:26.686418Z"
    },
    "colab": {},
    "colab_type": "code",
    "id": "UtcjAFhNwwVX",
    "outputId": "0d1efde8-0eb3-423b-c863-6c5892d00e7e"
   },
   "outputs": [
    {
     "data": {
      "text/plain": [
       "tensor([[2., 3.],\n",
       "        [5., 6.]])"
      ]
     },
     "execution_count": 22,
     "metadata": {},
     "output_type": "execute_result"
    }
   ],
   "source": [
    "pool2d(X, (2, 2), 'avg')"
   ]
  },
  {
   "cell_type": "code",
   "execution_count": 23,
   "metadata": {
    "ExecuteTime": {
     "end_time": "2019-11-15T17:03:17.144302Z",
     "start_time": "2019-11-15T17:03:17.136444Z"
    },
    "colab": {},
    "colab_type": "code",
    "id": "8yRj27hZwwVY",
    "outputId": "0a96d442-09bc-4e4c-b16a-615dde34602d"
   },
   "outputs": [
    {
     "data": {
      "text/plain": [
       "tensor([[[[ 0.,  1.,  2.,  3.],\n",
       "          [ 4.,  5.,  6.,  7.],\n",
       "          [ 8.,  9., 10., 11.],\n",
       "          [12., 13., 14., 15.]]]])"
      ]
     },
     "execution_count": 23,
     "metadata": {},
     "output_type": "execute_result"
    }
   ],
   "source": [
    "X = torch.arange(16).reshape((1, 1, 4, 4)).type(torch.float)\n",
    "X"
   ]
  },
  {
   "cell_type": "code",
   "execution_count": 24,
   "metadata": {
    "ExecuteTime": {
     "end_time": "2019-11-15T17:03:29.592805Z",
     "start_time": "2019-11-15T17:03:29.585126Z"
    },
    "colab": {},
    "colab_type": "code",
    "id": "MwiDUSyKwwVZ",
    "outputId": "e606ff1e-5d09-4d58-d52e-21eaace0d38d"
   },
   "outputs": [
    {
     "data": {
      "text/plain": [
       "tensor([[[[10.]]]])"
      ]
     },
     "execution_count": 24,
     "metadata": {},
     "output_type": "execute_result"
    }
   ],
   "source": [
    "pool2d = nn.MaxPool2d(3)\n",
    "pool2d(X)"
   ]
  },
  {
   "cell_type": "code",
   "execution_count": 25,
   "metadata": {
    "ExecuteTime": {
     "end_time": "2019-11-15T17:04:42.514038Z",
     "start_time": "2019-11-15T17:04:42.507046Z"
    },
    "colab": {},
    "colab_type": "code",
    "id": "qpdqv7K-wwVa",
    "outputId": "89658867-b760-49dd-95bc-8fa15b256495"
   },
   "outputs": [
    {
     "data": {
      "text/plain": [
       "tensor([[[[ 5.,  7.],\n",
       "          [13., 15.]]]])"
      ]
     },
     "execution_count": 25,
     "metadata": {},
     "output_type": "execute_result"
    }
   ],
   "source": [
    "pool2d = nn.MaxPool2d(3, padding=1, stride=2)\n",
    "pool2d(X)"
   ]
  },
  {
   "cell_type": "code",
   "execution_count": 26,
   "metadata": {
    "ExecuteTime": {
     "end_time": "2019-11-15T17:05:01.373975Z",
     "start_time": "2019-11-15T17:05:01.362367Z"
    },
    "colab": {},
    "colab_type": "code",
    "id": "Nvb8XuyPwwVb",
    "outputId": "5b05db70-837f-4001-c156-e56e3a80d85d"
   },
   "outputs": [
    {
     "data": {
      "text/plain": [
       "tensor([[[[ 1.,  3.],\n",
       "          [ 9., 11.],\n",
       "          [13., 15.]]]])"
      ]
     },
     "execution_count": 26,
     "metadata": {},
     "output_type": "execute_result"
    }
   ],
   "source": [
    "pool2d = nn.MaxPool2d((2, 3), padding=(1, 1), stride=(2, 3))\n",
    "pool2d(X)"
   ]
  },
  {
   "cell_type": "code",
   "execution_count": 27,
   "metadata": {
    "ExecuteTime": {
     "end_time": "2019-11-15T17:05:06.976515Z",
     "start_time": "2019-11-15T17:05:06.968590Z"
    },
    "colab": {},
    "colab_type": "code",
    "id": "uiyibEq8wwVc",
    "outputId": "6517c5f6-a212-4c06-8efe-5e3bd88b7752"
   },
   "outputs": [
    {
     "data": {
      "text/plain": [
       "tensor([[[[ 0.,  1.,  2.,  3.],\n",
       "          [ 4.,  5.,  6.,  7.],\n",
       "          [ 8.,  9., 10., 11.],\n",
       "          [12., 13., 14., 15.]],\n",
       "\n",
       "         [[ 1.,  2.,  3.,  4.],\n",
       "          [ 5.,  6.,  7.,  8.],\n",
       "          [ 9., 10., 11., 12.],\n",
       "          [13., 14., 15., 16.]]]])"
      ]
     },
     "execution_count": 27,
     "metadata": {},
     "output_type": "execute_result"
    }
   ],
   "source": [
    "X = torch.cat((X, X + 1), dim=1)\n",
    "X"
   ]
  },
  {
   "cell_type": "code",
   "execution_count": 28,
   "metadata": {
    "ExecuteTime": {
     "end_time": "2019-11-15T17:05:17.058650Z",
     "start_time": "2019-11-15T17:05:17.050780Z"
    },
    "colab": {},
    "colab_type": "code",
    "id": "jeY2GcgFwwVd",
    "outputId": "7ec59614-03a5-4b63-82e8-8f05c80e4887"
   },
   "outputs": [
    {
     "data": {
      "text/plain": [
       "tensor([[[[ 5.,  7.],\n",
       "          [13., 15.]],\n",
       "\n",
       "         [[ 6.,  8.],\n",
       "          [14., 16.]]]])"
      ]
     },
     "execution_count": 28,
     "metadata": {},
     "output_type": "execute_result"
    }
   ],
   "source": [
    "pool2d = nn.MaxPool2d(3, padding=1, stride=2)\n",
    "pool2d(X)"
   ]
  },
  {
   "cell_type": "markdown",
   "metadata": {
    "colab_type": "text",
    "id": "h_Ie1jQkwwVe"
   },
   "source": [
    "## Lenet"
   ]
  },
  {
   "cell_type": "code",
   "execution_count": 29,
   "metadata": {
    "ExecuteTime": {
     "end_time": "2019-11-15T17:10:41.841802Z",
     "start_time": "2019-11-15T17:10:41.832650Z"
    },
    "colab": {},
    "colab_type": "code",
    "id": "CWPqsQfFwwVe"
   },
   "outputs": [],
   "source": [
    "import torchvision as tv\n",
    "import time\n",
    "import matplotlib.pyplot as plt\n",
    "%matplotlib inline"
   ]
  },
  {
   "cell_type": "code",
   "execution_count": 30,
   "metadata": {
    "ExecuteTime": {
     "end_time": "2019-11-15T17:10:43.319271Z",
     "start_time": "2019-11-15T17:10:43.316344Z"
    },
    "colab": {},
    "colab_type": "code",
    "id": "kyRHaE2rwwVf"
   },
   "outputs": [],
   "source": [
    "BATCH_SIZE=256"
   ]
  },
  {
   "cell_type": "code",
   "execution_count": 31,
   "metadata": {
    "ExecuteTime": {
     "end_time": "2019-11-15T17:10:45.585523Z",
     "start_time": "2019-11-15T17:10:45.509590Z"
    },
    "colab": {
     "base_uri": "https://localhost:8080/",
     "height": 249
    },
    "colab_type": "code",
    "id": "UcX_rUpBwwVg",
    "outputId": "ee8a2bf5-c135-48a9-d7aa-a1aa05e5862f"
   },
   "outputs": [
    {
     "name": "stdout",
     "output_type": "stream",
     "text": [
      "Downloading http://yann.lecun.com/exdb/mnist/train-images-idx3-ubyte.gz to .\\MNIST\\raw\\train-images-idx3-ubyte.gz\n"
     ]
    },
    {
     "data": {
      "application/vnd.jupyter.widget-view+json": {
       "model_id": "765699f2c1a24c549e1bda8a68da42a5",
       "version_major": 2,
       "version_minor": 0
      },
      "text/plain": [
       "HBox(children=(IntProgress(value=1, bar_style='info', max=1), HTML(value='')))"
      ]
     },
     "metadata": {},
     "output_type": "display_data"
    },
    {
     "name": "stdout",
     "output_type": "stream",
     "text": [
      "\n",
      "Extracting .\\MNIST\\raw\\train-images-idx3-ubyte.gz to .\\MNIST\\raw\n",
      "Downloading http://yann.lecun.com/exdb/mnist/train-labels-idx1-ubyte.gz to .\\MNIST\\raw\\train-labels-idx1-ubyte.gz\n"
     ]
    },
    {
     "data": {
      "application/vnd.jupyter.widget-view+json": {
       "model_id": "42a9af5d86044eef8cbb02d117aae7cf",
       "version_major": 2,
       "version_minor": 0
      },
      "text/plain": [
       "HBox(children=(IntProgress(value=1, bar_style='info', max=1), HTML(value='')))"
      ]
     },
     "metadata": {},
     "output_type": "display_data"
    },
    {
     "name": "stdout",
     "output_type": "stream",
     "text": [
      "\n",
      "Extracting .\\MNIST\\raw\\train-labels-idx1-ubyte.gz to .\\MNIST\\raw\n",
      "Downloading http://yann.lecun.com/exdb/mnist/t10k-images-idx3-ubyte.gz to .\\MNIST\\raw\\t10k-images-idx3-ubyte.gz\n"
     ]
    },
    {
     "data": {
      "application/vnd.jupyter.widget-view+json": {
       "model_id": "cfb41ab0176048a3a46d582cdc8871ba",
       "version_major": 2,
       "version_minor": 0
      },
      "text/plain": [
       "HBox(children=(IntProgress(value=1, bar_style='info', max=1), HTML(value='')))"
      ]
     },
     "metadata": {},
     "output_type": "display_data"
    },
    {
     "name": "stdout",
     "output_type": "stream",
     "text": [
      "\n",
      "Extracting .\\MNIST\\raw\\t10k-images-idx3-ubyte.gz to .\\MNIST\\raw\n",
      "Downloading http://yann.lecun.com/exdb/mnist/t10k-labels-idx1-ubyte.gz to .\\MNIST\\raw\\t10k-labels-idx1-ubyte.gz\n"
     ]
    },
    {
     "data": {
      "application/vnd.jupyter.widget-view+json": {
       "model_id": "fe3cf651b7bc418a964f8e5ce966328f",
       "version_major": 2,
       "version_minor": 0
      },
      "text/plain": [
       "HBox(children=(IntProgress(value=1, bar_style='info', max=1), HTML(value='')))"
      ]
     },
     "metadata": {},
     "output_type": "display_data"
    },
    {
     "name": "stdout",
     "output_type": "stream",
     "text": [
      "\n",
      "Extracting .\\MNIST\\raw\\t10k-labels-idx1-ubyte.gz to .\\MNIST\\raw\n",
      "Processing...\n",
      "Done!\n"
     ]
    }
   ],
   "source": [
    "train_dataset = tv.datasets.MNIST('.', train=True, transform=tv.transforms.ToTensor(), download=True)\n",
    "test_dataset = tv.datasets.MNIST('.', train=False, transform=tv.transforms.ToTensor(), download=True)\n",
    "train_iter = torch.utils.data.DataLoader(train_dataset, batch_size=BATCH_SIZE)\n",
    "test_iter = torch.utils.data.DataLoader(test_dataset, batch_size=BATCH_SIZE)"
   ]
  },
  {
   "cell_type": "code",
   "execution_count": 32,
   "metadata": {
    "ExecuteTime": {
     "end_time": "2019-11-15T17:10:53.638259Z",
     "start_time": "2019-11-15T17:10:53.449630Z"
    },
    "colab": {
     "base_uri": "https://localhost:8080/",
     "height": 282
    },
    "colab_type": "code",
    "id": "RJPJjLRowwVh",
    "outputId": "f2f8b226-bc0d-46a8-a723-a2459381d115",
    "scrolled": false
   },
   "outputs": [
    {
     "data": {
      "text/plain": [
       "<matplotlib.image.AxesImage at 0x1bb1a38a630>"
      ]
     },
     "execution_count": 32,
     "metadata": {},
     "output_type": "execute_result"
    },
    {
     "data": {
      "image/png": "[encoded data removed]",
      "text/plain": [
       "<Figure size 432x288 with 1 Axes>"
      ]
     },
     "metadata": {
      "needs_background": "light"
     },
     "output_type": "display_data"
    }
   ],
   "source": [
    "plt.imshow(train_dataset[0][0].numpy().reshape(28,28), cmap='gray')"
   ]
  },
  {
   "cell_type": "code",
   "execution_count": 33,
   "metadata": {
    "ExecuteTime": {
     "end_time": "2019-11-15T17:14:10.331231Z",
     "start_time": "2019-11-15T17:14:10.321711Z"
    },
    "colab": {},
    "colab_type": "code",
    "id": "03bIaRblwwVi"
   },
   "outputs": [],
   "source": [
    "model = nn.Sequential(\n",
    "    nn.Conv2d(1, 6, kernel_size=5, padding=2),\n",
    "    nn.ReLU(),\n",
    "    nn.MaxPool2d(2, stride=2),\n",
    "    nn.Conv2d(6, 12, kernel_size=5),\n",
    "    nn.ReLU(),\n",
    "    nn.MaxPool2d(2, stride=2),\n",
    "    nn.Flatten(),\n",
    "    nn.Linear(300, 50),\n",
    "    nn.ReLU(),\n",
    "    nn.Linear(50, 10)\n",
    ")"
   ]
  },
  {
   "cell_type": "code",
   "execution_count": 34,
   "metadata": {
    "ExecuteTime": {
     "end_time": "2019-11-15T17:14:13.352347Z",
     "start_time": "2019-11-15T17:14:13.340760Z"
    },
    "colab": {
     "base_uri": "https://localhost:8080/",
     "height": 200
    },
    "colab_type": "code",
    "id": "BXvTFxX7wwVj",
    "outputId": "3784d1cc-f692-4ba6-9172-cb46d12883f1"
   },
   "outputs": [
    {
     "name": "stdout",
     "output_type": "stream",
     "text": [
      "torch.Size([1, 1, 28, 28])\n",
      "Layer Conv2d(1, 6, kernel_size=(5, 5), stride=(1, 1), padding=(2, 2)). X shape: torch.Size([1, 6, 28, 28])\n",
      "Layer ReLU(). X shape: torch.Size([1, 6, 28, 28])\n",
      "Layer MaxPool2d(kernel_size=2, stride=2, padding=0, dilation=1, ceil_mode=False). X shape: torch.Size([1, 6, 14, 14])\n",
      "Layer Conv2d(6, 12, kernel_size=(5, 5), stride=(1, 1)). X shape: torch.Size([1, 12, 10, 10])\n",
      "Layer ReLU(). X shape: torch.Size([1, 12, 10, 10])\n",
      "Layer MaxPool2d(kernel_size=2, stride=2, padding=0, dilation=1, ceil_mode=False). X shape: torch.Size([1, 12, 5, 5])\n",
      "Layer Flatten(). X shape: torch.Size([1, 300])\n",
      "Layer Linear(in_features=300, out_features=50, bias=True). X shape: torch.Size([1, 50])\n",
      "Layer ReLU(). X shape: torch.Size([1, 50])\n",
      "Layer Linear(in_features=50, out_features=10, bias=True). X shape: torch.Size([1, 10])\n"
     ]
    }
   ],
   "source": [
    "X = train_dataset[0][0]\n",
    "X = X.reshape(1, 1, 28, 28)\n",
    "print(X.shape)\n",
    "for l in model:\n",
    "    X = l(X)\n",
    "    print(\"Layer {}. X shape: {}\".format(l, X.shape))"
   ]
  },
  {
   "cell_type": "code",
   "execution_count": 417,
   "metadata": {
    "ExecuteTime": {
     "end_time": "2019-11-15T17:14:58.504350Z",
     "start_time": "2019-11-15T17:14:58.495676Z"
    },
    "colab": {
     "base_uri": "https://localhost:8080/",
     "height": 34
    },
    "colab_type": "code",
    "id": "j6_CkvdhwwVk",
    "outputId": "5113868e-6f5a-4ba9-a806-e6d2122a3945"
   },
   "outputs": [
    {
     "name": "stdout",
     "output_type": "stream",
     "text": [
      "torch.Size([1, 10])\n"
     ]
    }
   ],
   "source": [
    "X = train_dataset[0][0]\n",
    "X = X.reshape(1, 1, 28, 28)\n",
    "y = model(X)\n",
    "print(y.shape)"
   ]
  },
  {
   "cell_type": "code",
   "execution_count": 418,
   "metadata": {
    "ExecuteTime": {
     "end_time": "2019-11-15T17:16:30.193043Z",
     "start_time": "2019-11-15T17:16:30.187953Z"
    },
    "colab": {},
    "colab_type": "code",
    "id": "eT7GAboqwwVl"
   },
   "outputs": [],
   "source": [
    "def evaluate_accuracy(data_iter, net):\n",
    "    acc_sum, n = torch.Tensor([0]), 0\n",
    "    for X, y in data_iter:\n",
    "        acc_sum += (net(X).argmax(axis=1) == y).sum()\n",
    "        n += y.shape[0]\n",
    "    return acc_sum.item() / n"
   ]
  },
  {
   "cell_type": "code",
   "execution_count": 419,
   "metadata": {
    "ExecuteTime": {
     "end_time": "2019-11-15T17:17:42.565018Z",
     "start_time": "2019-11-15T17:17:42.555480Z"
    },
    "colab": {},
    "colab_type": "code",
    "id": "uHoUxdoAwwVm"
   },
   "outputs": [],
   "source": [
    "def train(net, train_iter, test_iter, trainer, num_epochs):\n",
    "    loss = nn.CrossEntropyLoss(reduction='sum')\n",
    "    for epoch in range(num_epochs):\n",
    "        train_l_sum, train_acc_sum, n, start = 0.0, 0.0, 0, time.time()\n",
    "        for X, y in train_iter:\n",
    "            trainer.zero_grad()\n",
    "            y_hat = net(X)\n",
    "            l = loss(y_hat, y)\n",
    "            l.backward()\n",
    "            trainer.step()\n",
    "            train_l_sum += l.item()\n",
    "            train_acc_sum += (y_hat.argmax(axis=1) == y).sum().item()\n",
    "            n += y.shape[0]\n",
    "        test_acc = evaluate_accuracy(test_iter, net)\n",
    "        print('epoch %d, loss %.4f, train acc %.3f, test acc %.3f, '\n",
    "              'time %.1f sec'\n",
    "              % (epoch + 1, train_l_sum / n, train_acc_sum / n, test_acc,\n",
    "                 time.time() - start))"
   ]
  },
  {
   "cell_type": "code",
   "execution_count": 420,
   "metadata": {
    "ExecuteTime": {
     "end_time": "2019-11-15T17:18:25.814703Z",
     "start_time": "2019-11-15T17:17:49.114510Z"
    },
    "colab": {},
    "colab_type": "code",
    "id": "qRiMJlYhwwVm",
    "outputId": "32441310-5d91-4d07-bb89-67dbd9926aac"
   },
   "outputs": [
    {
     "name": "stdout",
     "output_type": "stream",
     "text": [
      "epoch 1, loss 0.6805, train acc 0.782, test acc 0.938, time 14.5 sec\n",
      "epoch 2, loss 0.1257, train acc 0.961, test acc 0.961, time 14.7 sec\n"
     ]
    },
    {
     "ename": "KeyboardInterrupt",
     "evalue": "",
     "output_type": "error",
     "traceback": [
      "\u001b[0;31m---------------------------------------------------------------------------\u001b[0m",
      "\u001b[0;31mKeyboardInterrupt\u001b[0m                         Traceback (most recent call last)",
      "\u001b[0;32m<ipython-input-420-07810d4710bf>\u001b[0m in \u001b[0;36m<module>\u001b[0;34m\u001b[0m\n\u001b[1;32m      1\u001b[0m \u001b[0mlr\u001b[0m\u001b[0;34m,\u001b[0m \u001b[0mnum_epochs\u001b[0m \u001b[0;34m=\u001b[0m \u001b[0;36m0.001\u001b[0m\u001b[0;34m,\u001b[0m \u001b[0;36m5\u001b[0m\u001b[0;34m\u001b[0m\u001b[0;34m\u001b[0m\u001b[0m\n\u001b[1;32m      2\u001b[0m \u001b[0mtrainer\u001b[0m \u001b[0;34m=\u001b[0m \u001b[0mtorch\u001b[0m\u001b[0;34m.\u001b[0m\u001b[0moptim\u001b[0m\u001b[0;34m.\u001b[0m\u001b[0mSGD\u001b[0m\u001b[0;34m(\u001b[0m\u001b[0mmodel\u001b[0m\u001b[0;34m.\u001b[0m\u001b[0mparameters\u001b[0m\u001b[0;34m(\u001b[0m\u001b[0;34m)\u001b[0m\u001b[0;34m,\u001b[0m \u001b[0mlr\u001b[0m\u001b[0;34m=\u001b[0m\u001b[0mlr\u001b[0m\u001b[0;34m)\u001b[0m\u001b[0;34m\u001b[0m\u001b[0;34m\u001b[0m\u001b[0m\n\u001b[0;32m----> 3\u001b[0;31m \u001b[0mtrain\u001b[0m\u001b[0;34m(\u001b[0m\u001b[0mmodel\u001b[0m\u001b[0;34m,\u001b[0m \u001b[0mtrain_iter\u001b[0m\u001b[0;34m,\u001b[0m \u001b[0mtest_iter\u001b[0m\u001b[0;34m,\u001b[0m \u001b[0mtrainer\u001b[0m\u001b[0;34m,\u001b[0m \u001b[0mnum_epochs\u001b[0m\u001b[0;34m)\u001b[0m\u001b[0;34m\u001b[0m\u001b[0;34m\u001b[0m\u001b[0m\n\u001b[0m",
      "\u001b[0;32m<ipython-input-419-ba18a4d79a9c>\u001b[0m in \u001b[0;36mtrain\u001b[0;34m(net, train_iter, test_iter, trainer, num_epochs)\u001b[0m\n\u001b[1;32m      7\u001b[0m             \u001b[0my_hat\u001b[0m \u001b[0;34m=\u001b[0m \u001b[0mnet\u001b[0m\u001b[0;34m(\u001b[0m\u001b[0mX\u001b[0m\u001b[0;34m)\u001b[0m\u001b[0;34m\u001b[0m\u001b[0;34m\u001b[0m\u001b[0m\n\u001b[1;32m      8\u001b[0m             \u001b[0ml\u001b[0m \u001b[0;34m=\u001b[0m \u001b[0mloss\u001b[0m\u001b[0;34m(\u001b[0m\u001b[0my_hat\u001b[0m\u001b[0;34m,\u001b[0m \u001b[0my\u001b[0m\u001b[0;34m)\u001b[0m\u001b[0;34m\u001b[0m\u001b[0;34m\u001b[0m\u001b[0m\n\u001b[0;32m----> 9\u001b[0;31m             \u001b[0ml\u001b[0m\u001b[0;34m.\u001b[0m\u001b[0mbackward\u001b[0m\u001b[0;34m(\u001b[0m\u001b[0;34m)\u001b[0m\u001b[0;34m\u001b[0m\u001b[0;34m\u001b[0m\u001b[0m\n\u001b[0m\u001b[1;32m     10\u001b[0m             \u001b[0mtrainer\u001b[0m\u001b[0;34m.\u001b[0m\u001b[0mstep\u001b[0m\u001b[0;34m(\u001b[0m\u001b[0;34m)\u001b[0m\u001b[0;34m\u001b[0m\u001b[0;34m\u001b[0m\u001b[0m\n\u001b[1;32m     11\u001b[0m             \u001b[0mtrain_l_sum\u001b[0m \u001b[0;34m+=\u001b[0m \u001b[0ml\u001b[0m\u001b[0;34m.\u001b[0m\u001b[0mitem\u001b[0m\u001b[0;34m(\u001b[0m\u001b[0;34m)\u001b[0m\u001b[0;34m\u001b[0m\u001b[0;34m\u001b[0m\u001b[0m\n",
      "\u001b[0;32m~/anaconda3/lib/python3.7/site-packages/torch/tensor.py\u001b[0m in \u001b[0;36mbackward\u001b[0;34m(self, gradient, retain_graph, create_graph)\u001b[0m\n\u001b[1;32m    118\u001b[0m                 \u001b[0mproducts\u001b[0m\u001b[0;34m.\u001b[0m \u001b[0mDefaults\u001b[0m \u001b[0mto\u001b[0m\u001b[0;31m \u001b[0m\u001b[0;31m`\u001b[0m\u001b[0;31m`\u001b[0m\u001b[0;32mFalse\u001b[0m\u001b[0;31m`\u001b[0m\u001b[0;31m`\u001b[0m\u001b[0;34m.\u001b[0m\u001b[0;34m\u001b[0m\u001b[0;34m\u001b[0m\u001b[0m\n\u001b[1;32m    119\u001b[0m         \"\"\"\n\u001b[0;32m--> 120\u001b[0;31m         \u001b[0mtorch\u001b[0m\u001b[0;34m.\u001b[0m\u001b[0mautograd\u001b[0m\u001b[0;34m.\u001b[0m\u001b[0mbackward\u001b[0m\u001b[0;34m(\u001b[0m\u001b[0mself\u001b[0m\u001b[0;34m,\u001b[0m \u001b[0mgradient\u001b[0m\u001b[0;34m,\u001b[0m \u001b[0mretain_graph\u001b[0m\u001b[0;34m,\u001b[0m \u001b[0mcreate_graph\u001b[0m\u001b[0;34m)\u001b[0m\u001b[0;34m\u001b[0m\u001b[0;34m\u001b[0m\u001b[0m\n\u001b[0m\u001b[1;32m    121\u001b[0m \u001b[0;34m\u001b[0m\u001b[0m\n\u001b[1;32m    122\u001b[0m     \u001b[0;32mdef\u001b[0m \u001b[0mregister_hook\u001b[0m\u001b[0;34m(\u001b[0m\u001b[0mself\u001b[0m\u001b[0;34m,\u001b[0m \u001b[0mhook\u001b[0m\u001b[0;34m)\u001b[0m\u001b[0;34m:\u001b[0m\u001b[0;34m\u001b[0m\u001b[0;34m\u001b[0m\u001b[0m\n",
      "\u001b[0;32m~/anaconda3/lib/python3.7/site-packages/torch/autograd/__init__.py\u001b[0m in \u001b[0;36mbackward\u001b[0;34m(tensors, grad_tensors, retain_graph, create_graph, grad_variables)\u001b[0m\n\u001b[1;32m     97\u001b[0m     Variable._execution_engine.run_backward(\n\u001b[1;32m     98\u001b[0m         \u001b[0mtensors\u001b[0m\u001b[0;34m,\u001b[0m \u001b[0mgrad_tensors\u001b[0m\u001b[0;34m,\u001b[0m \u001b[0mretain_graph\u001b[0m\u001b[0;34m,\u001b[0m \u001b[0mcreate_graph\u001b[0m\u001b[0;34m,\u001b[0m\u001b[0;34m\u001b[0m\u001b[0;34m\u001b[0m\u001b[0m\n\u001b[0;32m---> 99\u001b[0;31m         allow_unreachable=True)  # allow_unreachable flag\n\u001b[0m\u001b[1;32m    100\u001b[0m \u001b[0;34m\u001b[0m\u001b[0m\n\u001b[1;32m    101\u001b[0m \u001b[0;34m\u001b[0m\u001b[0m\n",
      "\u001b[0;31mKeyboardInterrupt\u001b[0m: "
     ]
    }
   ],
   "source": [
    "lr, num_epochs = 0.001, 5\n",
    "trainer = torch.optim.SGD(model.parameters(), lr=lr)\n",
    "train(model, train_iter, test_iter, trainer, num_epochs)"
   ]
  },
  {
   "cell_type": "markdown",
   "metadata": {
    "colab_type": "text",
    "id": "VCfAmvJPw45A"
   },
   "source": [
    "## Обучение на GPU"
   ]
  },
  {
   "cell_type": "code",
   "execution_count": 320,
   "metadata": {
    "ExecuteTime": {
     "end_time": "2019-11-14T21:43:43.967577Z",
     "start_time": "2019-11-14T21:43:43.963101Z"
    },
    "colab": {},
    "colab_type": "code",
    "id": "AXokXQUzw6Lr"
   },
   "outputs": [],
   "source": [
    "dev = torch.device(\"cuda\") if torch.cuda.is_available() else torch.device(\"cpu\")"
   ]
  },
  {
   "cell_type": "code",
   "execution_count": 321,
   "metadata": {
    "ExecuteTime": {
     "end_time": "2019-11-14T21:43:43.977459Z",
     "start_time": "2019-11-14T21:43:43.970316Z"
    },
    "colab": {
     "base_uri": "https://localhost:8080/",
     "height": 34
    },
    "colab_type": "code",
    "id": "xLQMfiFVxRfv",
    "outputId": "4abcca57-4e9f-46cc-9963-4c221f293080"
   },
   "outputs": [
    {
     "data": {
      "text/plain": [
       "device(type='cpu')"
      ]
     },
     "execution_count": 321,
     "metadata": {},
     "output_type": "execute_result"
    }
   ],
   "source": [
    "dev"
   ]
  },
  {
   "cell_type": "code",
   "execution_count": 322,
   "metadata": {
    "ExecuteTime": {
     "end_time": "2019-11-14T21:43:43.987680Z",
     "start_time": "2019-11-14T21:43:43.982555Z"
    },
    "colab": {},
    "colab_type": "code",
    "id": "3DSc7YPtxClu"
   },
   "outputs": [],
   "source": [
    "model = model.to(dev)"
   ]
  },
  {
   "cell_type": "code",
   "execution_count": 323,
   "metadata": {
    "ExecuteTime": {
     "end_time": "2019-11-14T21:43:44.003390Z",
     "start_time": "2019-11-14T21:43:43.991202Z"
    },
    "colab": {},
    "colab_type": "code",
    "id": "1kAS0WRUxQU9"
   },
   "outputs": [],
   "source": [
    "def train(net, train_iter, test_iter, trainer, num_epochs, dev):\n",
    "    loss = nn.CrossEntropyLoss(reduction='sum')\n",
    "    for epoch in range(num_epochs):\n",
    "        train_l_sum, train_acc_sum, n, start = 0.0, 0.0, 0, time.time()\n",
    "        for X, y in train_iter:\n",
    "            trainer.zero_grad()\n",
    "            X, y = X.to(dev), y.to(dev)\n",
    "            y_hat = net(X)\n",
    "            l = loss(y_hat, y)\n",
    "            l.backward()\n",
    "            trainer.step()\n",
    "            train_l_sum += l.item()\n",
    "            train_acc_sum += (y_hat.argmax(axis=1) == y).sum().item()\n",
    "            n += y.shape[0]\n",
    "        test_acc = evaluate_accuracy(test_iter, net, dev)\n",
    "        print('epoch %d, loss %.4f, train acc %.3f, test acc %.3f, '\n",
    "              'time %.1f sec'\n",
    "              % (epoch + 1, train_l_sum / n, train_acc_sum / n, test_acc,\n",
    "                 time.time() - start))"
   ]
  },
  {
   "cell_type": "code",
   "execution_count": 324,
   "metadata": {
    "ExecuteTime": {
     "end_time": "2019-11-14T21:43:44.014332Z",
     "start_time": "2019-11-14T21:43:44.006081Z"
    },
    "colab": {},
    "colab_type": "code",
    "id": "luDfZTfjxX3j"
   },
   "outputs": [],
   "source": [
    "def evaluate_accuracy(data_iter, net, dev):\n",
    "    acc_sum, n = torch.Tensor([0]).to(dev), 0\n",
    "    for X, y in data_iter:\n",
    "        X, y = X.to(dev), y.to(dev)\n",
    "        acc_sum += (net(X).argmax(axis=1) == y).sum()\n",
    "        n += y.shape[0]\n",
    "    return acc_sum.item() / n"
   ]
  },
  {
   "cell_type": "code",
   "execution_count": 325,
   "metadata": {
    "ExecuteTime": {
     "end_time": "2019-11-14T21:44:50.015770Z",
     "start_time": "2019-11-14T21:43:44.017767Z"
    },
    "colab": {
     "base_uri": "https://localhost:8080/",
     "height": 100
    },
    "colab_type": "code",
    "id": "gRP8hgY1xedj",
    "outputId": "2804178b-cf8d-4910-c930-1d927810e755"
   },
   "outputs": [
    {
     "name": "stdout",
     "output_type": "stream",
     "text": [
      "epoch 1, loss 0.0532, train acc 0.983, test acc 0.982, time 13.3 sec\n",
      "epoch 2, loss 0.0478, train acc 0.985, test acc 0.983, time 13.2 sec\n",
      "epoch 3, loss 0.0433, train acc 0.987, test acc 0.984, time 13.6 sec\n",
      "epoch 4, loss 0.0394, train acc 0.988, test acc 0.984, time 13.0 sec\n",
      "epoch 5, loss 0.0360, train acc 0.989, test acc 0.985, time 12.9 sec\n"
     ]
    }
   ],
   "source": [
    "lr, num_epochs = 0.001, 5\n",
    "trainer = torch.optim.SGD(model.parameters(), lr=lr)\n",
    "train(model, train_iter, test_iter, trainer, num_epochs, dev)"
   ]
  },
  {
   "cell_type": "code",
   "execution_count": null,
   "metadata": {},
   "outputs": [],
   "source": []
  }
 ],
 "metadata": {
  "accelerator": "GPU",
  "colab": {
   "name": "Материалы.ipynb",
   "provenance": []
  },
  "kernelspec": {
   "display_name": "Python 3",
   "language": "python",
   "name": "python3"
  },
  "language_info": {
   "codemirror_mode": {
    "name": "ipython",
    "version": 3
   },
   "file_extension": ".py",
   "mimetype": "text/x-python",
   "name": "python",
   "nbconvert_exporter": "python",
   "pygments_lexer": "ipython3",
   "version": "3.7.3"
  }
 },
 "nbformat": 4,
 "nbformat_minor": 2
}
